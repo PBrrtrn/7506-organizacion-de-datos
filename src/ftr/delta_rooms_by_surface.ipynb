{
 "cells": [
  {
   "cell_type": "code",
   "execution_count": 66,
   "metadata": {
    "scrolled": false
   },
   "outputs": [],
   "source": [
    "import pandas as pd\n",
    "import numpy as np\n",
    "from statistics import mean\n",
    "\n",
    "pd.set_option('display.max_columns', 30)\n",
    "\n",
    "types = {'id': int, 'descripcion': str, 'tipodepropiedad': str, 'habitaciones': np.float32,\n",
    "        'garages':np.float32, 'idzona': np.float32, 'banos': np.float64, 'metroscubiertos': np.float64, 'metrostotales': np.float64,\n",
    "        'gimnasio': int, 'usosmultiples': int, 'piscina': int, 'escuelascercanas': int,\n",
    "        'centroscomercialescercanos': int, 'precio':int}\n",
    "\n",
    "training_data = pd.read_csv('../../data/TP2/train.csv', dtype = types, usecols=['id', 'ciudad', 'metroscubiertos', 'metrostotales', 'habitaciones', 'garages', 'banos'])\n",
    "evaluation_data = pd.read_csv('../../data/TP2/test.csv', dtype = types, usecols=['id', 'ciudad', 'metroscubiertos', 'metrostotales', 'habitaciones', 'garages', 'banos'])"
   ]
  },
  {
   "cell_type": "markdown",
   "metadata": {},
   "source": [
    "##### SI LOS METROS CUBIERTOS SON MAS QUE LOS TOTALES; LOS INVIERTO"
   ]
  },
  {
   "cell_type": "code",
   "execution_count": 67,
   "metadata": {},
   "outputs": [],
   "source": [
    "training_data.loc[training_data.metroscubiertos>training_data.metrostotales, 'metroscub'] = training_data.metrostotales\n",
    "training_data.loc[training_data.metroscubiertos>training_data.metrostotales, 'metrostotales'] = training_data.metroscubiertos\n",
    "training_data.loc[training_data.metroscubiertos>training_data.metrostotales, 'metroscubiertos'] = training_data.metroscub\n",
    "\n",
    "evaluation_data.loc[evaluation_data.metroscubiertos>evaluation_data.metrostotales, 'metroscub'] = evaluation_data.metrostotales\n",
    "evaluation_data.loc[evaluation_data.metroscubiertos>evaluation_data.metrostotales, 'metrostotales'] = evaluation_data.metroscubiertos\n",
    "evaluation_data.loc[evaluation_data.metroscubiertos>evaluation_data.metrostotales, 'metroscubiertos'] = evaluation_data.metroscub"
   ]
  },
  {
   "cell_type": "code",
   "execution_count": 68,
   "metadata": {
    "scrolled": true
   },
   "outputs": [],
   "source": [
    "mtscub_por_ciudad = training_data.groupby('ciudad').agg({'metroscubiertos':'mean'}).reset_index().rename(columns={'metroscubiertos':'mts_ciudad'})\n",
    "\n",
    "meanmts=mtscub_por_ciudad.mts_ciudad.mean()\n",
    "mtscub_por_ciudad.mts_ciudad.fillna(meanmts,inplace=True)\n",
    "\n",
    "training_data = pd.merge(training_data,mtscub_por_ciudad, on='ciudad', how='left')\n",
    "training_data.mts_ciudad.fillna(meanmts,inplace=True)\n",
    "training_data.metroscubiertos.fillna(training_data.mts_ciudad, inplace=True)\n",
    "\n",
    "training_data['mtscub']=pd.cut(training_data.metroscubiertos,[14,30,50,80,110,150,200,250,350,440], labels=False, precision = 1, include_lowest=True)\n",
    "\n",
    "evaluation_data = pd.merge(evaluation_data,mtscub_por_ciudad, on='ciudad', how='left')\n",
    "evaluation_data.mts_ciudad.fillna(meanmts,inplace=True)\n",
    "evaluation_data.metroscubiertos.fillna(evaluation_data.mts_ciudad, inplace=True)\n",
    "\n",
    "evaluation_data['mtscub']=pd.cut(evaluation_data.metroscubiertos,[14,30,50,80,110,150,200,250,350,440], labels=False, precision = 1, include_lowest=True)"
   ]
  },
  {
   "cell_type": "code",
   "execution_count": 69,
   "metadata": {},
   "outputs": [],
   "source": [
    "ambientes = training_data.groupby('mtscub').agg({'habitaciones':'median','garages':'median','banos':'median'}).reset_index().rename(columns={'habitaciones':'mean_hab','garages':'mean_gar','banos':'mean_ban'})"
   ]
  },
  {
   "cell_type": "code",
   "execution_count": 70,
   "metadata": {},
   "outputs": [],
   "source": [
    "training_data = pd.merge(training_data,ambientes,on='mtscub', how='left')\n",
    "training_data.habitaciones.fillna(training_data.mean_hab,inplace=True)\n",
    "training_data.garages.fillna(training_data.mean_gar,inplace=True)\n",
    "training_data.banos.fillna(training_data.mean_ban,inplace=True)\n",
    "\n",
    "evaluation_data = pd.merge(evaluation_data,ambientes,on='mtscub', how='left')\n",
    "evaluation_data.habitaciones.fillna(evaluation_data.mean_hab,inplace=True)\n",
    "evaluation_data.garages.fillna(evaluation_data.mean_gar,inplace=True)\n",
    "evaluation_data.banos.fillna(evaluation_data.mean_ban,inplace=True)"
   ]
  },
  {
   "cell_type": "code",
   "execution_count": 73,
   "metadata": {},
   "outputs": [],
   "source": [
    "training_data['delta_hab'] = training_data.habitaciones - training_data.mean_hab\n",
    "training_data['delta_gar'] = training_data.garages - training_data.mean_gar\n",
    "training_data['delta_ban'] = training_data.banos - training_data.mean_ban\n",
    "\n",
    "evaluation_data['delta_hab'] = evaluation_data.habitaciones - evaluation_data.mean_hab\n",
    "evaluation_data['delta_gar'] = evaluation_data.garages - evaluation_data.mean_gar\n",
    "evaluation_data['delta_ban'] = evaluation_data.banos - evaluation_data.mean_ban"
   ]
  },
  {
   "cell_type": "code",
   "execution_count": 75,
   "metadata": {},
   "outputs": [],
   "source": [
    "training_data = training_data[['delta_hab','delta_gar','delta_ban']]\n",
    "evaluation_data = evaluation_data[['delta_hab','delta_gar','delta_ban']]"
   ]
  },
  {
   "cell_type": "code",
   "execution_count": 77,
   "metadata": {},
   "outputs": [],
   "source": [
    "training_data.to_csv('../../res/ftr/delta_rooms_by_surface_train.csv')\n",
    "evaluation_data.to_csv('../../res/ftr/delta_rooms_by_surface_evaluation.csv')"
   ]
  },
  {
   "cell_type": "code",
   "execution_count": null,
   "metadata": {},
   "outputs": [],
   "source": []
  }
 ],
 "metadata": {
  "kernelspec": {
   "display_name": "Python 3",
   "language": "python",
   "name": "python3"
  },
  "language_info": {
   "codemirror_mode": {
    "name": "ipython",
    "version": 3
   },
   "file_extension": ".py",
   "mimetype": "text/x-python",
   "name": "python",
   "nbconvert_exporter": "python",
   "pygments_lexer": "ipython3",
   "version": "3.7.3"
  }
 },
 "nbformat": 4,
 "nbformat_minor": 2
}
