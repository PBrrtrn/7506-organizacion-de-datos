{
 "cells": [
  {
   "cell_type": "code",
   "execution_count": 1,
   "metadata": {},
   "outputs": [],
   "source": [
    "import pandas as pd\n",
    "import numpy as np\n",
    "\n",
    "pd.set_option('display.max_columns', 30)\n",
    "types = {'id': int, 'ciudad':str, 'provincia': str}\n",
    "\n",
    "training_data = pd.read_csv('../../data/TP2/train.csv', dtype = types, usecols=['id','provincia','ciudad','idzona','metrostotales','precio'])\n",
    "evaluation_data = pd.read_csv('../../data/TP2/test.csv',dtype = types, usecols=['id','provincia','ciudad','idzona','lat','lng'])"
   ]
  },
  {
   "cell_type": "code",
   "execution_count": 2,
   "metadata": {},
   "outputs": [
    {
     "data": {
      "text/plain": [
       "14317.519170109566"
      ]
     },
     "execution_count": 2,
     "metadata": {},
     "output_type": "execute_result"
    }
   ],
   "source": [
    "training_data.precio.mean()/training_data.metrostotales.mean()"
   ]
  },
  {
   "cell_type": "raw",
   "metadata": {},
   "source": [
    "LLENO NULLS EN METROSTOTALES"
   ]
  },
  {
   "cell_type": "code",
   "execution_count": 3,
   "metadata": {},
   "outputs": [],
   "source": [
    "metros_ciudad = training_data.groupby('ciudad').agg({'metrostotales':'mean'}).reset_index().rename(columns={'metrostotales':'mts_ciudad'})\n",
    "\n",
    "meanmts=metros_ciudad.mts_ciudad.mean()\n",
    "metros_ciudad.mts_ciudad.fillna(meanmts,inplace=True)\n",
    "\n",
    "training_data = pd.merge(training_data,metros_ciudad, on='ciudad', how='right')"
   ]
  },
  {
   "cell_type": "code",
   "execution_count": 4,
   "metadata": {},
   "outputs": [
    {
     "name": "stdout",
     "output_type": "stream",
     "text": [
      "<class 'pandas.core.frame.DataFrame'>\n",
      "Int64Index: 239628 entries, 0 to 239627\n",
      "Data columns (total 7 columns):\n",
      "id               239628 non-null int32\n",
      "ciudad           239628 non-null object\n",
      "provincia        239628 non-null object\n",
      "metrostotales    239628 non-null float64\n",
      "idzona           211379 non-null float64\n",
      "precio           239628 non-null float64\n",
      "mts_ciudad       239628 non-null float64\n",
      "dtypes: float64(4), int32(1), object(2)\n",
      "memory usage: 13.7+ MB\n"
     ]
    }
   ],
   "source": [
    "training_data.metrostotales.fillna(training_data.mts_ciudad,inplace=True)\n",
    "training_data.info()"
   ]
  },
  {
   "cell_type": "raw",
   "metadata": {},
   "source": [
    "LLENO NULLS IDZONA y VEO QUE ZONAS TIENEN +5 PROPIEDADES"
   ]
  },
  {
   "cell_type": "code",
   "execution_count": 5,
   "metadata": {
    "scrolled": false
   },
   "outputs": [
    {
     "name": "stdout",
     "output_type": "stream",
     "text": [
      "<class 'pandas.core.frame.DataFrame'>\n",
      "RangeIndex: 19720 entries, 0 to 19719\n",
      "Data columns (total 2 columns):\n",
      "idzona     19720 non-null float64\n",
      "+5props    19720 non-null bool\n",
      "dtypes: bool(1), float64(1)\n",
      "memory usage: 173.4 KB\n"
     ]
    }
   ],
   "source": [
    "training_data.idzona.fillna(-1, inplace=True)\n",
    "props_zone = ((training_data.idzona.value_counts()>5).to_frame().reset_index()).rename(columns={'index':'idzona','idzona':'+5props'})\n",
    "props_zone.info()"
   ]
  },
  {
   "cell_type": "code",
   "execution_count": 6,
   "metadata": {},
   "outputs": [],
   "source": [
    "training_data.ciudad.fillna('no_city', inplace=True)"
   ]
  },
  {
   "cell_type": "raw",
   "metadata": {},
   "source": [
    "SACO PROMEDIO DE PRECIO DEL m2 POR CIUDAD (para las zonas con pocas propiedades)"
   ]
  },
  {
   "cell_type": "code",
   "execution_count": 7,
   "metadata": {},
   "outputs": [
    {
     "name": "stdout",
     "output_type": "stream",
     "text": [
      "<class 'pandas.core.frame.DataFrame'>\n",
      "RangeIndex: 875 entries, 0 to 874\n",
      "Data columns (total 2 columns):\n",
      "ciudad               875 non-null object\n",
      "precio_mts_ciudad    875 non-null float64\n",
      "dtypes: float64(1), object(1)\n",
      "memory usage: 13.8+ KB\n"
     ]
    }
   ],
   "source": [
    "precio_ciudad = training_data.groupby('ciudad').agg({'precio':'sum','metrostotales':'sum'}).reset_index()\n",
    "precio_ciudad['precio_mts_ciudad'] = precio_ciudad.precio/precio_ciudad.metrostotales\n",
    "precio_ciudad.drop(columns={'metrostotales','precio'},inplace=True)\n",
    "precio_ciudad.info()"
   ]
  },
  {
   "cell_type": "code",
   "execution_count": 8,
   "metadata": {},
   "outputs": [
    {
     "name": "stdout",
     "output_type": "stream",
     "text": [
      "<class 'pandas.core.frame.DataFrame'>\n",
      "Int64Index: 239628 entries, 0 to 239627\n",
      "Data columns (total 7 columns):\n",
      "id               239628 non-null int32\n",
      "ciudad           239628 non-null object\n",
      "provincia        239628 non-null object\n",
      "metrostotales    239628 non-null float64\n",
      "idzona           239628 non-null float64\n",
      "precio           239628 non-null float64\n",
      "mts_ciudad       239628 non-null float64\n",
      "dtypes: float64(4), int32(1), object(2)\n",
      "memory usage: 13.7+ MB\n"
     ]
    }
   ],
   "source": [
    "training_data.info()"
   ]
  },
  {
   "cell_type": "code",
   "execution_count": 9,
   "metadata": {
    "scrolled": true
   },
   "outputs": [
    {
     "name": "stdout",
     "output_type": "stream",
     "text": [
      "<class 'pandas.core.frame.DataFrame'>\n",
      "Int64Index: 239628 entries, 0 to 239627\n",
      "Data columns (total 9 columns):\n",
      "id                   239628 non-null int32\n",
      "ciudad               239628 non-null object\n",
      "provincia            239628 non-null object\n",
      "metrostotales        239628 non-null float64\n",
      "idzona               239628 non-null float64\n",
      "precio               239628 non-null float64\n",
      "mts_ciudad           239628 non-null float64\n",
      "+5props              239628 non-null bool\n",
      "precio_mts_ciudad    239628 non-null float64\n",
      "dtypes: bool(1), float64(5), int32(1), object(2)\n",
      "memory usage: 15.8+ MB\n"
     ]
    }
   ],
   "source": [
    "training_data = pd.merge(training_data,props_zone, on='idzona', how='right')\n",
    "training_data = pd.merge(training_data,precio_ciudad, on= 'ciudad', how='right')\n",
    "training_data.info()"
   ]
  },
  {
   "cell_type": "code",
   "execution_count": 16,
   "metadata": {},
   "outputs": [
    {
     "data": {
      "text/html": [
       "<div>\n",
       "<style scoped>\n",
       "    .dataframe tbody tr th:only-of-type {\n",
       "        vertical-align: middle;\n",
       "    }\n",
       "\n",
       "    .dataframe tbody tr th {\n",
       "        vertical-align: top;\n",
       "    }\n",
       "\n",
       "    .dataframe thead th {\n",
       "        text-align: right;\n",
       "    }\n",
       "</style>\n",
       "<table border=\"1\" class=\"dataframe\">\n",
       "  <thead>\n",
       "    <tr style=\"text-align: right;\">\n",
       "      <th></th>\n",
       "      <th>id</th>\n",
       "      <th>idzona</th>\n",
       "    </tr>\n",
       "  </thead>\n",
       "  <tbody>\n",
       "    <tr>\n",
       "      <th>239995</th>\n",
       "      <td>119879</td>\n",
       "      <td>53666.0</td>\n",
       "    </tr>\n",
       "    <tr>\n",
       "      <th>239996</th>\n",
       "      <td>259178</td>\n",
       "      <td>51954.0</td>\n",
       "    </tr>\n",
       "    <tr>\n",
       "      <th>239997</th>\n",
       "      <td>131932</td>\n",
       "      <td>50003995.0</td>\n",
       "    </tr>\n",
       "    <tr>\n",
       "      <th>239998</th>\n",
       "      <td>146867</td>\n",
       "      <td>24162.0</td>\n",
       "    </tr>\n",
       "    <tr>\n",
       "      <th>239999</th>\n",
       "      <td>121958</td>\n",
       "      <td>23750.0</td>\n",
       "    </tr>\n",
       "  </tbody>\n",
       "</table>\n",
       "</div>"
      ],
      "text/plain": [
       "            id      idzona\n",
       "239995  119879     53666.0\n",
       "239996  259178     51954.0\n",
       "239997  131932  50003995.0\n",
       "239998  146867     24162.0\n",
       "239999  121958     23750.0"
      ]
     },
     "execution_count": 16,
     "metadata": {},
     "output_type": "execute_result"
    }
   ],
   "source": [
    "training_data.tail()"
   ]
  },
  {
   "cell_type": "code",
   "execution_count": 11,
   "metadata": {},
   "outputs": [
    {
     "name": "stdout",
     "output_type": "stream",
     "text": [
      "<class 'pandas.core.frame.DataFrame'>\n",
      "RangeIndex: 19720 entries, 0 to 19719\n",
      "Data columns (total 6 columns):\n",
      "idzona               19720 non-null float64\n",
      "precio               19720 non-null float64\n",
      "metrostotales        19720 non-null float64\n",
      "+5props              19720 non-null bool\n",
      "precio_mts_ciudad    19720 non-null float64\n",
      "precio_por_metro     19720 non-null float64\n",
      "dtypes: bool(1), float64(5)\n",
      "memory usage: 789.6 KB\n"
     ]
    }
   ],
   "source": [
    "precio_zona = training_data.groupby('idzona').agg({'precio':'sum','metrostotales':'sum','+5props':'median','precio_mts_ciudad':'mean'}).reset_index()\n",
    "precio_zona.loc[precio_zona['+5props'], 'precio_por_metro'] = precio_zona.precio/precio_zona.metrostotales\n",
    "precio_zona.loc[~(precio_zona['+5props']), 'precio_por_metro'] = precio_zona.precio_mts_ciudad\n",
    "precio_zona.info()"
   ]
  },
  {
   "cell_type": "code",
   "execution_count": 12,
   "metadata": {},
   "outputs": [],
   "source": [
    "precio_zona = precio_zona[['idzona','precio_por_metro']]"
   ]
  },
  {
   "cell_type": "code",
   "execution_count": 13,
   "metadata": {},
   "outputs": [
    {
     "data": {
      "text/html": [
       "<div>\n",
       "<style scoped>\n",
       "    .dataframe tbody tr th:only-of-type {\n",
       "        vertical-align: middle;\n",
       "    }\n",
       "\n",
       "    .dataframe tbody tr th {\n",
       "        vertical-align: top;\n",
       "    }\n",
       "\n",
       "    .dataframe thead th {\n",
       "        text-align: right;\n",
       "    }\n",
       "</style>\n",
       "<table border=\"1\" class=\"dataframe\">\n",
       "  <thead>\n",
       "    <tr style=\"text-align: right;\">\n",
       "      <th></th>\n",
       "      <th>idzona</th>\n",
       "      <th>precio_por_metro</th>\n",
       "    </tr>\n",
       "  </thead>\n",
       "  <tbody>\n",
       "    <tr>\n",
       "      <th>0</th>\n",
       "      <td>-1.0</td>\n",
       "      <td>12110.166717</td>\n",
       "    </tr>\n",
       "    <tr>\n",
       "      <th>1</th>\n",
       "      <td>22.0</td>\n",
       "      <td>25368.514320</td>\n",
       "    </tr>\n",
       "    <tr>\n",
       "      <th>2</th>\n",
       "      <td>23.0</td>\n",
       "      <td>8060.561494</td>\n",
       "    </tr>\n",
       "    <tr>\n",
       "      <th>3</th>\n",
       "      <td>26.0</td>\n",
       "      <td>5430.679406</td>\n",
       "    </tr>\n",
       "    <tr>\n",
       "      <th>4</th>\n",
       "      <td>27.0</td>\n",
       "      <td>8758.432621</td>\n",
       "    </tr>\n",
       "  </tbody>\n",
       "</table>\n",
       "</div>"
      ],
      "text/plain": [
       "   idzona  precio_por_metro\n",
       "0    -1.0      12110.166717\n",
       "1    22.0      25368.514320\n",
       "2    23.0       8060.561494\n",
       "3    26.0       5430.679406\n",
       "4    27.0       8758.432621"
      ]
     },
     "execution_count": 13,
     "metadata": {},
     "output_type": "execute_result"
    }
   ],
   "source": [
    "precio_zona.head()"
   ]
  },
  {
   "cell_type": "code",
   "execution_count": 195,
   "metadata": {},
   "outputs": [],
   "source": [
    "###precio_zona.to_csv('../../res/ftr/precio_por_metro_idzona.csv')"
   ]
  },
  {
   "cell_type": "code",
   "execution_count": 48,
   "metadata": {
    "scrolled": true
   },
   "outputs": [],
   "source": [
    "training_data = pd.read_csv('../../data/TP2/train.csv', dtype = types, usecols=['id','idzona','ciudad'])\n",
    "evaluation_data = pd.read_csv('../../data/TP2/test.csv',dtype = types, usecols=['id','idzona','ciudad'])\n",
    "\n",
    "training_data.idzona.fillna(-1, inplace=True)\n",
    "evaluation_data.idzona.fillna(-1, inplace=True)\n"
   ]
  },
  {
   "cell_type": "code",
   "execution_count": 49,
   "metadata": {},
   "outputs": [],
   "source": [
    "evaluation_data=pd.merge(evaluation_data,precio_zona,on='idzona',how='left')\n",
    "evaluation_data=pd.merge(evaluation_data,precio_ciudad,on='ciudad',how='left')\n",
    "\n",
    "evaluation_data.precio_mts_ciudad.fillna(evaluation_data.precio_mts_ciudad.mean(),inplace=True)\n",
    "evaluation_data.precio_por_metro.fillna(evaluation_data.precio_mts_ciudad,inplace=True)\n",
    "\n",
    "\n",
    "training_data=pd.merge(training_data,precio_zona,on='idzona',how='left')\n",
    "training_data=pd.merge(training_data,precio_ciudad,on='ciudad',how='left')\n",
    "\n",
    "training_data.precio_mts_ciudad.fillna(training_data.precio_mts_ciudad.mean(),inplace=True)\n",
    "training_data.precio_por_metro.fillna(training_data.precio_mts_ciudad,inplace=True)"
   ]
  },
  {
   "cell_type": "code",
   "execution_count": 50,
   "metadata": {},
   "outputs": [],
   "source": [
    "training_data = training_data[['id','precio_por_metro']]\n",
    "evaluation_data = evaluation_data[['id','precio_por_metro']]"
   ]
  },
  {
   "cell_type": "code",
   "execution_count": 53,
   "metadata": {},
   "outputs": [
    {
     "data": {
      "text/html": [
       "<div>\n",
       "<style scoped>\n",
       "    .dataframe tbody tr th:only-of-type {\n",
       "        vertical-align: middle;\n",
       "    }\n",
       "\n",
       "    .dataframe tbody tr th {\n",
       "        vertical-align: top;\n",
       "    }\n",
       "\n",
       "    .dataframe thead th {\n",
       "        text-align: right;\n",
       "    }\n",
       "</style>\n",
       "<table border=\"1\" class=\"dataframe\">\n",
       "  <thead>\n",
       "    <tr style=\"text-align: right;\">\n",
       "      <th></th>\n",
       "      <th>id</th>\n",
       "      <th>precio_por_metro</th>\n",
       "    </tr>\n",
       "  </thead>\n",
       "  <tbody>\n",
       "    <tr>\n",
       "      <th>0</th>\n",
       "      <td>254099</td>\n",
       "      <td>23256.837144</td>\n",
       "    </tr>\n",
       "    <tr>\n",
       "      <th>1</th>\n",
       "      <td>53461</td>\n",
       "      <td>15614.908380</td>\n",
       "    </tr>\n",
       "    <tr>\n",
       "      <th>2</th>\n",
       "      <td>247984</td>\n",
       "      <td>8441.101152</td>\n",
       "    </tr>\n",
       "    <tr>\n",
       "      <th>3</th>\n",
       "      <td>209067</td>\n",
       "      <td>9857.301547</td>\n",
       "    </tr>\n",
       "    <tr>\n",
       "      <th>4</th>\n",
       "      <td>185997</td>\n",
       "      <td>13804.584787</td>\n",
       "    </tr>\n",
       "  </tbody>\n",
       "</table>\n",
       "</div>"
      ],
      "text/plain": [
       "       id  precio_por_metro\n",
       "0  254099      23256.837144\n",
       "1   53461      15614.908380\n",
       "2  247984       8441.101152\n",
       "3  209067       9857.301547\n",
       "4  185997      13804.584787"
      ]
     },
     "execution_count": 53,
     "metadata": {},
     "output_type": "execute_result"
    }
   ],
   "source": [
    "training_data.head()"
   ]
  },
  {
   "cell_type": "code",
   "execution_count": 54,
   "metadata": {},
   "outputs": [],
   "source": [
    "training_data.to_csv('../../res/ftr/precio_por_idzona_train.csv')\n",
    "evaluation_data.to_csv('../../res/ftr/precio_por_idzona_evaluation.csv')"
   ]
  },
  {
   "cell_type": "code",
   "execution_count": null,
   "metadata": {},
   "outputs": [],
   "source": []
  }
 ],
 "metadata": {
  "kernelspec": {
   "display_name": "Python 3",
   "language": "python",
   "name": "python3"
  },
  "language_info": {
   "codemirror_mode": {
    "name": "ipython",
    "version": 3
   },
   "file_extension": ".py",
   "mimetype": "text/x-python",
   "name": "python",
   "nbconvert_exporter": "python",
   "pygments_lexer": "ipython3",
   "version": "3.7.3"
  }
 },
 "nbformat": 4,
 "nbformat_minor": 2
}
