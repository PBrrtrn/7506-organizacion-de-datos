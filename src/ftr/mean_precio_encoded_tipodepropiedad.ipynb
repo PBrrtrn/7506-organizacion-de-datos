{
 "cells": [
  {
   "cell_type": "code",
   "execution_count": 1,
   "metadata": {},
   "outputs": [
    {
     "data": {
      "text/html": [
       "<div>\n",
       "<style scoped>\n",
       "    .dataframe tbody tr th:only-of-type {\n",
       "        vertical-align: middle;\n",
       "    }\n",
       "\n",
       "    .dataframe tbody tr th {\n",
       "        vertical-align: top;\n",
       "    }\n",
       "\n",
       "    .dataframe thead th {\n",
       "        text-align: right;\n",
       "    }\n",
       "</style>\n",
       "<table border=\"1\" class=\"dataframe\">\n",
       "  <thead>\n",
       "    <tr style=\"text-align: right;\">\n",
       "      <th></th>\n",
       "      <th>id</th>\n",
       "      <th>tipodepropiedad</th>\n",
       "      <th>precio</th>\n",
       "    </tr>\n",
       "  </thead>\n",
       "  <tbody>\n",
       "    <tr>\n",
       "      <td>0</td>\n",
       "      <td>254099</td>\n",
       "      <td>Apartamento</td>\n",
       "      <td>2273000.0</td>\n",
       "    </tr>\n",
       "    <tr>\n",
       "      <td>1</td>\n",
       "      <td>53461</td>\n",
       "      <td>Casa en condominio</td>\n",
       "      <td>3600000.0</td>\n",
       "    </tr>\n",
       "    <tr>\n",
       "      <td>2</td>\n",
       "      <td>247984</td>\n",
       "      <td>Casa</td>\n",
       "      <td>1200000.0</td>\n",
       "    </tr>\n",
       "    <tr>\n",
       "      <td>3</td>\n",
       "      <td>209067</td>\n",
       "      <td>Casa</td>\n",
       "      <td>650000.0</td>\n",
       "    </tr>\n",
       "    <tr>\n",
       "      <td>4</td>\n",
       "      <td>185997</td>\n",
       "      <td>Apartamento</td>\n",
       "      <td>1150000.0</td>\n",
       "    </tr>\n",
       "  </tbody>\n",
       "</table>\n",
       "</div>"
      ],
      "text/plain": [
       "       id     tipodepropiedad     precio\n",
       "0  254099         Apartamento  2273000.0\n",
       "1   53461  Casa en condominio  3600000.0\n",
       "2  247984                Casa  1200000.0\n",
       "3  209067                Casa   650000.0\n",
       "4  185997         Apartamento  1150000.0"
      ]
     },
     "execution_count": 1,
     "metadata": {},
     "output_type": "execute_result"
    }
   ],
   "source": [
    "import pandas as pd\n",
    "import numpy as np\n",
    "\n",
    "cols_train = ['id', 'tipodepropiedad', 'precio']\n",
    "cols_evaluation = ['id', 'tipodepropiedad']\n",
    "\n",
    "types = {'id': int, 'tipodepropiedad': str, 'precio': float}\n",
    "\n",
    "training_data = pd.read_csv('../../data/TP2/train.csv', usecols = cols_train, dtype = types)\n",
    "evaluation_data = pd.read_csv('../../data/TP2/test.csv', usecols = cols_evaluation, dtype = types)\n",
    "\n",
    "training_data.head()"
   ]
  },
  {
   "cell_type": "code",
   "execution_count": 2,
   "metadata": {},
   "outputs": [
    {
     "data": {
      "text/plain": [
       "{'Apartamento': 2763768.662248653,\n",
       " 'Bodega comercial': 2693757.698435277,\n",
       " 'Casa': 2398157.709865436,\n",
       " 'Casa en condominio': 2898927.041819972,\n",
       " 'Casa uso de suelo': 3732469.22740113,\n",
       " 'Departamento Compartido': 2560161.8936170214,\n",
       " 'Duplex': 1271757.973760933,\n",
       " 'Edificio': 5009499.372492837,\n",
       " 'Garage': 500000.0,\n",
       " 'Hospedaje': 3000000.0,\n",
       " 'Huerta': 3543350.0,\n",
       " 'Inmuebles productivos urbanos': 3743070.11,\n",
       " 'Local Comercial': 2365064.1610474633,\n",
       " 'Local en centro comercial': 2212631.1272727274,\n",
       " 'Lote': 988760.8,\n",
       " 'Nave industrial': 3742600.0,\n",
       " 'Oficina comercial': 3148532.746122918,\n",
       " 'Otros': 2881688.8582089553,\n",
       " 'Quinta Vacacional': 3187426.4607594935,\n",
       " 'Rancho': 4032681.505882353,\n",
       " 'Terreno': 1805201.8043237808,\n",
       " 'Terreno comercial': 2472024.5859728507,\n",
       " 'Terreno industrial': 3647994.4516129033,\n",
       " 'Villa': 2767351.761764706,\n",
       " 'nan': 2249819.847826087}"
      ]
     },
     "execution_count": 2,
     "metadata": {},
     "output_type": "execute_result"
    }
   ],
   "source": [
    "training_data['tipodepropiedad'] = training_data['tipodepropiedad'].apply(lambda x: str(x) )\n",
    "evaluation_data['tipodepropiedad'] = evaluation_data['tipodepropiedad'].apply(lambda x: str(x) )\n",
    "\n",
    "mean_precios = training_data.groupby('tipodepropiedad').agg({'precio':'mean'}).reset_index()\n",
    "\n",
    "precio_mean_by_tipodepropiedad = {}\n",
    "for tipo in mean_precios['tipodepropiedad'].unique():\n",
    "    precio_mean_by_tipodepropiedad[tipo] = mean_precios.loc[mean_precios['tipodepropiedad']==tipo]['precio'].values[0]\n",
    "\n",
    "precio_mean_by_tipodepropiedad"
   ]
  },
  {
   "cell_type": "code",
   "execution_count": 3,
   "metadata": {},
   "outputs": [
    {
     "data": {
      "text/html": [
       "<div>\n",
       "<style scoped>\n",
       "    .dataframe tbody tr th:only-of-type {\n",
       "        vertical-align: middle;\n",
       "    }\n",
       "\n",
       "    .dataframe tbody tr th {\n",
       "        vertical-align: top;\n",
       "    }\n",
       "\n",
       "    .dataframe thead th {\n",
       "        text-align: right;\n",
       "    }\n",
       "</style>\n",
       "<table border=\"1\" class=\"dataframe\">\n",
       "  <thead>\n",
       "    <tr style=\"text-align: right;\">\n",
       "      <th></th>\n",
       "      <th>id</th>\n",
       "      <th>mean_precio_encoded_tipodepropiedad</th>\n",
       "    </tr>\n",
       "  </thead>\n",
       "  <tbody>\n",
       "    <tr>\n",
       "      <td>0</td>\n",
       "      <td>4941</td>\n",
       "      <td>2.398158e+06</td>\n",
       "    </tr>\n",
       "    <tr>\n",
       "      <td>1</td>\n",
       "      <td>51775</td>\n",
       "      <td>2.763769e+06</td>\n",
       "    </tr>\n",
       "    <tr>\n",
       "      <td>2</td>\n",
       "      <td>115253</td>\n",
       "      <td>2.763769e+06</td>\n",
       "    </tr>\n",
       "    <tr>\n",
       "      <td>3</td>\n",
       "      <td>299321</td>\n",
       "      <td>2.763769e+06</td>\n",
       "    </tr>\n",
       "    <tr>\n",
       "      <td>4</td>\n",
       "      <td>173570</td>\n",
       "      <td>2.398158e+06</td>\n",
       "    </tr>\n",
       "  </tbody>\n",
       "</table>\n",
       "</div>"
      ],
      "text/plain": [
       "       id  mean_precio_encoded_tipodepropiedad\n",
       "0    4941                         2.398158e+06\n",
       "1   51775                         2.763769e+06\n",
       "2  115253                         2.763769e+06\n",
       "3  299321                         2.763769e+06\n",
       "4  173570                         2.398158e+06"
      ]
     },
     "execution_count": 3,
     "metadata": {},
     "output_type": "execute_result"
    }
   ],
   "source": [
    "training_data['mean_precio_encoded_tipodepropiedad'] = training_data['tipodepropiedad'].apply(lambda x: precio_mean_by_tipodepropiedad[x])\n",
    "evaluation_data['mean_precio_encoded_tipodepropiedad'] = evaluation_data['tipodepropiedad'].apply(lambda x: precio_mean_by_tipodepropiedad[x])\n",
    "\n",
    "training_data.drop(columns=['tipodepropiedad', 'precio'], inplace = True)\n",
    "evaluation_data.drop(columns=['tipodepropiedad'], inplace = True)\n",
    "\n",
    "evaluation_data.head()"
   ]
  },
  {
   "cell_type": "code",
   "execution_count": 4,
   "metadata": {},
   "outputs": [],
   "source": [
    "training_data.to_csv('../../res/ftr/mean_precio_encoded_tipodepropiedad_train.csv')\n",
    "evaluation_data.to_csv('../../res/ftr/mean_precio_encoded_tipodepropiedad_evaluation.csv')"
   ]
  }
 ],
 "metadata": {
  "kernelspec": {
   "display_name": "Python 3",
   "language": "python",
   "name": "python3"
  },
  "language_info": {
   "codemirror_mode": {
    "name": "ipython",
    "version": 3
   },
   "file_extension": ".py",
   "mimetype": "text/x-python",
   "name": "python",
   "nbconvert_exporter": "python",
   "pygments_lexer": "ipython3",
   "version": "3.6.8"
  }
 },
 "nbformat": 4,
 "nbformat_minor": 2
}
