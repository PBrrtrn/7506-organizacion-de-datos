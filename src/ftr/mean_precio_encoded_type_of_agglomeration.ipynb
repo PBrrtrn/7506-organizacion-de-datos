{
 "cells": [
  {
   "cell_type": "code",
   "execution_count": 1,
   "metadata": {},
   "outputs": [
    {
     "data": {
      "text/html": [
       "<div>\n",
       "<style scoped>\n",
       "    .dataframe tbody tr th:only-of-type {\n",
       "        vertical-align: middle;\n",
       "    }\n",
       "\n",
       "    .dataframe tbody tr th {\n",
       "        vertical-align: top;\n",
       "    }\n",
       "\n",
       "    .dataframe thead th {\n",
       "        text-align: right;\n",
       "    }\n",
       "</style>\n",
       "<table border=\"1\" class=\"dataframe\">\n",
       "  <thead>\n",
       "    <tr style=\"text-align: right;\">\n",
       "      <th></th>\n",
       "      <th>id</th>\n",
       "      <th>ciudad</th>\n",
       "      <th>provincia</th>\n",
       "      <th>precio</th>\n",
       "    </tr>\n",
       "  </thead>\n",
       "  <tbody>\n",
       "    <tr>\n",
       "      <td>0</td>\n",
       "      <td>254099</td>\n",
       "      <td>Benito Juárez</td>\n",
       "      <td>Distrito Federal</td>\n",
       "      <td>2273000.0</td>\n",
       "    </tr>\n",
       "    <tr>\n",
       "      <td>1</td>\n",
       "      <td>53461</td>\n",
       "      <td>La Magdalena Contreras</td>\n",
       "      <td>Distrito Federal</td>\n",
       "      <td>3600000.0</td>\n",
       "    </tr>\n",
       "    <tr>\n",
       "      <td>2</td>\n",
       "      <td>247984</td>\n",
       "      <td>Tonalá</td>\n",
       "      <td>Jalisco</td>\n",
       "      <td>1200000.0</td>\n",
       "    </tr>\n",
       "    <tr>\n",
       "      <td>3</td>\n",
       "      <td>209067</td>\n",
       "      <td>Zinacantepec</td>\n",
       "      <td>Edo. de México</td>\n",
       "      <td>650000.0</td>\n",
       "    </tr>\n",
       "    <tr>\n",
       "      <td>4</td>\n",
       "      <td>185997</td>\n",
       "      <td>Zapopan</td>\n",
       "      <td>Jalisco</td>\n",
       "      <td>1150000.0</td>\n",
       "    </tr>\n",
       "  </tbody>\n",
       "</table>\n",
       "</div>"
      ],
      "text/plain": [
       "       id                  ciudad         provincia     precio\n",
       "0  254099           Benito Juárez  Distrito Federal  2273000.0\n",
       "1   53461  La Magdalena Contreras  Distrito Federal  3600000.0\n",
       "2  247984                  Tonalá           Jalisco  1200000.0\n",
       "3  209067            Zinacantepec    Edo. de México   650000.0\n",
       "4  185997                 Zapopan           Jalisco  1150000.0"
      ]
     },
     "execution_count": 1,
     "metadata": {},
     "output_type": "execute_result"
    }
   ],
   "source": [
    "import pandas as pd\n",
    "import numpy as np\n",
    "\n",
    "pd.set_option('display.max_columns', 30)\n",
    "types = {'id': int, 'ciudad':str, 'provincia': str, 'precio': float}\n",
    "\n",
    "training_data = pd.read_csv('../../data/train.csv', dtype = types, usecols=['id','provincia','ciudad','precio'])\n",
    "evaluation_data = pd.read_csv('../../data/test.csv',dtype = types, usecols=['id','provincia','ciudad'])\n",
    "training_data.head()"
   ]
  },
  {
   "cell_type": "code",
   "execution_count": 2,
   "metadata": {},
   "outputs": [],
   "source": [
    "training_data['ciudad'].fillna('sinciudad', inplace = True)\n",
    "training_data['provincia'].fillna('sinprovincia', inplace = True)\n",
    "evaluation_data['ciudad'].fillna('sinciudad', inplace = True)\n",
    "evaluation_data['provincia'].fillna('sinprovincia', inplace = True)"
   ]
  },
  {
   "cell_type": "code",
   "execution_count": 3,
   "metadata": {},
   "outputs": [],
   "source": [
    "training_data['provincia'] = training_data['provincia'].apply(lambda x: x.lower())\n",
    "training_data['ciudad'] = training_data['ciudad'].apply(lambda x: x.lower())\n",
    "evaluation_data['provincia'] = evaluation_data['provincia'].apply(lambda x: x.lower())\n",
    "evaluation_data['ciudad'] = evaluation_data['ciudad'].apply(lambda x: x.lower())"
   ]
  },
  {
   "cell_type": "code",
   "execution_count": 4,
   "metadata": {},
   "outputs": [],
   "source": [
    "clasificacion_de_aglomeracion = {\n",
    "                    \"cajeme\":\"ciudad_muy_pequeña\",\n",
    "                    \"victoria\":\"ciudad_muy_pequeña\",\n",
    "                    \"coatzacoalcos\":\"ciudad_muy_pequeña\",\n",
    "                    \"colima\":\"ciudad_muy_pequeña\", \n",
    "                    \"córdoba\":\"ciudad_muy_pequeña\",\n",
    "                    \"cuautla\":\"ciudad_muy_pequeña\",\n",
    "                    \"ensenada\":\"ciudad_muy_pequeña\",\n",
    "                    \"irapuato\":\"ciudad_muy_pequeña\",\n",
    "                    \"mazatlán\":\"ciudad_muy_pequeña\",\n",
    "                    \"minatitlán\":\"ciudad_muy_pequeña\",\n",
    "                    \"monclova\":\"ciudad_muy_pequeña\",\n",
    "                    \"nuevo laredo\":\"ciudad_muy_pequeña\",\n",
    "                    \"orizaba\":\"ciudad_muy_pequeña\",\n",
    "                    \"puerto vallarta\":\"ciudad_muy_pequeña\",\n",
    "                    \"tehuacán\":\"ciudad_muy_pequeña\",\n",
    "                    \"tepic\":\"ciudad_muy_pequeña\",\n",
    "                    \"zacatecas\":\"ciudad_muy_pequeña\",                   \n",
    "                    \"acapulco de juárez\":\"ciudad_pequeña\",\n",
    "                    \"cancún\":\"ciudad_pequeña\",\n",
    "                    \"celaya\":\"ciudad_pequeña\",\n",
    "                    \"chihuahua\":\"ciudad_pequeña\",\n",
    "                    \"cuernavaca\":\"ciudad_pequeña\",\n",
    "                    \"culiacán\":\"ciudad_pequeña\",\n",
    "                    \"durango\":\"ciudad_pequeña\",\n",
    "                    \"hermosillo\":\"ciudad_pequeña\",\n",
    "                    \"matamoros\":\"ciudad_pequeña\",\n",
    "                    \"morelia\":\"ciudad_pequeña\",\n",
    "                    \"oaxaca de juárez\":\"ciudad_pequeña\",\n",
    "                    \"pachuca\":\"ciudad_pequeña\",\n",
    "                    \"poza rica de hidalgo\":\"ciudad_pequeña\",\n",
    "                    \"reynosa\":\"ciudad_pequeña\",\n",
    "                    \"saltillo\":\"ciudad_pequeña\",\n",
    "                    \"tampico\":\"ciudad_pequeña\",\n",
    "                    \"tlaxcala\":\"ciudad_pequeña\",\n",
    "                    \"tuxtla gutiérrez\":\"ciudad_pequeña\",\n",
    "                    \"veracruz\":\"ciudad_pequeña\",\n",
    "                    \"villahermosa\":\"ciudad_pequeña\",\n",
    "                    \"xalapa\":\"ciudad_pequeña\",\n",
    "                    \"aguascalientes\":\"ciudad_mediana\",\n",
    "                    \"juárez\":\"ciudad_mediana\",\n",
    "                    \"guadalajara\":\"ciudad_mediana\",\n",
    "                    \"león\":\"ciudad_mediana\",\n",
    "                    \"mérida\":\"ciudad_mediana\",\n",
    "                    \"mexicali\":\"ciudad_mediana\",\n",
    "                    \"monterrey\":\"ciudad_mediana\",\n",
    "                    \"puebla\":\"ciudad_mediana\",\n",
    "                    \"querétaro\":\"ciudad_mediana\",\n",
    "                    \"san luis potosí\":\"ciudad_mediana\",\n",
    "                    \"tijuana\":\"ciudad_mediana\",\n",
    "                    \"toluca\":\"ciudad_mediana\"\n",
    "                   }"
   ]
  },
  {
   "cell_type": "code",
   "execution_count": 5,
   "metadata": {},
   "outputs": [],
   "source": [
    "def tipo_de_aglomeracion(data):\n",
    "    ciudad = data[1]\n",
    "    if data[2] == \"distrito federal\": return \"megaciudad\"\n",
    "    if ciudad in clasificacion_de_aglomeracion: return clasificacion_de_aglomeracion[ciudad]\n",
    "    else: return \"ciudad_rural\""
   ]
  },
  {
   "cell_type": "code",
   "execution_count": 6,
   "metadata": {},
   "outputs": [],
   "source": [
    "training_data['tipo_de_aglomeracion'] = training_data.apply(tipo_de_aglomeracion, axis=1)\n",
    "evaluation_data['tipo_de_aglomeracion'] = training_data.apply(tipo_de_aglomeracion, axis=1)"
   ]
  },
  {
   "cell_type": "code",
   "execution_count": 7,
   "metadata": {},
   "outputs": [],
   "source": [
    "mean_precios = training_data.groupby('tipo_de_aglomeracion').agg({'precio':'mean'}).reset_index()\n",
    "\n",
    "precio_mean_by_type_of_agglomeration = {}\n",
    "for tipo in mean_precios['tipo_de_aglomeracion'].unique():\n",
    "    precio_mean_by_type_of_agglomeration[tipo] = mean_precios.loc[mean_precios['tipo_de_aglomeracion']==tipo]['precio'].values[0]"
   ]
  },
  {
   "cell_type": "code",
   "execution_count": 8,
   "metadata": {},
   "outputs": [
    {
     "data": {
      "text/html": [
       "<div>\n",
       "<style scoped>\n",
       "    .dataframe tbody tr th:only-of-type {\n",
       "        vertical-align: middle;\n",
       "    }\n",
       "\n",
       "    .dataframe tbody tr th {\n",
       "        vertical-align: top;\n",
       "    }\n",
       "\n",
       "    .dataframe thead th {\n",
       "        text-align: right;\n",
       "    }\n",
       "</style>\n",
       "<table border=\"1\" class=\"dataframe\">\n",
       "  <thead>\n",
       "    <tr style=\"text-align: right;\">\n",
       "      <th></th>\n",
       "      <th>id</th>\n",
       "      <th>mean_precio_encoded_type_of_agglomeration</th>\n",
       "    </tr>\n",
       "  </thead>\n",
       "  <tbody>\n",
       "    <tr>\n",
       "      <td>0</td>\n",
       "      <td>4941</td>\n",
       "      <td>3.471705e+06</td>\n",
       "    </tr>\n",
       "    <tr>\n",
       "      <td>1</td>\n",
       "      <td>51775</td>\n",
       "      <td>3.471705e+06</td>\n",
       "    </tr>\n",
       "    <tr>\n",
       "      <td>2</td>\n",
       "      <td>115253</td>\n",
       "      <td>2.410765e+06</td>\n",
       "    </tr>\n",
       "    <tr>\n",
       "      <td>3</td>\n",
       "      <td>299321</td>\n",
       "      <td>2.410765e+06</td>\n",
       "    </tr>\n",
       "    <tr>\n",
       "      <td>4</td>\n",
       "      <td>173570</td>\n",
       "      <td>2.410765e+06</td>\n",
       "    </tr>\n",
       "  </tbody>\n",
       "</table>\n",
       "</div>"
      ],
      "text/plain": [
       "       id  mean_precio_encoded_type_of_agglomeration\n",
       "0    4941                               3.471705e+06\n",
       "1   51775                               3.471705e+06\n",
       "2  115253                               2.410765e+06\n",
       "3  299321                               2.410765e+06\n",
       "4  173570                               2.410765e+06"
      ]
     },
     "execution_count": 8,
     "metadata": {},
     "output_type": "execute_result"
    }
   ],
   "source": [
    "training_data['mean_precio_encoded_type_of_agglomeration'] = training_data['tipo_de_aglomeracion'].apply(lambda x: precio_mean_by_type_of_agglomeration[x])\n",
    "evaluation_data['mean_precio_encoded_type_of_agglomeration'] = evaluation_data['tipo_de_aglomeracion'].apply(lambda x: precio_mean_by_type_of_agglomeration[x])\n",
    "\n",
    "training_data.drop(columns=['tipo_de_aglomeracion','ciudad','provincia', 'precio'], inplace = True)\n",
    "evaluation_data.drop(columns=['tipo_de_aglomeracion','ciudad','provincia'], inplace = True)\n",
    "\n",
    "evaluation_data.head()"
   ]
  },
  {
   "cell_type": "code",
   "execution_count": 9,
   "metadata": {},
   "outputs": [
    {
     "data": {
      "text/html": [
       "<div>\n",
       "<style scoped>\n",
       "    .dataframe tbody tr th:only-of-type {\n",
       "        vertical-align: middle;\n",
       "    }\n",
       "\n",
       "    .dataframe tbody tr th {\n",
       "        vertical-align: top;\n",
       "    }\n",
       "\n",
       "    .dataframe thead th {\n",
       "        text-align: right;\n",
       "    }\n",
       "</style>\n",
       "<table border=\"1\" class=\"dataframe\">\n",
       "  <thead>\n",
       "    <tr style=\"text-align: right;\">\n",
       "      <th></th>\n",
       "      <th>id</th>\n",
       "      <th>mean_precio_encoded_type_of_agglomeration</th>\n",
       "    </tr>\n",
       "  </thead>\n",
       "  <tbody>\n",
       "    <tr>\n",
       "      <td>0</td>\n",
       "      <td>254099</td>\n",
       "      <td>3.471705e+06</td>\n",
       "    </tr>\n",
       "    <tr>\n",
       "      <td>1</td>\n",
       "      <td>53461</td>\n",
       "      <td>3.471705e+06</td>\n",
       "    </tr>\n",
       "    <tr>\n",
       "      <td>2</td>\n",
       "      <td>247984</td>\n",
       "      <td>2.410765e+06</td>\n",
       "    </tr>\n",
       "    <tr>\n",
       "      <td>3</td>\n",
       "      <td>209067</td>\n",
       "      <td>2.410765e+06</td>\n",
       "    </tr>\n",
       "    <tr>\n",
       "      <td>4</td>\n",
       "      <td>185997</td>\n",
       "      <td>2.410765e+06</td>\n",
       "    </tr>\n",
       "  </tbody>\n",
       "</table>\n",
       "</div>"
      ],
      "text/plain": [
       "       id  mean_precio_encoded_type_of_agglomeration\n",
       "0  254099                               3.471705e+06\n",
       "1   53461                               3.471705e+06\n",
       "2  247984                               2.410765e+06\n",
       "3  209067                               2.410765e+06\n",
       "4  185997                               2.410765e+06"
      ]
     },
     "execution_count": 9,
     "metadata": {},
     "output_type": "execute_result"
    }
   ],
   "source": [
    "training_data.head()"
   ]
  },
  {
   "cell_type": "code",
   "execution_count": 11,
   "metadata": {},
   "outputs": [],
   "source": [
    "evaluation_data.to_csv('../../res/ftr/mean_precio_encoded_type_of_agglomeration_evaluation.csv')\n",
    "training_data.to_csv('../../res/ftr/mean_precio_encoded_type_of_agglomeration_train.csv')"
   ]
  },
  {
   "cell_type": "code",
   "execution_count": null,
   "metadata": {},
   "outputs": [],
   "source": []
  }
 ],
 "metadata": {
  "kernelspec": {
   "display_name": "Python 3",
   "language": "python",
   "name": "python3"
  },
  "language_info": {
   "codemirror_mode": {
    "name": "ipython",
    "version": 3
   },
   "file_extension": ".py",
   "mimetype": "text/x-python",
   "name": "python",
   "nbconvert_exporter": "python",
   "pygments_lexer": "ipython3",
   "version": "3.6.8"
  }
 },
 "nbformat": 4,
 "nbformat_minor": 4
}
