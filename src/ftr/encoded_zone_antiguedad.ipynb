{
 "cells": [
  {
   "cell_type": "code",
   "execution_count": 1,
   "metadata": {},
   "outputs": [
    {
     "data": {
      "text/html": [
       "<div>\n",
       "<style scoped>\n",
       "    .dataframe tbody tr th:only-of-type {\n",
       "        vertical-align: middle;\n",
       "    }\n",
       "\n",
       "    .dataframe tbody tr th {\n",
       "        vertical-align: top;\n",
       "    }\n",
       "\n",
       "    .dataframe thead th {\n",
       "        text-align: right;\n",
       "    }\n",
       "</style>\n",
       "<table border=\"1\" class=\"dataframe\">\n",
       "  <thead>\n",
       "    <tr style=\"text-align: right;\">\n",
       "      <th></th>\n",
       "      <th>id</th>\n",
       "      <th>provincia</th>\n",
       "      <th>antiguedad</th>\n",
       "      <th>fecha</th>\n",
       "    </tr>\n",
       "  </thead>\n",
       "  <tbody>\n",
       "    <tr>\n",
       "      <th>0</th>\n",
       "      <td>254099</td>\n",
       "      <td>Distrito Federal</td>\n",
       "      <td>NaN</td>\n",
       "      <td>2015-08-23 00:00:00</td>\n",
       "    </tr>\n",
       "    <tr>\n",
       "      <th>1</th>\n",
       "      <td>53461</td>\n",
       "      <td>Distrito Federal</td>\n",
       "      <td>10.0</td>\n",
       "      <td>2013-06-28 00:00:00</td>\n",
       "    </tr>\n",
       "    <tr>\n",
       "      <th>2</th>\n",
       "      <td>247984</td>\n",
       "      <td>Jalisco</td>\n",
       "      <td>5.0</td>\n",
       "      <td>2015-10-17 00:00:00</td>\n",
       "    </tr>\n",
       "    <tr>\n",
       "      <th>3</th>\n",
       "      <td>209067</td>\n",
       "      <td>Edo. de México</td>\n",
       "      <td>1.0</td>\n",
       "      <td>2012-03-09 00:00:00</td>\n",
       "    </tr>\n",
       "    <tr>\n",
       "      <th>4</th>\n",
       "      <td>185997</td>\n",
       "      <td>Jalisco</td>\n",
       "      <td>10.0</td>\n",
       "      <td>2016-06-07 00:00:00</td>\n",
       "    </tr>\n",
       "  </tbody>\n",
       "</table>\n",
       "</div>"
      ],
      "text/plain": [
       "       id         provincia  antiguedad                fecha\n",
       "0  254099  Distrito Federal         NaN  2015-08-23 00:00:00\n",
       "1   53461  Distrito Federal        10.0  2013-06-28 00:00:00\n",
       "2  247984           Jalisco         5.0  2015-10-17 00:00:00\n",
       "3  209067    Edo. de México         1.0  2012-03-09 00:00:00\n",
       "4  185997           Jalisco        10.0  2016-06-07 00:00:00"
      ]
     },
     "execution_count": 1,
     "metadata": {},
     "output_type": "execute_result"
    }
   ],
   "source": [
    "import pandas as pd\n",
    "import numpy as np\n",
    "\n",
    "types = {'id': int, 'titulo': str, 'descripcion': str, 'tipodepropiedad': str, 'direccion': str,\n",
    "        'ciudad': str, 'provincia': str, 'antiguedad': np.float32, 'habitaciones': np.float32,\n",
    "        'garages':np.float32, 'idzona': np.float32, 'lat': np.float32, 'lng': np.float32,\n",
    "        'gimnasio': int, 'usosmultiples': int, 'piscina': int, 'escuelascercanas': int,\n",
    "        'centroscomercialescercanos': int, 'precio':int}\n",
    "\n",
    "pd.set_option('display.max_columns', 30)\n",
    "\n",
    "training_data = pd.read_csv('../../data/TP2/train.csv', dtype = types, usecols=['id','antiguedad','provincia','fecha'])\n",
    "evaluation_data = pd.read_csv('../../data/TP2/test.csv', dtype = types, usecols=['id','antiguedad','provincia','fecha'])\n",
    "\n",
    "training_data.head()"
   ]
  },
  {
   "cell_type": "code",
   "execution_count": 2,
   "metadata": {
    "scrolled": true
   },
   "outputs": [
    {
     "data": {
      "text/html": [
       "<div>\n",
       "<style scoped>\n",
       "    .dataframe tbody tr th:only-of-type {\n",
       "        vertical-align: middle;\n",
       "    }\n",
       "\n",
       "    .dataframe tbody tr th {\n",
       "        vertical-align: top;\n",
       "    }\n",
       "\n",
       "    .dataframe thead th {\n",
       "        text-align: right;\n",
       "    }\n",
       "</style>\n",
       "<table border=\"1\" class=\"dataframe\">\n",
       "  <thead>\n",
       "    <tr style=\"text-align: right;\">\n",
       "      <th></th>\n",
       "      <th>id</th>\n",
       "      <th>provincia</th>\n",
       "      <th>antiguedad</th>\n",
       "      <th>fecha</th>\n",
       "      <th>mean_ant</th>\n",
       "    </tr>\n",
       "  </thead>\n",
       "  <tbody>\n",
       "    <tr>\n",
       "      <th>0</th>\n",
       "      <td>254099</td>\n",
       "      <td>Distrito Federal</td>\n",
       "      <td>10.0</td>\n",
       "      <td>2015-08-23 00:00:00</td>\n",
       "      <td>10.0</td>\n",
       "    </tr>\n",
       "    <tr>\n",
       "      <th>1</th>\n",
       "      <td>53461</td>\n",
       "      <td>Distrito Federal</td>\n",
       "      <td>10.0</td>\n",
       "      <td>2013-06-28 00:00:00</td>\n",
       "      <td>10.0</td>\n",
       "    </tr>\n",
       "    <tr>\n",
       "      <th>2</th>\n",
       "      <td>247984</td>\n",
       "      <td>Jalisco</td>\n",
       "      <td>5.0</td>\n",
       "      <td>2015-10-17 00:00:00</td>\n",
       "      <td>5.0</td>\n",
       "    </tr>\n",
       "    <tr>\n",
       "      <th>3</th>\n",
       "      <td>209067</td>\n",
       "      <td>Edo. de México</td>\n",
       "      <td>1.0</td>\n",
       "      <td>2012-03-09 00:00:00</td>\n",
       "      <td>10.0</td>\n",
       "    </tr>\n",
       "    <tr>\n",
       "      <th>4</th>\n",
       "      <td>185997</td>\n",
       "      <td>Jalisco</td>\n",
       "      <td>10.0</td>\n",
       "      <td>2016-06-07 00:00:00</td>\n",
       "      <td>5.0</td>\n",
       "    </tr>\n",
       "  </tbody>\n",
       "</table>\n",
       "</div>"
      ],
      "text/plain": [
       "       id         provincia  antiguedad                fecha  mean_ant\n",
       "0  254099  Distrito Federal        10.0  2015-08-23 00:00:00      10.0\n",
       "1   53461  Distrito Federal        10.0  2013-06-28 00:00:00      10.0\n",
       "2  247984           Jalisco         5.0  2015-10-17 00:00:00       5.0\n",
       "3  209067    Edo. de México         1.0  2012-03-09 00:00:00      10.0\n",
       "4  185997           Jalisco        10.0  2016-06-07 00:00:00       5.0"
      ]
     },
     "execution_count": 2,
     "metadata": {},
     "output_type": "execute_result"
    }
   ],
   "source": [
    "med_prov_ant = training_data.groupby('provincia').agg({'antiguedad':'median'}).reset_index().rename(columns={'antiguedad':'mean_ant'})\n",
    "mean_ant = training_data.antiguedad.mean()\n",
    "\n",
    "training_data = pd.merge(training_data, med_prov_ant, on='provincia', how='left')\n",
    "evaluation_data = pd.merge(evaluation_data, med_prov_ant, on='provincia', how='left')\n",
    "\n",
    "training_data['mean_ant'].fillna(mean_ant,inplace=True)\n",
    "evaluation_data['mean_ant'].fillna(mean_ant,inplace=True)\n",
    "\n",
    "training_data['antiguedad'].fillna(training_data['mean_ant'],inplace=True)\n",
    "evaluation_data['antiguedad'].fillna((evaluation_data['mean_ant']),inplace=True)\n",
    "\n",
    "\n",
    "training_data.head()"
   ]
  },
  {
   "cell_type": "code",
   "execution_count": 3,
   "metadata": {
    "scrolled": true
   },
   "outputs": [
    {
     "data": {
      "text/plain": [
       "0"
      ]
     },
     "execution_count": 3,
     "metadata": {},
     "output_type": "execute_result"
    }
   ],
   "source": [
    "training_data.fecha.isnull().sum()"
   ]
  },
  {
   "cell_type": "code",
   "execution_count": 4,
   "metadata": {},
   "outputs": [],
   "source": [
    "training_data[\"fecha\"] = pd.to_datetime(training_data['fecha'])\n",
    "evaluation_data[\"fecha\"] = pd.to_datetime(evaluation_data['fecha'])\n",
    "\n",
    "training_data[\"antiguedad\"] = training_data[\"antiguedad\"] + (2016 - training_data[\"fecha\"].dt.year)\n",
    "evaluation_data[\"antiguedad\"] = evaluation_data[\"antiguedad\"] + (2016 - training_data[\"fecha\"].dt.year)"
   ]
  },
  {
   "cell_type": "code",
   "execution_count": 7,
   "metadata": {},
   "outputs": [],
   "source": [
    "training_data['antig']=pd.cut(training_data.antiguedad,[0,1,5,15,45,85], labels=False, precision = 1, include_lowest=True)\n",
    "evaluation_data['antig']=pd.cut(evaluation_data.antiguedad,[0,1,5,15,45,85], precision = 1, include_lowest=True)"
   ]
  },
  {
   "cell_type": "code",
   "execution_count": 11,
   "metadata": {},
   "outputs": [
    {
     "data": {
      "text/html": [
       "<div>\n",
       "<style scoped>\n",
       "    .dataframe tbody tr th:only-of-type {\n",
       "        vertical-align: middle;\n",
       "    }\n",
       "\n",
       "    .dataframe tbody tr th {\n",
       "        vertical-align: top;\n",
       "    }\n",
       "\n",
       "    .dataframe thead th {\n",
       "        text-align: right;\n",
       "    }\n",
       "</style>\n",
       "<table border=\"1\" class=\"dataframe\">\n",
       "  <thead>\n",
       "    <tr style=\"text-align: right;\">\n",
       "      <th></th>\n",
       "      <th>id</th>\n",
       "      <th>provincia</th>\n",
       "      <th>antiguedad</th>\n",
       "      <th>fecha</th>\n",
       "      <th>mean_ant</th>\n",
       "      <th>antig</th>\n",
       "    </tr>\n",
       "  </thead>\n",
       "  <tbody>\n",
       "    <tr>\n",
       "      <th>0</th>\n",
       "      <td>254099</td>\n",
       "      <td>Distrito Federal</td>\n",
       "      <td>11.0</td>\n",
       "      <td>2015-08-23</td>\n",
       "      <td>10.0</td>\n",
       "      <td>2</td>\n",
       "    </tr>\n",
       "    <tr>\n",
       "      <th>1</th>\n",
       "      <td>53461</td>\n",
       "      <td>Distrito Federal</td>\n",
       "      <td>13.0</td>\n",
       "      <td>2013-06-28</td>\n",
       "      <td>10.0</td>\n",
       "      <td>2</td>\n",
       "    </tr>\n",
       "    <tr>\n",
       "      <th>2</th>\n",
       "      <td>247984</td>\n",
       "      <td>Jalisco</td>\n",
       "      <td>6.0</td>\n",
       "      <td>2015-10-17</td>\n",
       "      <td>5.0</td>\n",
       "      <td>2</td>\n",
       "    </tr>\n",
       "    <tr>\n",
       "      <th>3</th>\n",
       "      <td>209067</td>\n",
       "      <td>Edo. de México</td>\n",
       "      <td>5.0</td>\n",
       "      <td>2012-03-09</td>\n",
       "      <td>10.0</td>\n",
       "      <td>1</td>\n",
       "    </tr>\n",
       "    <tr>\n",
       "      <th>4</th>\n",
       "      <td>185997</td>\n",
       "      <td>Jalisco</td>\n",
       "      <td>10.0</td>\n",
       "      <td>2016-06-07</td>\n",
       "      <td>5.0</td>\n",
       "      <td>2</td>\n",
       "    </tr>\n",
       "  </tbody>\n",
       "</table>\n",
       "</div>"
      ],
      "text/plain": [
       "       id         provincia  antiguedad      fecha  mean_ant  antig\n",
       "0  254099  Distrito Federal        11.0 2015-08-23      10.0      2\n",
       "1   53461  Distrito Federal        13.0 2013-06-28      10.0      2\n",
       "2  247984           Jalisco         6.0 2015-10-17       5.0      2\n",
       "3  209067    Edo. de México         5.0 2012-03-09      10.0      1\n",
       "4  185997           Jalisco        10.0 2016-06-07       5.0      2"
      ]
     },
     "execution_count": 11,
     "metadata": {},
     "output_type": "execute_result"
    }
   ],
   "source": [
    "training_data.head()"
   ]
  },
  {
   "cell_type": "code",
   "execution_count": 12,
   "metadata": {},
   "outputs": [],
   "source": [
    "zonas_economicas = {\n",
    "    'noroeste':['Baja California Norte', 'Baja California Sur', 'Chihuahua', 'Durango','Sinaloa','Sonora'],\n",
    "    'noreste':[ 'Coahuila','Nuevo León','Tamaulipas'],\n",
    "    'occidente':['Colima','Jalisco','Michoacán','Nayarit'],\n",
    "    'oriente':['Hidalgo','Puebla','Tlaxcala','Veracruz'],\n",
    "    'centronorte':['Aguascalientes','Guanajuato','Querétaro','San luis Potosí','Zacatecas'],\n",
    "    'centrosur':['Edo. de México','Distrito Federal','Morelos'],\n",
    "    'suroeste':['Chiapas','Guerrero','Oaxaca'],\n",
    "    'sureste':['Campeche','Quintana Roo','Tabasco','Yucatán']\n",
    "}"
   ]
  },
  {
   "cell_type": "code",
   "execution_count": 13,
   "metadata": {},
   "outputs": [],
   "source": [
    "def zone(data): \n",
    "    for zona in zonas_economicas:\n",
    "        if data[1] in zonas_economicas[zona]: return zona\n",
    "    return 'sindatos'"
   ]
  },
  {
   "cell_type": "code",
   "execution_count": 14,
   "metadata": {},
   "outputs": [],
   "source": [
    "training_data['zona'] = training_data.apply(zone, axis=1) \n",
    "evaluation_data['zona'] = evaluation_data.apply(zone, axis=1)"
   ]
  },
  {
   "cell_type": "code",
   "execution_count": 15,
   "metadata": {
    "scrolled": true
   },
   "outputs": [],
   "source": [
    "training_data.drop(columns=['provincia','antiguedad','fecha','mean_ant'],inplace=True)\n",
    "evaluation_data.drop(columns=['provincia','antiguedad','fecha','mean_ant'],inplace=True)"
   ]
  },
  {
   "cell_type": "code",
   "execution_count": 16,
   "metadata": {},
   "outputs": [],
   "source": [
    "#from sklearn.feature_extraction import FeatureHasher\n",
    "\n",
    "#training_data['antig'] = training_data['antig'].apply(lambda x: str(x))\n",
    "#evaluation_data['antig'] = evaluation_data['antig'].apply(lambda x: str(x))\n",
    "\n",
    "#feature_hasher = FeatureHasher(n_features = 40, input_type='string')"
   ]
  },
  {
   "cell_type": "code",
   "execution_count": 17,
   "metadata": {},
   "outputs": [
    {
     "name": "stdout",
     "output_type": "stream",
     "text": [
      "<class 'pandas.core.frame.DataFrame'>\n",
      "Int64Index: 240000 entries, 0 to 239999\n",
      "Data columns (total 4 columns):\n",
      "id            240000 non-null int32\n",
      "antig         240000 non-null object\n",
      "zona          240000 non-null object\n",
      "antig_zone    240000 non-null object\n",
      "dtypes: int32(1), object(3)\n",
      "memory usage: 18.2+ MB\n"
     ]
    }
   ],
   "source": [
    "training_data['antig'] = training_data['antig'].astype(str)\n",
    "evaluation_data['antig'] = evaluation_data['antig'].astype(str)\n",
    "#training_data['zona'] = training_data['zona'].astype(str)\n",
    "#evaluation_data['zona'] = evaluation_data['zona'].apply(lambda x: str(x))\n",
    "\n",
    "training_data['antig_zone'] = (training_data['zona']+training_data['antig'])\n",
    "evaluation_data['antig_zone'] = (evaluation_data['zona']+training_data['antig'])\n",
    "\n",
    "#training_data.drop(columns=['antig','zona'],inplace=True)\n",
    "#evaluation_data.drop(columns=['antig','zona'],inplace=True)\n",
    "\n",
    "training_data.info()"
   ]
  },
  {
   "cell_type": "code",
   "execution_count": 18,
   "metadata": {},
   "outputs": [],
   "source": [
    "training_zones = training_data[['antig_zone']]#.to_numpy()\n",
    "evaluation_zones = evaluation_data[['antig_zone']]#.to_numpy()\n",
    "all_zones = np.unique( np.concatenate( (training_zones, evaluation_zones), axis=None) )"
   ]
  },
  {
   "cell_type": "code",
   "execution_count": 19,
   "metadata": {},
   "outputs": [
    {
     "data": {
      "text/plain": [
       "dtype('O')"
      ]
     },
     "execution_count": 19,
     "metadata": {},
     "output_type": "execute_result"
    }
   ],
   "source": [
    "all_zones = all_zones#.astype(str)\n",
    "all_zones.dtype"
   ]
  },
  {
   "cell_type": "code",
   "execution_count": 20,
   "metadata": {},
   "outputs": [],
   "source": [
    "for zone in all_zones:\n",
    "    training_data['zone_'+zone] = training_data['antig_zone'].apply(lambda x: 1 if x == zone else 0)\n",
    "    evaluation_data['zone_'+zone] = evaluation_data['antig_zone'].apply(lambda x: 1 if x == zone else 0)\n"
   ]
  },
  {
   "cell_type": "code",
   "execution_count": 21,
   "metadata": {},
   "outputs": [],
   "source": [
    "training_data.drop(columns=['antig_zone'],inplace=True)\n",
    "evaluation_data.drop(columns=['antig_zone'],inplace=True)"
   ]
  },
  {
   "cell_type": "code",
   "execution_count": 24,
   "metadata": {},
   "outputs": [],
   "source": [
    "training_data.drop(columns={'antig','zona'}, inplace=True)\n",
    "evaluation_data.drop(columns={'antig','zona'}, inplace=True)"
   ]
  },
  {
   "cell_type": "code",
   "execution_count": 25,
   "metadata": {},
   "outputs": [],
   "source": [
    "training_data.to_csv('../../res/ftr/encoded_zone_antiguedad_train.csv')\n",
    "evaluation_data.to_csv('../../res/ftr/encoded_zone_antiguedad_evaluation.csv')"
   ]
  },
  {
   "cell_type": "code",
   "execution_count": null,
   "metadata": {},
   "outputs": [],
   "source": [
    "#falta castear el tipo de las columnas"
   ]
  }
 ],
 "metadata": {
  "kernelspec": {
   "display_name": "Python 3",
   "language": "python",
   "name": "python3"
  },
  "language_info": {
   "codemirror_mode": {
    "name": "ipython",
    "version": 3
   },
   "file_extension": ".py",
   "mimetype": "text/x-python",
   "name": "python",
   "nbconvert_exporter": "python",
   "pygments_lexer": "ipython3",
   "version": "3.7.3"
  }
 },
 "nbformat": 4,
 "nbformat_minor": 2
}
