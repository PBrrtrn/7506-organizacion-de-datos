{
 "cells": [
  {
   "cell_type": "code",
   "execution_count": 1,
   "metadata": {},
   "outputs": [],
   "source": [
    "import pandas as pd\n",
    "import numpy as np\n",
    "import re"
   ]
  },
  {
   "cell_type": "code",
   "execution_count": 2,
   "metadata": {},
   "outputs": [],
   "source": [
    "pd.set_option('display.max_columns', 30)\n",
    "types = {'id': int, 'provincia': str, 'ciudad':str}\n",
    "training_data = pd.read_csv('../../data/TP2/train.csv', dtype = types, usecols=['id','provincia','ciudad'])\n",
    "evaluation_data = pd.read_csv('../../data/TP2/test.csv', dtype = types, usecols=['id','provincia','ciudad'])"
   ]
  },
  {
   "cell_type": "code",
   "execution_count": 3,
   "metadata": {},
   "outputs": [],
   "source": [
    "import html\n",
    "import re\n",
    "from unicodedata import normalize\n",
    "\n",
    "def clean_text(text):\n",
    "    text = html.unescape(text)\n",
    "    text = re.sub(r\"([^n\\u0300-\\u036f]|n(?!\\u0303(?![\\u0300-\\u036f])))[\\u0300-\\u036f]+\", \n",
    "                    r\"\\1\", \n",
    "                    normalize(\"NFD\", text), \n",
    "                    0, \n",
    "                    re.I) #re.sub(pattern, repl, string, count=0, flags=0);\n",
    "    \n",
    "    text = normalize('NFC', text)\n",
    "    text = re.sub('[^a-zA-ZñÑ]+', ' ', text)\n",
    "    text = text.lower()\n",
    "    return text"
   ]
  },
  {
   "cell_type": "code",
   "execution_count": 4,
   "metadata": {},
   "outputs": [],
   "source": [
    "training_data['ciudad'] = training_data['ciudad'].apply(lambda x: clean_text(str(x)))\n",
    "training_data['provincia'] = training_data['provincia'].apply(lambda x: clean_text(str(x)))\n",
    "evaluation_data['ciudad'] = evaluation_data['ciudad'].apply(lambda x: clean_text(str(x)))\n",
    "evaluation_data['provincia'] = evaluation_data['provincia'].apply(lambda x: clean_text(str(x)))"
   ]
  },
  {
   "cell_type": "code",
   "execution_count": 5,
   "metadata": {},
   "outputs": [],
   "source": [
    "cambios_prov = {\n",
    "            'mexico':'edo de mexico',\n",
    "            'veracruz de ignacio de la llave':'veracruz',\n",
    "            'coahuila de zaragoza':'coahuila',\n",
    "            'michoacan de ocampo':'michoacan',\n",
    "            'baja california':'baja california norte'\n",
    "          }\n",
    "\n",
    "def check_prov(provincia):\n",
    "    if provincia in cambios_prov: provincia = cambios_prov[provincia]\n",
    "    return provincia"
   ]
  },
  {
   "cell_type": "code",
   "execution_count": 6,
   "metadata": {},
   "outputs": [],
   "source": [
    "cambios_ciud = {\n",
    "            'tlaltizapan de zapata':'tlaltizapan de zapata',\n",
    "            'tlaltizapan':'tlaltizapan de zapata',\n",
    "            'cancun':'benito juarez',\n",
    "            'pachuca de soto':'pachuca',\n",
    "            'medellin de bravo':'medellin',\n",
    "            'acambay de ruiz castañeda':'acambay',\n",
    "            'san pedro tlaquepaque':'tlaquepaque',\n",
    "            'juchitan':'juchitan de zaragoza',\n",
    "            'general zuazua':'gral zuazua',\n",
    "            'san pedro mixtepec':'san pedro mixtepec dto ',\n",
    "            'villahermosa':'tabasco',\n",
    "            'doctor arroyo':'dr arroyo',\n",
    "            'yauhquemecan':'tlaxcala',\n",
    "            'silao de la victoria':'silao',\n",
    "            'doctor gonzalez':'dr gonzalez',\n",
    "            'general treviño':'gral treviño',\n",
    "            'general escobedo':'gral escobedo',\n",
    "            'general bravo':'gral bravo',\n",
    "            'playa del carmen':'solidaridad'\n",
    "          }\n",
    "def check_ciu(ciudad):\n",
    "    if ciudad in cambios_ciud: ciudad = cambios_ciud[ciudad]\n",
    "    return ciudad"
   ]
  },
  {
   "cell_type": "code",
   "execution_count": 7,
   "metadata": {},
   "outputs": [],
   "source": [
    "training_data['ciudad'] = training_data['ciudad'].apply(lambda x: check_ciu(x))\n",
    "evaluation_data['ciudad'] = evaluation_data['ciudad'].apply(lambda x: check_ciu(x))\n",
    "\n",
    "training_data['prov_ciu'] = training_data['provincia'] + '_' + training_data['ciudad']\n",
    "training_data = training_data[['id','prov_ciu']]\n",
    "\n",
    "evaluation_data['prov_ciu'] = evaluation_data['provincia'] + '_' + evaluation_data['ciudad']\n",
    "evaluation_data = evaluation_data[['id','prov_ciu']]"
   ]
  },
  {
   "cell_type": "code",
   "execution_count": 8,
   "metadata": {},
   "outputs": [],
   "source": [
    "mexico = pd.read_csv('../../data/TP2/Todo_mexico.csv')\n",
    "mexico.columns = ['provincia', 'ciudad', 'grado_de_marginacion','ambito','grado_rezago_social']\n",
    "mexico = mexico.dropna()\n",
    "mexico['ciudad'] = mexico['ciudad'].apply(lambda x: clean_text(str(x)))\n",
    "mexico['provincia'] = mexico['provincia'].apply(lambda x: clean_text(str(x)))\n",
    "mexico.provincia = mexico.provincia.apply(lambda x: check_prov(x))\n",
    "mexico.ciudad = mexico.ciudad.apply(lambda x: check_ciu(x))"
   ]
  },
  {
   "cell_type": "code",
   "execution_count": 9,
   "metadata": {},
   "outputs": [
    {
     "data": {
      "text/html": [
       "<div>\n",
       "<style scoped>\n",
       "    .dataframe tbody tr th:only-of-type {\n",
       "        vertical-align: middle;\n",
       "    }\n",
       "\n",
       "    .dataframe tbody tr th {\n",
       "        vertical-align: top;\n",
       "    }\n",
       "\n",
       "    .dataframe thead th {\n",
       "        text-align: right;\n",
       "    }\n",
       "</style>\n",
       "<table border=\"1\" class=\"dataframe\">\n",
       "  <thead>\n",
       "    <tr style=\"text-align: right;\">\n",
       "      <th>grado_de_marginacion</th>\n",
       "      <th>prov_ciu</th>\n",
       "      <th>grado_de_marginacion</th>\n",
       "    </tr>\n",
       "  </thead>\n",
       "  <tbody>\n",
       "    <tr>\n",
       "      <td>0</td>\n",
       "      <td>aguascalientes_aguascalientes</td>\n",
       "      <td>Alto</td>\n",
       "    </tr>\n",
       "    <tr>\n",
       "      <td>1</td>\n",
       "      <td>aguascalientes_asientos</td>\n",
       "      <td>Alto</td>\n",
       "    </tr>\n",
       "    <tr>\n",
       "      <td>2</td>\n",
       "      <td>aguascalientes_calvillo</td>\n",
       "      <td>Bajo</td>\n",
       "    </tr>\n",
       "    <tr>\n",
       "      <td>3</td>\n",
       "      <td>aguascalientes_cosio</td>\n",
       "      <td>Medio</td>\n",
       "    </tr>\n",
       "    <tr>\n",
       "      <td>4</td>\n",
       "      <td>aguascalientes_el llano</td>\n",
       "      <td>Alto</td>\n",
       "    </tr>\n",
       "    <tr>\n",
       "      <td>...</td>\n",
       "      <td>...</td>\n",
       "      <td>...</td>\n",
       "    </tr>\n",
       "    <tr>\n",
       "      <td>2449</td>\n",
       "      <td>zacatecas_villa garcia</td>\n",
       "      <td>Alto</td>\n",
       "    </tr>\n",
       "    <tr>\n",
       "      <td>2450</td>\n",
       "      <td>zacatecas_villa gonzalez ortega</td>\n",
       "      <td>Alto</td>\n",
       "    </tr>\n",
       "    <tr>\n",
       "      <td>2451</td>\n",
       "      <td>zacatecas_villa hidalgo</td>\n",
       "      <td>Alto</td>\n",
       "    </tr>\n",
       "    <tr>\n",
       "      <td>2452</td>\n",
       "      <td>zacatecas_villanueva</td>\n",
       "      <td>Alto</td>\n",
       "    </tr>\n",
       "    <tr>\n",
       "      <td>2453</td>\n",
       "      <td>zacatecas_zacatecas</td>\n",
       "      <td>Alto</td>\n",
       "    </tr>\n",
       "  </tbody>\n",
       "</table>\n",
       "<p>2454 rows × 2 columns</p>\n",
       "</div>"
      ],
      "text/plain": [
       "grado_de_marginacion                         prov_ciu grado_de_marginacion\n",
       "0                       aguascalientes_aguascalientes                 Alto\n",
       "1                             aguascalientes_asientos                 Alto\n",
       "2                             aguascalientes_calvillo                 Bajo\n",
       "3                                aguascalientes_cosio                Medio\n",
       "4                             aguascalientes_el llano                 Alto\n",
       "...                                               ...                  ...\n",
       "2449                           zacatecas_villa garcia                 Alto\n",
       "2450                  zacatecas_villa gonzalez ortega                 Alto\n",
       "2451                          zacatecas_villa hidalgo                 Alto\n",
       "2452                             zacatecas_villanueva                 Alto\n",
       "2453                              zacatecas_zacatecas                 Alto\n",
       "\n",
       "[2454 rows x 2 columns]"
      ]
     },
     "execution_count": 9,
     "metadata": {},
     "output_type": "execute_result"
    }
   ],
   "source": [
    "grado_de_marginacion = mexico.groupby(['provincia','ciudad'])['grado_de_marginacion'].value_counts(True).to_frame().unstack()\n",
    "grado_de_marginacion.columns = grado_de_marginacion.columns.get_level_values(1).astype(str)\n",
    "grado_de_marginacion['grado_de_marginacion'] = grado_de_marginacion.T.idxmax()\n",
    "grado_de_marginacion.reset_index(inplace = True)\n",
    "grado_de_marginacion['prov_ciu'] = grado_de_marginacion['provincia'] + '_' + grado_de_marginacion['ciudad']\n",
    "grado_de_marginacion = grado_de_marginacion[['prov_ciu','grado_de_marginacion']]\n",
    "\n",
    "grado_de_marginacion"
   ]
  },
  {
   "cell_type": "code",
   "execution_count": 10,
   "metadata": {},
   "outputs": [],
   "source": [
    "grado_de_marginacion_training = training_data.merge(grado_de_marginacion, on='prov_ciu', how='left')\n",
    "grado_de_marginacion_training = grado_de_marginacion_training[['id','grado_de_marginacion']]\n",
    "grado_de_marginacion_training.fillna(value={'grado_de_marginacion':'no definido'}, inplace = True)\n",
    "\n",
    "grado_de_marginacion_evaluation = evaluation_data.merge(grado_de_marginacion, on='prov_ciu', how='left')\n",
    "grado_de_marginacion_evaluation = grado_de_marginacion_evaluation[['id','grado_de_marginacion']]\n",
    "grado_de_marginacion_evaluation.fillna(value={'grado_de_marginacion':'no definido'}, inplace = True)"
   ]
  },
  {
   "cell_type": "code",
   "execution_count": 11,
   "metadata": {},
   "outputs": [
    {
     "data": {
      "text/plain": [
       "(240000, 2)"
      ]
     },
     "execution_count": 11,
     "metadata": {},
     "output_type": "execute_result"
    }
   ],
   "source": [
    "grado_de_marginacion_training.shape"
   ]
  },
  {
   "cell_type": "code",
   "execution_count": 12,
   "metadata": {},
   "outputs": [
    {
     "data": {
      "text/plain": [
       "(60000, 2)"
      ]
     },
     "execution_count": 12,
     "metadata": {},
     "output_type": "execute_result"
    }
   ],
   "source": [
    "grado_de_marginacion_evaluation.shape"
   ]
  },
  {
   "cell_type": "code",
   "execution_count": 13,
   "metadata": {},
   "outputs": [],
   "source": [
    "training_entities = grado_de_marginacion_training[['grado_de_marginacion']].to_numpy()\n",
    "evaluation_entities = grado_de_marginacion_evaluation[['grado_de_marginacion']].to_numpy()\n",
    "all_entities = np.unique( np.concatenate( (training_entities, evaluation_entities), axis=None) )"
   ]
  },
  {
   "cell_type": "code",
   "execution_count": 14,
   "metadata": {},
   "outputs": [
    {
     "data": {
      "text/html": [
       "<div>\n",
       "<style scoped>\n",
       "    .dataframe tbody tr th:only-of-type {\n",
       "        vertical-align: middle;\n",
       "    }\n",
       "\n",
       "    .dataframe tbody tr th {\n",
       "        vertical-align: top;\n",
       "    }\n",
       "\n",
       "    .dataframe thead th {\n",
       "        text-align: right;\n",
       "    }\n",
       "</style>\n",
       "<table border=\"1\" class=\"dataframe\">\n",
       "  <thead>\n",
       "    <tr style=\"text-align: right;\">\n",
       "      <th></th>\n",
       "      <th>id</th>\n",
       "      <th>grado_de_marginacion_Alto</th>\n",
       "      <th>grado_de_marginacion_Bajo</th>\n",
       "      <th>grado_de_marginacion_Medio</th>\n",
       "      <th>grado_de_marginacion_Muy alto</th>\n",
       "      <th>grado_de_marginacion_Muy bajo</th>\n",
       "      <th>grado_de_marginacion_no definido</th>\n",
       "    </tr>\n",
       "  </thead>\n",
       "  <tbody>\n",
       "    <tr>\n",
       "      <td>0</td>\n",
       "      <td>254099</td>\n",
       "      <td>0</td>\n",
       "      <td>0</td>\n",
       "      <td>0</td>\n",
       "      <td>0</td>\n",
       "      <td>1</td>\n",
       "      <td>0</td>\n",
       "    </tr>\n",
       "    <tr>\n",
       "      <td>1</td>\n",
       "      <td>53461</td>\n",
       "      <td>1</td>\n",
       "      <td>0</td>\n",
       "      <td>0</td>\n",
       "      <td>0</td>\n",
       "      <td>0</td>\n",
       "      <td>0</td>\n",
       "    </tr>\n",
       "    <tr>\n",
       "      <td>2</td>\n",
       "      <td>247984</td>\n",
       "      <td>1</td>\n",
       "      <td>0</td>\n",
       "      <td>0</td>\n",
       "      <td>0</td>\n",
       "      <td>0</td>\n",
       "      <td>0</td>\n",
       "    </tr>\n",
       "    <tr>\n",
       "      <td>3</td>\n",
       "      <td>209067</td>\n",
       "      <td>1</td>\n",
       "      <td>0</td>\n",
       "      <td>0</td>\n",
       "      <td>0</td>\n",
       "      <td>0</td>\n",
       "      <td>0</td>\n",
       "    </tr>\n",
       "    <tr>\n",
       "      <td>4</td>\n",
       "      <td>185997</td>\n",
       "      <td>1</td>\n",
       "      <td>0</td>\n",
       "      <td>0</td>\n",
       "      <td>0</td>\n",
       "      <td>0</td>\n",
       "      <td>0</td>\n",
       "    </tr>\n",
       "  </tbody>\n",
       "</table>\n",
       "</div>"
      ],
      "text/plain": [
       "       id  grado_de_marginacion_Alto  grado_de_marginacion_Bajo  \\\n",
       "0  254099                          0                          0   \n",
       "1   53461                          1                          0   \n",
       "2  247984                          1                          0   \n",
       "3  209067                          1                          0   \n",
       "4  185997                          1                          0   \n",
       "\n",
       "   grado_de_marginacion_Medio  grado_de_marginacion_Muy alto  \\\n",
       "0                           0                              0   \n",
       "1                           0                              0   \n",
       "2                           0                              0   \n",
       "3                           0                              0   \n",
       "4                           0                              0   \n",
       "\n",
       "   grado_de_marginacion_Muy bajo  grado_de_marginacion_no definido  \n",
       "0                              1                                 0  \n",
       "1                              0                                 0  \n",
       "2                              0                                 0  \n",
       "3                              0                                 0  \n",
       "4                              0                                 0  "
      ]
     },
     "execution_count": 14,
     "metadata": {},
     "output_type": "execute_result"
    }
   ],
   "source": [
    "for entity in all_entities:\n",
    "    grado_de_marginacion_training['grado_de_marginacion_'+entity] = grado_de_marginacion_training['grado_de_marginacion'].apply(lambda x: 1 if x == entity else 0)\n",
    "    grado_de_marginacion_evaluation['grado_de_marginacion_'+entity] = grado_de_marginacion_evaluation['grado_de_marginacion'].apply(lambda x: 1 if x == entity else 0)\n",
    "    \n",
    "grado_de_marginacion_training.drop(columns=['grado_de_marginacion'], inplace = True)\n",
    "grado_de_marginacion_evaluation.drop(columns=['grado_de_marginacion'], inplace = True)\n",
    "grado_de_marginacion_training.head()"
   ]
  },
  {
   "cell_type": "code",
   "execution_count": 15,
   "metadata": {},
   "outputs": [
    {
     "data": {
      "text/plain": [
       "(60000, 7)"
      ]
     },
     "execution_count": 15,
     "metadata": {},
     "output_type": "execute_result"
    }
   ],
   "source": [
    "grado_de_marginacion_evaluation.shape"
   ]
  },
  {
   "cell_type": "code",
   "execution_count": 16,
   "metadata": {},
   "outputs": [],
   "source": [
    "grado_de_marginacion_training.to_csv('../../res/ftr/encoded_margination_degree_train.csv')\n",
    "grado_de_marginacion_evaluation.to_csv('../../res/ftr/encoded_margination_degree_evaluation.csv')"
   ]
  }
 ],
 "metadata": {
  "kernelspec": {
   "display_name": "Python 3",
   "language": "python",
   "name": "python3"
  },
  "language_info": {
   "codemirror_mode": {
    "name": "ipython",
    "version": 3
   },
   "file_extension": ".py",
   "mimetype": "text/x-python",
   "name": "python",
   "nbconvert_exporter": "python",
   "pygments_lexer": "ipython3",
   "version": "3.7.4"
  }
 },
 "nbformat": 4,
 "nbformat_minor": 2
}
