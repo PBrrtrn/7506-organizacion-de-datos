{
 "cells": [
  {
   "cell_type": "code",
   "execution_count": 1,
   "metadata": {},
   "outputs": [
    {
     "name": "stderr",
     "output_type": "stream",
     "text": [
      "/home/mati/.local/lib/python3.7/site-packages/pandas/compat/__init__.py:85: UserWarning: Could not import the lzma module. Your installed Python is incomplete. Attempting to use lzma compression will result in a RuntimeError.\n",
      "  warnings.warn(msg)\n",
      "/home/mati/.local/lib/python3.7/site-packages/pandas/compat/__init__.py:85: UserWarning: Could not import the lzma module. Your installed Python is incomplete. Attempting to use lzma compression will result in a RuntimeError.\n",
      "  warnings.warn(msg)\n"
     ]
    },
    {
     "data": {
      "text/html": [
       "<div>\n",
       "<style scoped>\n",
       "    .dataframe tbody tr th:only-of-type {\n",
       "        vertical-align: middle;\n",
       "    }\n",
       "\n",
       "    .dataframe tbody tr th {\n",
       "        vertical-align: top;\n",
       "    }\n",
       "\n",
       "    .dataframe thead th {\n",
       "        text-align: right;\n",
       "    }\n",
       "</style>\n",
       "<table border=\"1\" class=\"dataframe\">\n",
       "  <thead>\n",
       "    <tr style=\"text-align: right;\">\n",
       "      <th></th>\n",
       "      <th>id</th>\n",
       "      <th>tipodepropiedad</th>\n",
       "      <th>direccion</th>\n",
       "      <th>provincia</th>\n",
       "    </tr>\n",
       "  </thead>\n",
       "  <tbody>\n",
       "    <tr>\n",
       "      <th>0</th>\n",
       "      <td>254099</td>\n",
       "      <td>Apartamento</td>\n",
       "      <td>Avenida Division del Norte 2005</td>\n",
       "      <td>Distrito Federal</td>\n",
       "    </tr>\n",
       "    <tr>\n",
       "      <th>1</th>\n",
       "      <td>53461</td>\n",
       "      <td>Casa en condominio</td>\n",
       "      <td>AV. MEXICO</td>\n",
       "      <td>Distrito Federal</td>\n",
       "    </tr>\n",
       "    <tr>\n",
       "      <th>2</th>\n",
       "      <td>247984</td>\n",
       "      <td>Casa</td>\n",
       "      <td>Urbi Tonala</td>\n",
       "      <td>Jalisco</td>\n",
       "    </tr>\n",
       "    <tr>\n",
       "      <th>3</th>\n",
       "      <td>209067</td>\n",
       "      <td>Casa</td>\n",
       "      <td>IGNACIO MANUEL ALTAMIRANO 128</td>\n",
       "      <td>Edo. de México</td>\n",
       "    </tr>\n",
       "    <tr>\n",
       "      <th>4</th>\n",
       "      <td>185997</td>\n",
       "      <td>Apartamento</td>\n",
       "      <td>PASEOS DEL SOL</td>\n",
       "      <td>Jalisco</td>\n",
       "    </tr>\n",
       "  </tbody>\n",
       "</table>\n",
       "</div>"
      ],
      "text/plain": [
       "       id     tipodepropiedad                        direccion  \\\n",
       "0  254099         Apartamento  Avenida Division del Norte 2005   \n",
       "1   53461  Casa en condominio                       AV. MEXICO   \n",
       "2  247984                Casa                      Urbi Tonala   \n",
       "3  209067                Casa    IGNACIO MANUEL ALTAMIRANO 128   \n",
       "4  185997         Apartamento                  PASEOS DEL SOL    \n",
       "\n",
       "          provincia  \n",
       "0  Distrito Federal  \n",
       "1  Distrito Federal  \n",
       "2           Jalisco  \n",
       "3    Edo. de México  \n",
       "4           Jalisco  "
      ]
     },
     "execution_count": 1,
     "metadata": {},
     "output_type": "execute_result"
    }
   ],
   "source": [
    "import pandas as pd\n",
    "import numpy as np\n",
    "from statistics import mean\n",
    "import math\n",
    "\n",
    "pd.set_option('display.max_columns', 30)\n",
    "\n",
    "types = {'id': int, 'provincia': str}\n",
    "\n",
    "training_data = pd.read_csv(r'../../data/TP2/train.csv', dtype = types, usecols=['id','provincia','tipodepropiedad' ,'direccion'])\n",
    "evaluation_data = pd.read_csv('../../data/TP2/test.csv', dtype = types, usecols=['id','provincia','tipodepropiedad', 'direccion'])\n",
    "\n",
    "training_data.head()"
   ]
  },
  {
   "cell_type": "code",
   "execution_count": 2,
   "metadata": {},
   "outputs": [],
   "source": [
    "training_data[\"direccion\"] = training_data[\"direccion\"].apply(lambda x: str(x).lower())\n",
    "evaluation_data[\"direccion\"] = evaluation_data[\"direccion\"].apply(lambda x: str(x).lower())\n",
    "training_data[\"tipodepropiedad\"] = training_data[\"tipodepropiedad\"].apply(lambda x: str(x).lower())\n",
    "evaluation_data[\"tipodepropiedad\"] = evaluation_data[\"tipodepropiedad\"].apply(lambda x: str(x).lower())"
   ]
  },
  {
   "cell_type": "code",
   "execution_count": 7,
   "metadata": {},
   "outputs": [
    {
     "data": {
      "text/html": [
       "<div>\n",
       "<style scoped>\n",
       "    .dataframe tbody tr th:only-of-type {\n",
       "        vertical-align: middle;\n",
       "    }\n",
       "\n",
       "    .dataframe tbody tr th {\n",
       "        vertical-align: top;\n",
       "    }\n",
       "\n",
       "    .dataframe thead th {\n",
       "        text-align: right;\n",
       "    }\n",
       "</style>\n",
       "<table border=\"1\" class=\"dataframe\">\n",
       "  <thead>\n",
       "    <tr style=\"text-align: right;\">\n",
       "      <th></th>\n",
       "      <th>id</th>\n",
       "      <th>tipodepropiedad</th>\n",
       "      <th>direccion</th>\n",
       "      <th>provincia</th>\n",
       "      <th>sum</th>\n",
       "      <th>porcentaje_dir_unicas_provincia</th>\n",
       "      <th>log_dir_unicas_provincia</th>\n",
       "    </tr>\n",
       "  </thead>\n",
       "  <tbody>\n",
       "    <tr>\n",
       "      <th>0</th>\n",
       "      <td>254099</td>\n",
       "      <td>apartamento</td>\n",
       "      <td>avenida division del norte 2005</td>\n",
       "      <td>Distrito Federal</td>\n",
       "      <td>1</td>\n",
       "      <td>0.6529</td>\n",
       "      <td>10.555396</td>\n",
       "    </tr>\n",
       "    <tr>\n",
       "      <th>1</th>\n",
       "      <td>53461</td>\n",
       "      <td>casa en condominio</td>\n",
       "      <td>av. mexico</td>\n",
       "      <td>Distrito Federal</td>\n",
       "      <td>1</td>\n",
       "      <td>0.6529</td>\n",
       "      <td>10.555396</td>\n",
       "    </tr>\n",
       "    <tr>\n",
       "      <th>2</th>\n",
       "      <td>126147</td>\n",
       "      <td>apartamento</td>\n",
       "      <td>condominio tlalpan 2b</td>\n",
       "      <td>Distrito Federal</td>\n",
       "      <td>1</td>\n",
       "      <td>0.6529</td>\n",
       "      <td>10.555396</td>\n",
       "    </tr>\n",
       "    <tr>\n",
       "      <th>3</th>\n",
       "      <td>130216</td>\n",
       "      <td>casa</td>\n",
       "      <td>matias romero, colonia del valle</td>\n",
       "      <td>Distrito Federal</td>\n",
       "      <td>1</td>\n",
       "      <td>0.6529</td>\n",
       "      <td>10.555396</td>\n",
       "    </tr>\n",
       "    <tr>\n",
       "      <th>4</th>\n",
       "      <td>73348</td>\n",
       "      <td>apartamento</td>\n",
       "      <td>pazaje santa cruz</td>\n",
       "      <td>Distrito Federal</td>\n",
       "      <td>1</td>\n",
       "      <td>0.6529</td>\n",
       "      <td>10.555396</td>\n",
       "    </tr>\n",
       "  </tbody>\n",
       "</table>\n",
       "</div>"
      ],
      "text/plain": [
       "       id     tipodepropiedad                         direccion  \\\n",
       "0  254099         apartamento   avenida division del norte 2005   \n",
       "1   53461  casa en condominio                        av. mexico   \n",
       "2  126147         apartamento             condominio tlalpan 2b   \n",
       "3  130216                casa  matias romero, colonia del valle   \n",
       "4   73348         apartamento                 pazaje santa cruz   \n",
       "\n",
       "          provincia  sum  porcentaje_dir_unicas_provincia  \\\n",
       "0  Distrito Federal    1                           0.6529   \n",
       "1  Distrito Federal    1                           0.6529   \n",
       "2  Distrito Federal    1                           0.6529   \n",
       "3  Distrito Federal    1                           0.6529   \n",
       "4  Distrito Federal    1                           0.6529   \n",
       "\n",
       "   log_dir_unicas_provincia  \n",
       "0                 10.555396  \n",
       "1                 10.555396  \n",
       "2                 10.555396  \n",
       "3                 10.555396  \n",
       "4                 10.555396  "
      ]
     },
     "execution_count": 7,
     "metadata": {},
     "output_type": "execute_result"
    }
   ],
   "source": [
    "training_data['sum'] = 1\n",
    "unique = training_data.groupby(['provincia','direccion','tipodepropiedad']).agg(unique_dirs = ('sum','sum')).reset_index()\n",
    "unique['sum'] = 1\n",
    "unique = unique.groupby(['provincia']).agg(unique_dirs = ('sum','sum'), total_dirs =('unique_dirs','sum') ).reset_index()\n",
    "unique['porcentaje_dir_unicas_provincia'] = unique['unique_dirs']/unique['total_dirs']\n",
    "unique['log_dir_unicas_provincia'] = unique['unique_dirs'].apply(math.log)\n",
    "unique = unique.drop(['unique_dirs','total_dirs'],axis=1)\n",
    "td = training_data.merge(unique, on='provincia', how = 'outer')\n",
    "td.head()"
   ]
  },
  {
   "cell_type": "code",
   "execution_count": 8,
   "metadata": {},
   "outputs": [
    {
     "name": "stdout",
     "output_type": "stream",
     "text": [
      "<class 'pandas.core.frame.DataFrame'>\n",
      "Int64Index: 60000 entries, 0 to 59999\n",
      "Data columns (total 7 columns):\n",
      "id                                 60000 non-null int64\n",
      "tipodepropiedad                    60000 non-null object\n",
      "direccion                          60000 non-null object\n",
      "provincia                          59958 non-null object\n",
      "sum                                60000 non-null int64\n",
      "porcentaje_dir_unicas_provincia    59958 non-null float64\n",
      "log_dir_unicas_provincia           59958 non-null float64\n",
      "dtypes: float64(2), int64(2), object(3)\n",
      "memory usage: 3.7+ MB\n"
     ]
    }
   ],
   "source": [
    "evaluation_data['sum'] = 1\n",
    "unique = evaluation_data.groupby(['provincia','direccion','tipodepropiedad']).agg(unique_dirs = ('sum','sum')).reset_index()\n",
    "unique['sum'] = 1\n",
    "unique = unique.groupby(['provincia']).agg(unique_dirs = ('sum','sum'), total_dirs =('unique_dirs','sum') ).reset_index()\n",
    "unique['porcentaje_dir_unicas_provincia'] = unique['unique_dirs']/unique['total_dirs']\n",
    "unique['log_dir_unicas_provincia'] = unique['unique_dirs'].apply(math.log)\n",
    "unique = unique.drop(['unique_dirs','total_dirs'],axis=1)\n",
    "ed = evaluation_data.merge(unique, on='provincia',how ='outer')\n",
    "ed.info()"
   ]
  },
  {
   "cell_type": "code",
   "execution_count": 9,
   "metadata": {},
   "outputs": [
    {
     "name": "stdout",
     "output_type": "stream",
     "text": [
      "<class 'pandas.core.frame.DataFrame'>\n",
      "Int64Index: 240000 entries, 0 to 239999\n",
      "Data columns (total 7 columns):\n",
      "id                                 240000 non-null int64\n",
      "tipodepropiedad                    240000 non-null object\n",
      "direccion                          240000 non-null object\n",
      "provincia                          239845 non-null object\n",
      "sum                                240000 non-null int64\n",
      "porcentaje_dir_unicas_provincia    239845 non-null float64\n",
      "log_dir_unicas_provincia           239845 non-null float64\n",
      "dtypes: float64(2), int64(2), object(3)\n",
      "memory usage: 14.6+ MB\n"
     ]
    }
   ],
   "source": [
    "td.info()"
   ]
  },
  {
   "cell_type": "code",
   "execution_count": 6,
   "metadata": {},
   "outputs": [
    {
     "name": "stdout",
     "output_type": "stream",
     "text": [
      "<class 'pandas.core.frame.DataFrame'>\n",
      "RangeIndex: 60000 entries, 0 to 59999\n",
      "Data columns (total 5 columns):\n",
      "id                 60000 non-null int64\n",
      "tipodepropiedad    60000 non-null object\n",
      "direccion          60000 non-null object\n",
      "provincia          59958 non-null object\n",
      "sum                60000 non-null int64\n",
      "dtypes: int64(2), object(3)\n",
      "memory usage: 2.3+ MB\n"
     ]
    }
   ],
   "source": [
    "evaluation_data.info()"
   ]
  },
  {
   "cell_type": "code",
   "execution_count": 28,
   "metadata": {},
   "outputs": [
    {
     "data": {
      "text/html": [
       "<div>\n",
       "<style scoped>\n",
       "    .dataframe tbody tr th:only-of-type {\n",
       "        vertical-align: middle;\n",
       "    }\n",
       "\n",
       "    .dataframe tbody tr th {\n",
       "        vertical-align: top;\n",
       "    }\n",
       "\n",
       "    .dataframe thead th {\n",
       "        text-align: right;\n",
       "    }\n",
       "</style>\n",
       "<table border=\"1\" class=\"dataframe\">\n",
       "  <thead>\n",
       "    <tr style=\"text-align: right;\">\n",
       "      <th></th>\n",
       "      <th>id</th>\n",
       "      <th>porcentaje_dir_unicas_provincia</th>\n",
       "      <th>log_dir_unicas_provincia</th>\n",
       "    </tr>\n",
       "  </thead>\n",
       "  <tbody>\n",
       "    <tr>\n",
       "      <th>0</th>\n",
       "      <td>254099</td>\n",
       "      <td>0.808692</td>\n",
       "      <td>10.653771</td>\n",
       "    </tr>\n",
       "    <tr>\n",
       "      <th>1</th>\n",
       "      <td>53461</td>\n",
       "      <td>0.808692</td>\n",
       "      <td>10.653771</td>\n",
       "    </tr>\n",
       "    <tr>\n",
       "      <th>2</th>\n",
       "      <td>126147</td>\n",
       "      <td>0.808692</td>\n",
       "      <td>10.653771</td>\n",
       "    </tr>\n",
       "    <tr>\n",
       "      <th>3</th>\n",
       "      <td>130216</td>\n",
       "      <td>0.808692</td>\n",
       "      <td>10.653771</td>\n",
       "    </tr>\n",
       "    <tr>\n",
       "      <th>4</th>\n",
       "      <td>73348</td>\n",
       "      <td>0.808692</td>\n",
       "      <td>10.653771</td>\n",
       "    </tr>\n",
       "  </tbody>\n",
       "</table>\n",
       "</div>"
      ],
      "text/plain": [
       "       id  porcentaje_dir_unicas_provincia  log_dir_unicas_provincia\n",
       "0  254099                         0.808692                 10.653771\n",
       "1   53461                         0.808692                 10.653771\n",
       "2  126147                         0.808692                 10.653771\n",
       "3  130216                         0.808692                 10.653771\n",
       "4   73348                         0.808692                 10.653771"
      ]
     },
     "execution_count": 28,
     "metadata": {},
     "output_type": "execute_result"
    }
   ],
   "source": [
    "td = td.drop(['tipodepropiedad','direccion','provincia','sum'],axis = 1)\n",
    "ed = ed.drop(['tipodepropiedad','direccion','provincia','sum'], axis = 1)\n",
    "td.head()"
   ]
  },
  {
   "cell_type": "code",
   "execution_count": 26,
   "metadata": {},
   "outputs": [],
   "source": [
    "td.to_csv('../../res/ftr/direcciones_unicas_train.csv')\n",
    "ed.to_csv('../../res/ftr/direcciones_unicas_evaluation.csv')"
   ]
  }
 ],
 "metadata": {
  "kernelspec": {
   "display_name": "Python 3",
   "language": "python",
   "name": "python3"
  },
  "language_info": {
   "codemirror_mode": {
    "name": "ipython",
    "version": 3
   },
   "file_extension": ".py",
   "mimetype": "text/x-python",
   "name": "python",
   "nbconvert_exporter": "python",
   "pygments_lexer": "ipython3",
   "version": "3.7.4"
  }
 },
 "nbformat": 4,
 "nbformat_minor": 2
}
