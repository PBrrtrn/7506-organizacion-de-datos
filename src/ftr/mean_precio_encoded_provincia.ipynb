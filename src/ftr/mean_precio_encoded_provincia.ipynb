{
 "cells": [
  {
   "cell_type": "code",
   "execution_count": 1,
   "metadata": {},
   "outputs": [
    {
     "data": {
      "text/html": [
       "<div>\n",
       "<style scoped>\n",
       "    .dataframe tbody tr th:only-of-type {\n",
       "        vertical-align: middle;\n",
       "    }\n",
       "\n",
       "    .dataframe tbody tr th {\n",
       "        vertical-align: top;\n",
       "    }\n",
       "\n",
       "    .dataframe thead th {\n",
       "        text-align: right;\n",
       "    }\n",
       "</style>\n",
       "<table border=\"1\" class=\"dataframe\">\n",
       "  <thead>\n",
       "    <tr style=\"text-align: right;\">\n",
       "      <th></th>\n",
       "      <th>id</th>\n",
       "      <th>provincia</th>\n",
       "      <th>precio</th>\n",
       "    </tr>\n",
       "  </thead>\n",
       "  <tbody>\n",
       "    <tr>\n",
       "      <td>0</td>\n",
       "      <td>254099</td>\n",
       "      <td>Distrito Federal</td>\n",
       "      <td>2273000.0</td>\n",
       "    </tr>\n",
       "    <tr>\n",
       "      <td>1</td>\n",
       "      <td>53461</td>\n",
       "      <td>Distrito Federal</td>\n",
       "      <td>3600000.0</td>\n",
       "    </tr>\n",
       "    <tr>\n",
       "      <td>2</td>\n",
       "      <td>247984</td>\n",
       "      <td>Jalisco</td>\n",
       "      <td>1200000.0</td>\n",
       "    </tr>\n",
       "    <tr>\n",
       "      <td>3</td>\n",
       "      <td>209067</td>\n",
       "      <td>Edo. de México</td>\n",
       "      <td>650000.0</td>\n",
       "    </tr>\n",
       "    <tr>\n",
       "      <td>4</td>\n",
       "      <td>185997</td>\n",
       "      <td>Jalisco</td>\n",
       "      <td>1150000.0</td>\n",
       "    </tr>\n",
       "  </tbody>\n",
       "</table>\n",
       "</div>"
      ],
      "text/plain": [
       "       id         provincia     precio\n",
       "0  254099  Distrito Federal  2273000.0\n",
       "1   53461  Distrito Federal  3600000.0\n",
       "2  247984           Jalisco  1200000.0\n",
       "3  209067    Edo. de México   650000.0\n",
       "4  185997           Jalisco  1150000.0"
      ]
     },
     "execution_count": 1,
     "metadata": {},
     "output_type": "execute_result"
    }
   ],
   "source": [
    "import pandas as pd\n",
    "import numpy as np\n",
    "\n",
    "cols_train = ['id', 'provincia', 'precio']\n",
    "cols_evaluation = ['id', 'provincia']\n",
    "\n",
    "types = {'id': int, 'provincia': str, 'precio': float}\n",
    "\n",
    "training_data = pd.read_csv('../../data/TP2/train.csv', usecols = cols_train, dtype = types)\n",
    "evaluation_data = pd.read_csv('../../data/TP2/test.csv', usecols = cols_evaluation, dtype = types)\n",
    "\n",
    "training_data.head()"
   ]
  },
  {
   "cell_type": "code",
   "execution_count": 2,
   "metadata": {},
   "outputs": [
    {
     "data": {
      "text/plain": [
       "{'Aguascalientes': 1477188.769537935,\n",
       " 'Baja California Norte': 767441.75,\n",
       " 'Baja California Sur': 1216452.821764706,\n",
       " 'Campeche': 1570917.8212927757,\n",
       " 'Chiapas': 1924125.7202486678,\n",
       " 'Chihuahua': 1744530.6126361657,\n",
       " 'Coahuila': 1505305.448985115,\n",
       " 'Colima': 1531380.161706349,\n",
       " 'Distrito Federal': 3471705.0857288656,\n",
       " 'Durango': 1210388.9828571428,\n",
       " 'Edo. de México': 2762464.912490687,\n",
       " 'Guanajuato': 1866959.4325174824,\n",
       " 'Guerrero': 2548741.85660941,\n",
       " 'Hidalgo': 1305550.5351051171,\n",
       " 'Jalisco': 2367693.5765608815,\n",
       " 'Michoacán': 1478503.670578713,\n",
       " 'Morelos': 2290088.0092680934,\n",
       " 'Nayarit': 1426790.823964497,\n",
       " 'Nuevo León': 2717757.654724615,\n",
       " 'Oaxaca': 1575517.8902953586,\n",
       " 'Puebla': 2298403.6419729395,\n",
       " 'Querétaro': 2144108.8953378857,\n",
       " 'Quintana Roo': 2402966.9358704793,\n",
       " 'San luis Potosí': 1920424.9595122528,\n",
       " 'Sinaloa': 1634571.6445182725,\n",
       " 'Sonora': 1483715.8567603747,\n",
       " 'Tabasco': 2300480.2263581487,\n",
       " 'Tamaulipas': 1589666.9782891881,\n",
       " 'Tlaxcala': 1080993.3408820024,\n",
       " 'Veracruz': 1889788.5216938562,\n",
       " 'Yucatán': 2036019.839556004,\n",
       " 'Zacatecas': 1453747.7978723405,\n",
       " 'nan': 2968021.9870967744}"
      ]
     },
     "execution_count": 2,
     "metadata": {},
     "output_type": "execute_result"
    }
   ],
   "source": [
    "training_data['provincia'] = training_data['provincia'].apply(lambda x: str(x) )\n",
    "evaluation_data['provincia'] = evaluation_data['provincia'].apply(lambda x: str(x) )\n",
    "\n",
    "mean_precios = training_data.groupby('provincia').agg({'precio':'mean'}).reset_index()\n",
    "\n",
    "precio_mean_by_provincia = {}\n",
    "for tipo in mean_precios['provincia'].unique():\n",
    "    precio_mean_by_provincia[tipo] = mean_precios.loc[mean_precios['provincia']==tipo]['precio'].values[0]\n",
    "\n",
    "precio_mean_by_provincia"
   ]
  },
  {
   "cell_type": "code",
   "execution_count": 3,
   "metadata": {},
   "outputs": [
    {
     "data": {
      "text/html": [
       "<div>\n",
       "<style scoped>\n",
       "    .dataframe tbody tr th:only-of-type {\n",
       "        vertical-align: middle;\n",
       "    }\n",
       "\n",
       "    .dataframe tbody tr th {\n",
       "        vertical-align: top;\n",
       "    }\n",
       "\n",
       "    .dataframe thead th {\n",
       "        text-align: right;\n",
       "    }\n",
       "</style>\n",
       "<table border=\"1\" class=\"dataframe\">\n",
       "  <thead>\n",
       "    <tr style=\"text-align: right;\">\n",
       "      <th></th>\n",
       "      <th>id</th>\n",
       "      <th>mean_precio_encoded_provincia</th>\n",
       "    </tr>\n",
       "  </thead>\n",
       "  <tbody>\n",
       "    <tr>\n",
       "      <td>0</td>\n",
       "      <td>4941</td>\n",
       "      <td>3.471705e+06</td>\n",
       "    </tr>\n",
       "    <tr>\n",
       "      <td>1</td>\n",
       "      <td>51775</td>\n",
       "      <td>2.036020e+06</td>\n",
       "    </tr>\n",
       "    <tr>\n",
       "      <td>2</td>\n",
       "      <td>115253</td>\n",
       "      <td>3.471705e+06</td>\n",
       "    </tr>\n",
       "    <tr>\n",
       "      <td>3</td>\n",
       "      <td>299321</td>\n",
       "      <td>2.548742e+06</td>\n",
       "    </tr>\n",
       "    <tr>\n",
       "      <td>4</td>\n",
       "      <td>173570</td>\n",
       "      <td>2.762465e+06</td>\n",
       "    </tr>\n",
       "  </tbody>\n",
       "</table>\n",
       "</div>"
      ],
      "text/plain": [
       "       id  mean_precio_encoded_provincia\n",
       "0    4941                   3.471705e+06\n",
       "1   51775                   2.036020e+06\n",
       "2  115253                   3.471705e+06\n",
       "3  299321                   2.548742e+06\n",
       "4  173570                   2.762465e+06"
      ]
     },
     "execution_count": 3,
     "metadata": {},
     "output_type": "execute_result"
    }
   ],
   "source": [
    "training_data['mean_precio_encoded_provincia'] = training_data['provincia'].apply(lambda x: precio_mean_by_provincia[x])\n",
    "evaluation_data['mean_precio_encoded_provincia'] = evaluation_data['provincia'].apply(lambda x: precio_mean_by_provincia[x])\n",
    "\n",
    "training_data.drop(columns=['provincia', 'precio'], inplace = True)\n",
    "evaluation_data.drop(columns=['provincia'], inplace = True)\n",
    "\n",
    "evaluation_data.head()"
   ]
  },
  {
   "cell_type": "code",
   "execution_count": 4,
   "metadata": {},
   "outputs": [],
   "source": [
    "training_data.to_csv('../../res/ftr/mean_precio_encoded_provincia_train.csv')\n",
    "evaluation_data.to_csv('../../res/ftr/mean_precio_encoded_provincia_evaluation.csv')"
   ]
  },
  {
   "cell_type": "code",
   "execution_count": null,
   "metadata": {},
   "outputs": [],
   "source": []
  }
 ],
 "metadata": {
  "kernelspec": {
   "display_name": "Python 3",
   "language": "python",
   "name": "python3"
  },
  "language_info": {
   "codemirror_mode": {
    "name": "ipython",
    "version": 3
   },
   "file_extension": ".py",
   "mimetype": "text/x-python",
   "name": "python",
   "nbconvert_exporter": "python",
   "pygments_lexer": "ipython3",
   "version": "3.6.8"
  }
 },
 "nbformat": 4,
 "nbformat_minor": 2
}
