{
 "cells": [
  {
   "cell_type": "code",
   "execution_count": 1,
   "metadata": {},
   "outputs": [],
   "source": [
    "import pandas as pd\n",
    "import numpy as np\n",
    "from scipy.interpolate import interp1d\n",
    "import matplotlib.pyplot as plt"
   ]
  },
  {
   "cell_type": "code",
   "execution_count": 2,
   "metadata": {},
   "outputs": [],
   "source": [
    "types = {'id': int, 'fecha':str, 'precio':int}\n",
    "dolar_data = pd.read_csv(\"..\\..\\data\\TP2\\dolar_mexico.csv\", encoding='latin-1', sep = ',')\n",
    "dolar_data.columns = ['fecha', 'dolar']\n",
    "\n",
    "training_data = pd.read_csv('../../data/TP2/train.csv', dtype = types, usecols=['id', 'fecha', 'precio'])\n",
    "test_data = pd.read_csv('../../data/TP2/test.csv', dtype = types, usecols=['id', 'fecha'])"
   ]
  },
  {
   "cell_type": "code",
   "execution_count": 3,
   "metadata": {},
   "outputs": [],
   "source": [
    "dolar_data['fecha'] = dolar_data['fecha'].apply(lambda x: x[6:10] + '-' + x[3:5] + '-' + x[0:2])\n",
    "\n",
    "training_data['fecha'] = training_data['fecha'].apply(lambda x: x[0:10])\n",
    "test_data['fecha'] = test_data['fecha'].apply(lambda x: x[0:10])"
   ]
  },
  {
   "cell_type": "markdown",
   "metadata": {},
   "source": [
    "Plot del dolar en funcion de la fecha"
   ]
  },
  {
   "cell_type": "code",
   "execution_count": 4,
   "metadata": {},
   "outputs": [
    {
     "data": {
      "text/plain": [
       "[<matplotlib.lines.Line2D at 0x22c2c930488>]"
      ]
     },
     "execution_count": 4,
     "metadata": {},
     "output_type": "execute_result"
    },
    {
     "data": {
      "image/png": "[encoded data removed]",
      "text/plain": [
       "<Figure size 432x288 with 1 Axes>"
      ]
     },
     "metadata": {
      "needs_background": "light"
     },
     "output_type": "display_data"
    }
   ],
   "source": [
    "x = dolar_data.fecha\n",
    "y = dolar_data.dolar\n",
    "plt.plot(x,y)"
   ]
  },
  {
   "cell_type": "code",
   "execution_count": 5,
   "metadata": {},
   "outputs": [
    {
     "data": {
      "text/plain": [
       "'2012-01-01'"
      ]
     },
     "execution_count": 5,
     "metadata": {},
     "output_type": "execute_result"
    }
   ],
   "source": [
    "dolar_data.fecha[0]"
   ]
  },
  {
   "cell_type": "code",
   "execution_count": 6,
   "metadata": {},
   "outputs": [
    {
     "data": {
      "text/plain": [
       "'2015-08-23'"
      ]
     },
     "execution_count": 6,
     "metadata": {},
     "output_type": "execute_result"
    }
   ],
   "source": [
    "training_data.fecha[0]"
   ]
  },
  {
   "cell_type": "code",
   "execution_count": 7,
   "metadata": {},
   "outputs": [],
   "source": [
    "def encode_date(date):\n",
    "    numbers = date.split('-')\n",
    "    day = numbers[2]\n",
    "    month = numbers[1]\n",
    "    year = numbers[0]\n",
    "    return int(year+month+day)"
   ]
  },
  {
   "cell_type": "code",
   "execution_count": 8,
   "metadata": {},
   "outputs": [],
   "source": [
    "def to_date(fecha):\n",
    "    return str(fecha)[0:4]+'-'+str(fecha)[4:6]+'-'+str(fecha)[6:8]"
   ]
  },
  {
   "cell_type": "code",
   "execution_count": 9,
   "metadata": {},
   "outputs": [],
   "source": [
    "fechas_a_predecir = training_data.merge(dolar_data, on='fecha',how='left')"
   ]
  },
  {
   "cell_type": "code",
   "execution_count": 10,
   "metadata": {},
   "outputs": [],
   "source": [
    "fechas_a_predecir = fechas_a_predecir[fechas_a_predecir['dolar'].isnull()].fecha.unique().tolist()"
   ]
  },
  {
   "cell_type": "code",
   "execution_count": 11,
   "metadata": {},
   "outputs": [
    {
     "data": {
      "text/plain": [
       "568"
      ]
     },
     "execution_count": 11,
     "metadata": {},
     "output_type": "execute_result"
    }
   ],
   "source": [
    "len(fechas_a_predecir)"
   ]
  },
  {
   "cell_type": "markdown",
   "metadata": {},
   "source": [
    " Codifico las fechas para poder usar el interpolador"
   ]
  },
  {
   "cell_type": "code",
   "execution_count": 12,
   "metadata": {},
   "outputs": [],
   "source": [
    "fechas_codificadas = []\n",
    "for fecha in fechas_a_predecir:\n",
    "    fechas_codificadas.append(encode_date(fecha))"
   ]
  },
  {
   "cell_type": "code",
   "execution_count": 13,
   "metadata": {},
   "outputs": [
    {
     "data": {
      "text/plain": [
       "568"
      ]
     },
     "execution_count": 13,
     "metadata": {},
     "output_type": "execute_result"
    }
   ],
   "source": [
    "len(fechas_codificadas) "
   ]
  },
  {
   "cell_type": "markdown",
   "metadata": {},
   "source": [
    "Creo el interpolador con los datos que tengo:  x = fechas codificadas, y = pesos mexicanos"
   ]
  },
  {
   "cell_type": "code",
   "execution_count": 14,
   "metadata": {},
   "outputs": [],
   "source": [
    "x = dolar_data.fecha.apply(lambda x: encode_date(x)).to_list()\n",
    "y = dolar_data.dolar.to_list()"
   ]
  },
  {
   "cell_type": "code",
   "execution_count": 15,
   "metadata": {},
   "outputs": [
    {
     "data": {
      "text/plain": [
       "[20120101,\n",
       " 20120102,\n",
       " 20120103,\n",
       " 20120104,\n",
       " 20120105,\n",
       " 20120106,\n",
       " 20120109,\n",
       " 20120110,\n",
       " 20120111,\n",
       " 20120112]"
      ]
     },
     "execution_count": 15,
     "metadata": {},
     "output_type": "execute_result"
    }
   ],
   "source": [
    "x[0:10]"
   ]
  },
  {
   "cell_type": "code",
   "execution_count": 16,
   "metadata": {},
   "outputs": [],
   "source": [
    "f2 = interp1d(x, y, kind='previous')"
   ]
  },
  {
   "cell_type": "code",
   "execution_count": 17,
   "metadata": {},
   "outputs": [],
   "source": [
    "pesos_estimados = []\n",
    "for fecha in fechas_codificadas:\n",
    "    pesos_estimados.append([to_date(fecha), f2(fecha).tolist()])"
   ]
  },
  {
   "cell_type": "code",
   "execution_count": 18,
   "metadata": {},
   "outputs": [
    {
     "data": {
      "text/plain": [
       "[['2012-01-07', 13.7228],\n",
       " ['2012-01-08', 13.7228],\n",
       " ['2012-01-14', 13.6263],\n",
       " ['2012-01-15', 13.6263],\n",
       " ['2012-01-21', 13.224],\n",
       " ['2012-01-22', 13.224],\n",
       " ['2012-01-28', 12.9504],\n",
       " ['2012-01-29', 12.9504],\n",
       " ['2012-02-04', 12.712],\n",
       " ['2012-02-05', 12.712]]"
      ]
     },
     "execution_count": 18,
     "metadata": {},
     "output_type": "execute_result"
    }
   ],
   "source": [
    "pesos_estimados.sort()\n",
    "pesos_estimados[0:10]"
   ]
  },
  {
   "cell_type": "code",
   "execution_count": 19,
   "metadata": {},
   "outputs": [],
   "source": [
    "pesos_estimadosDF = pd.DataFrame(pesos_estimados, columns=[\"fecha\",\"dolar\"])"
   ]
  },
  {
   "cell_type": "code",
   "execution_count": 20,
   "metadata": {},
   "outputs": [
    {
     "data": {
      "text/html": [
       "<div>\n",
       "<style scoped>\n",
       "    .dataframe tbody tr th:only-of-type {\n",
       "        vertical-align: middle;\n",
       "    }\n",
       "\n",
       "    .dataframe tbody tr th {\n",
       "        vertical-align: top;\n",
       "    }\n",
       "\n",
       "    .dataframe thead th {\n",
       "        text-align: right;\n",
       "    }\n",
       "</style>\n",
       "<table border=\"1\" class=\"dataframe\">\n",
       "  <thead>\n",
       "    <tr style=\"text-align: right;\">\n",
       "      <th></th>\n",
       "      <th>fecha</th>\n",
       "      <th>dolar</th>\n",
       "    </tr>\n",
       "  </thead>\n",
       "  <tbody>\n",
       "    <tr>\n",
       "      <td>0</td>\n",
       "      <td>2012-01-07</td>\n",
       "      <td>13.7228</td>\n",
       "    </tr>\n",
       "    <tr>\n",
       "      <td>1</td>\n",
       "      <td>2012-01-08</td>\n",
       "      <td>13.7228</td>\n",
       "    </tr>\n",
       "    <tr>\n",
       "      <td>2</td>\n",
       "      <td>2012-01-14</td>\n",
       "      <td>13.6263</td>\n",
       "    </tr>\n",
       "    <tr>\n",
       "      <td>3</td>\n",
       "      <td>2012-01-15</td>\n",
       "      <td>13.6263</td>\n",
       "    </tr>\n",
       "    <tr>\n",
       "      <td>4</td>\n",
       "      <td>2012-01-21</td>\n",
       "      <td>13.2240</td>\n",
       "    </tr>\n",
       "    <tr>\n",
       "      <td>...</td>\n",
       "      <td>...</td>\n",
       "      <td>...</td>\n",
       "    </tr>\n",
       "    <tr>\n",
       "      <td>563</td>\n",
       "      <td>2016-12-12</td>\n",
       "      <td>20.3305</td>\n",
       "    </tr>\n",
       "    <tr>\n",
       "      <td>564</td>\n",
       "      <td>2016-12-17</td>\n",
       "      <td>20.4280</td>\n",
       "    </tr>\n",
       "    <tr>\n",
       "      <td>565</td>\n",
       "      <td>2016-12-18</td>\n",
       "      <td>20.4280</td>\n",
       "    </tr>\n",
       "    <tr>\n",
       "      <td>566</td>\n",
       "      <td>2016-12-24</td>\n",
       "      <td>20.6271</td>\n",
       "    </tr>\n",
       "    <tr>\n",
       "      <td>567</td>\n",
       "      <td>2016-12-25</td>\n",
       "      <td>20.6271</td>\n",
       "    </tr>\n",
       "  </tbody>\n",
       "</table>\n",
       "<p>568 rows × 2 columns</p>\n",
       "</div>"
      ],
      "text/plain": [
       "          fecha    dolar\n",
       "0    2012-01-07  13.7228\n",
       "1    2012-01-08  13.7228\n",
       "2    2012-01-14  13.6263\n",
       "3    2012-01-15  13.6263\n",
       "4    2012-01-21  13.2240\n",
       "..          ...      ...\n",
       "563  2016-12-12  20.3305\n",
       "564  2016-12-17  20.4280\n",
       "565  2016-12-18  20.4280\n",
       "566  2016-12-24  20.6271\n",
       "567  2016-12-25  20.6271\n",
       "\n",
       "[568 rows x 2 columns]"
      ]
     },
     "execution_count": 20,
     "metadata": {},
     "output_type": "execute_result"
    }
   ],
   "source": [
    "pesos_estimadosDF"
   ]
  },
  {
   "cell_type": "code",
   "execution_count": 21,
   "metadata": {},
   "outputs": [],
   "source": [
    "estimados_mas_originales = dolar_data.append(pesos_estimadosDF)"
   ]
  },
  {
   "cell_type": "code",
   "execution_count": 22,
   "metadata": {},
   "outputs": [
    {
     "data": {
      "text/html": [
       "<div>\n",
       "<style scoped>\n",
       "    .dataframe tbody tr th:only-of-type {\n",
       "        vertical-align: middle;\n",
       "    }\n",
       "\n",
       "    .dataframe tbody tr th {\n",
       "        vertical-align: top;\n",
       "    }\n",
       "\n",
       "    .dataframe thead th {\n",
       "        text-align: right;\n",
       "    }\n",
       "</style>\n",
       "<table border=\"1\" class=\"dataframe\">\n",
       "  <thead>\n",
       "    <tr style=\"text-align: right;\">\n",
       "      <th></th>\n",
       "      <th>fecha</th>\n",
       "      <th>dolar</th>\n",
       "    </tr>\n",
       "  </thead>\n",
       "  <tbody>\n",
       "    <tr>\n",
       "      <td>0</td>\n",
       "      <td>2012-01-01</td>\n",
       "      <td>13.9547</td>\n",
       "    </tr>\n",
       "    <tr>\n",
       "      <td>1</td>\n",
       "      <td>2012-01-02</td>\n",
       "      <td>13.9342</td>\n",
       "    </tr>\n",
       "    <tr>\n",
       "      <td>2</td>\n",
       "      <td>2012-01-03</td>\n",
       "      <td>13.6882</td>\n",
       "    </tr>\n",
       "    <tr>\n",
       "      <td>3</td>\n",
       "      <td>2012-01-04</td>\n",
       "      <td>13.7144</td>\n",
       "    </tr>\n",
       "    <tr>\n",
       "      <td>4</td>\n",
       "      <td>2012-01-05</td>\n",
       "      <td>13.7409</td>\n",
       "    </tr>\n",
       "    <tr>\n",
       "      <td>...</td>\n",
       "      <td>...</td>\n",
       "      <td>...</td>\n",
       "    </tr>\n",
       "    <tr>\n",
       "      <td>563</td>\n",
       "      <td>2016-12-12</td>\n",
       "      <td>20.3305</td>\n",
       "    </tr>\n",
       "    <tr>\n",
       "      <td>564</td>\n",
       "      <td>2016-12-17</td>\n",
       "      <td>20.4280</td>\n",
       "    </tr>\n",
       "    <tr>\n",
       "      <td>565</td>\n",
       "      <td>2016-12-18</td>\n",
       "      <td>20.4280</td>\n",
       "    </tr>\n",
       "    <tr>\n",
       "      <td>566</td>\n",
       "      <td>2016-12-24</td>\n",
       "      <td>20.6271</td>\n",
       "    </tr>\n",
       "    <tr>\n",
       "      <td>567</td>\n",
       "      <td>2016-12-25</td>\n",
       "      <td>20.6271</td>\n",
       "    </tr>\n",
       "  </tbody>\n",
       "</table>\n",
       "<p>1827 rows × 2 columns</p>\n",
       "</div>"
      ],
      "text/plain": [
       "          fecha    dolar\n",
       "0    2012-01-01  13.9547\n",
       "1    2012-01-02  13.9342\n",
       "2    2012-01-03  13.6882\n",
       "3    2012-01-04  13.7144\n",
       "4    2012-01-05  13.7409\n",
       "..          ...      ...\n",
       "563  2016-12-12  20.3305\n",
       "564  2016-12-17  20.4280\n",
       "565  2016-12-18  20.4280\n",
       "566  2016-12-24  20.6271\n",
       "567  2016-12-25  20.6271\n",
       "\n",
       "[1827 rows x 2 columns]"
      ]
     },
     "execution_count": 22,
     "metadata": {},
     "output_type": "execute_result"
    }
   ],
   "source": [
    "estimados_mas_originales"
   ]
  },
  {
   "cell_type": "code",
   "execution_count": 23,
   "metadata": {},
   "outputs": [],
   "source": [
    "training_data = training_data.merge(estimados_mas_originales, on='fecha', how='left')"
   ]
  },
  {
   "cell_type": "markdown",
   "metadata": {},
   "source": [
    "Verifico que se hayan completado los nulls"
   ]
  },
  {
   "cell_type": "code",
   "execution_count": 24,
   "metadata": {},
   "outputs": [
    {
     "data": {
      "text/plain": [
       "0"
      ]
     },
     "execution_count": 24,
     "metadata": {},
     "output_type": "execute_result"
    }
   ],
   "source": [
    "training_data.dolar.isnull().sum()"
   ]
  },
  {
   "cell_type": "code",
   "execution_count": 25,
   "metadata": {},
   "outputs": [
    {
     "data": {
      "text/html": [
       "<div>\n",
       "<style scoped>\n",
       "    .dataframe tbody tr th:only-of-type {\n",
       "        vertical-align: middle;\n",
       "    }\n",
       "\n",
       "    .dataframe tbody tr th {\n",
       "        vertical-align: top;\n",
       "    }\n",
       "\n",
       "    .dataframe thead th {\n",
       "        text-align: right;\n",
       "    }\n",
       "</style>\n",
       "<table border=\"1\" class=\"dataframe\">\n",
       "  <thead>\n",
       "    <tr style=\"text-align: right;\">\n",
       "      <th></th>\n",
       "      <th>id</th>\n",
       "      <th>fecha</th>\n",
       "      <th>precio</th>\n",
       "      <th>dolar</th>\n",
       "    </tr>\n",
       "  </thead>\n",
       "  <tbody>\n",
       "    <tr>\n",
       "      <td>0</td>\n",
       "      <td>254099</td>\n",
       "      <td>2015-08-23</td>\n",
       "      <td>2273000</td>\n",
       "      <td>16.9171</td>\n",
       "    </tr>\n",
       "    <tr>\n",
       "      <td>1</td>\n",
       "      <td>53461</td>\n",
       "      <td>2013-06-28</td>\n",
       "      <td>3600000</td>\n",
       "      <td>13.0279</td>\n",
       "    </tr>\n",
       "    <tr>\n",
       "      <td>2</td>\n",
       "      <td>247984</td>\n",
       "      <td>2015-10-17</td>\n",
       "      <td>1200000</td>\n",
       "      <td>16.3959</td>\n",
       "    </tr>\n",
       "    <tr>\n",
       "      <td>3</td>\n",
       "      <td>209067</td>\n",
       "      <td>2012-03-09</td>\n",
       "      <td>650000</td>\n",
       "      <td>12.6299</td>\n",
       "    </tr>\n",
       "    <tr>\n",
       "      <td>4</td>\n",
       "      <td>185997</td>\n",
       "      <td>2016-06-07</td>\n",
       "      <td>1150000</td>\n",
       "      <td>18.5067</td>\n",
       "    </tr>\n",
       "    <tr>\n",
       "      <td>...</td>\n",
       "      <td>...</td>\n",
       "      <td>...</td>\n",
       "      <td>...</td>\n",
       "      <td>...</td>\n",
       "    </tr>\n",
       "    <tr>\n",
       "      <td>239995</td>\n",
       "      <td>119879</td>\n",
       "      <td>2015-02-08</td>\n",
       "      <td>650000</td>\n",
       "      <td>14.9024</td>\n",
       "    </tr>\n",
       "    <tr>\n",
       "      <td>239996</td>\n",
       "      <td>259178</td>\n",
       "      <td>2014-07-10</td>\n",
       "      <td>1940000</td>\n",
       "      <td>13.0015</td>\n",
       "    </tr>\n",
       "    <tr>\n",
       "      <td>239997</td>\n",
       "      <td>131932</td>\n",
       "      <td>2015-03-03</td>\n",
       "      <td>3400000</td>\n",
       "      <td>14.9544</td>\n",
       "    </tr>\n",
       "    <tr>\n",
       "      <td>239998</td>\n",
       "      <td>146867</td>\n",
       "      <td>2014-12-26</td>\n",
       "      <td>2890000</td>\n",
       "      <td>14.6955</td>\n",
       "    </tr>\n",
       "    <tr>\n",
       "      <td>239999</td>\n",
       "      <td>121958</td>\n",
       "      <td>2015-06-19</td>\n",
       "      <td>3650000</td>\n",
       "      <td>15.3274</td>\n",
       "    </tr>\n",
       "  </tbody>\n",
       "</table>\n",
       "<p>240000 rows × 4 columns</p>\n",
       "</div>"
      ],
      "text/plain": [
       "            id       fecha   precio    dolar\n",
       "0       254099  2015-08-23  2273000  16.9171\n",
       "1        53461  2013-06-28  3600000  13.0279\n",
       "2       247984  2015-10-17  1200000  16.3959\n",
       "3       209067  2012-03-09   650000  12.6299\n",
       "4       185997  2016-06-07  1150000  18.5067\n",
       "...        ...         ...      ...      ...\n",
       "239995  119879  2015-02-08   650000  14.9024\n",
       "239996  259178  2014-07-10  1940000  13.0015\n",
       "239997  131932  2015-03-03  3400000  14.9544\n",
       "239998  146867  2014-12-26  2890000  14.6955\n",
       "239999  121958  2015-06-19  3650000  15.3274\n",
       "\n",
       "[240000 rows x 4 columns]"
      ]
     },
     "execution_count": 25,
     "metadata": {},
     "output_type": "execute_result"
    }
   ],
   "source": [
    "training_data"
   ]
  },
  {
   "cell_type": "markdown",
   "metadata": {},
   "source": [
    "Me fijo si tengo nulls en test_data"
   ]
  },
  {
   "cell_type": "code",
   "execution_count": 26,
   "metadata": {},
   "outputs": [],
   "source": [
    "test_data = test_data.merge(estimados_mas_originales, on='fecha', how='left')"
   ]
  },
  {
   "cell_type": "code",
   "execution_count": 27,
   "metadata": {},
   "outputs": [
    {
     "data": {
      "text/plain": [
       "0"
      ]
     },
     "execution_count": 27,
     "metadata": {},
     "output_type": "execute_result"
    }
   ],
   "source": [
    "test_data.dolar.isnull().sum()"
   ]
  },
  {
   "cell_type": "code",
   "execution_count": 28,
   "metadata": {},
   "outputs": [],
   "source": [
    "test_data = test_data[[\"id\",\"dolar\"]]\n",
    "training_data = training_data[[\"id\",\"dolar\"]]"
   ]
  },
  {
   "cell_type": "code",
   "execution_count": 29,
   "metadata": {},
   "outputs": [],
   "source": [
    "training_data.to_csv('../../res/ftr/dolar_for_date_train.csv')\n",
    "test_data.to_csv('../../res/ftr/dolar_for_date_evaluation.csv')"
   ]
  },
  {
   "cell_type": "code",
   "execution_count": 30,
   "metadata": {},
   "outputs": [
    {
     "data": {
      "text/plain": [
       "(60000, 2)"
      ]
     },
     "execution_count": 30,
     "metadata": {},
     "output_type": "execute_result"
    }
   ],
   "source": [
    "test_data.shape"
   ]
  },
  {
   "cell_type": "code",
   "execution_count": 31,
   "metadata": {},
   "outputs": [
    {
     "data": {
      "text/plain": [
       "(240000, 2)"
      ]
     },
     "execution_count": 31,
     "metadata": {},
     "output_type": "execute_result"
    }
   ],
   "source": [
    "training_data.shape"
   ]
  },
  {
   "cell_type": "code",
   "execution_count": null,
   "metadata": {},
   "outputs": [],
   "source": []
  }
 ],
 "metadata": {
  "kernelspec": {
   "display_name": "Python 3",
   "language": "python",
   "name": "python3"
  },
  "language_info": {
   "codemirror_mode": {
    "name": "ipython",
    "version": 3
   },
   "file_extension": ".py",
   "mimetype": "text/x-python",
   "name": "python",
   "nbconvert_exporter": "python",
   "pygments_lexer": "ipython3",
   "version": "3.7.4"
  }
 },
 "nbformat": 4,
 "nbformat_minor": 2
}
