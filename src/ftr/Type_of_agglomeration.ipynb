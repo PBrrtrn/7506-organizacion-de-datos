{
 "cells": [
  {
   "cell_type": "code",
   "execution_count": 1,
   "metadata": {},
   "outputs": [],
   "source": [
    "import pandas as pd\n",
    "import numpy as np\n",
    "\n",
    "pd.set_option('display.max_columns', 30)\n",
    "types = {'id': int, 'ciudad':str, 'provincia': str}\n",
    "\n",
    "training_data = pd.read_csv('../../data/train.csv', dtype = types, usecols=['id','provincia','ciudad'])\n",
    "evaluation_data = pd.read_csv('../../data/test.csv',dtype = types, usecols=['id','provincia','ciudad'])"
   ]
  },
  {
   "cell_type": "code",
   "execution_count": 2,
   "metadata": {},
   "outputs": [],
   "source": [
    "training_data['ciudad'].fillna('sinciudad', inplace = True)\n",
    "training_data['provincia'].fillna('sinprovincia', inplace = True)\n",
    "evaluation_data['ciudad'].fillna('sinciudad', inplace = True)\n",
    "evaluation_data['provincia'].fillna('sinprovincia', inplace = True)"
   ]
  },
  {
   "cell_type": "code",
   "execution_count": 3,
   "metadata": {},
   "outputs": [],
   "source": [
    "training_data['provincia'] = training_data['provincia'].apply(lambda x: x.lower())\n",
    "training_data['ciudad'] = training_data['ciudad'].apply(lambda x: x.lower())\n",
    "evaluation_data['provincia'] = evaluation_data['provincia'].apply(lambda x: x.lower())\n",
    "evaluation_data['ciudad'] = evaluation_data['ciudad'].apply(lambda x: x.lower())"
   ]
  },
  {
   "cell_type": "code",
   "execution_count": 4,
   "metadata": {},
   "outputs": [],
   "source": [
    "clasificacion_de_aglomeracion = {\n",
    "                    \"cajeme\":\"ciudad_muy_pequeña\",\n",
    "                    \"victoria\":\"ciudad_muy_pequeña\",\n",
    "                    \"coatzacoalcos\":\"ciudad_muy_pequeña\",\n",
    "                    \"colima\":\"ciudad_muy_pequeña\", \n",
    "                    \"córdoba\":\"ciudad_muy_pequeña\",\n",
    "                    \"cuautla\":\"ciudad_muy_pequeña\",\n",
    "                    \"ensenada\":\"ciudad_muy_pequeña\",\n",
    "                    \"irapuato\":\"ciudad_muy_pequeña\",\n",
    "                    \"mazatlán\":\"ciudad_muy_pequeña\",\n",
    "                    \"minatitlán\":\"ciudad_muy_pequeña\",\n",
    "                    \"monclova\":\"ciudad_muy_pequeña\",\n",
    "                    \"nuevo laredo\":\"ciudad_muy_pequeña\",\n",
    "                    \"orizaba\":\"ciudad_muy_pequeña\",\n",
    "                    \"puerto vallarta\":\"ciudad_muy_pequeña\",\n",
    "                    \"tehuacán\":\"ciudad_muy_pequeña\",\n",
    "                    \"tepic\":\"ciudad_muy_pequeña\",\n",
    "                    \"zacatecas\":\"ciudad_muy_pequeña\",                   \n",
    "                    \"acapulco de juárez\":\"ciudad_pequeña\",\n",
    "                    \"cancún\":\"ciudad_pequeña\",\n",
    "                    \"celaya\":\"ciudad_pequeña\",\n",
    "                    \"chihuahua\":\"ciudad_pequeña\",\n",
    "                    \"cuernavaca\":\"ciudad_pequeña\",\n",
    "                    \"culiacán\":\"ciudad_pequeña\",\n",
    "                    \"durango\":\"ciudad_pequeña\",\n",
    "                    \"hermosillo\":\"ciudad_pequeña\",\n",
    "                    \"matamoros\":\"ciudad_pequeña\",\n",
    "                    \"morelia\":\"ciudad_pequeña\",\n",
    "                    \"oaxaca de juárez\":\"ciudad_pequeña\",\n",
    "                    \"pachuca\":\"ciudad_pequeña\",\n",
    "                    \"poza rica de hidalgo\":\"ciudad_pequeña\",\n",
    "                    \"reynosa\":\"ciudad_pequeña\",\n",
    "                    \"saltillo\":\"ciudad_pequeña\",\n",
    "                    \"tampico\":\"ciudad_pequeña\",\n",
    "                    \"tlaxcala\":\"ciudad_pequeña\",\n",
    "                    \"tuxtla gutiérrez\":\"ciudad_pequeña\",\n",
    "                    \"veracruz\":\"ciudad_pequeña\",\n",
    "                    \"villahermosa\":\"ciudad_pequeña\",\n",
    "                    \"xalapa\":\"ciudad_pequeña\",\n",
    "                    \"aguascalientes\":\"ciudad_mediana\",\n",
    "                    \"juárez\":\"ciudad_mediana\",\n",
    "                    \"guadalajara\":\"ciudad_mediana\",\n",
    "                    \"león\":\"ciudad_mediana\",\n",
    "                    \"mérida\":\"ciudad_mediana\",\n",
    "                    \"mexicali\":\"ciudad_mediana\",\n",
    "                    \"monterrey\":\"ciudad_mediana\",\n",
    "                    \"puebla\":\"ciudad_mediana\",\n",
    "                    \"querétaro\":\"ciudad_mediana\",\n",
    "                    \"san luis potosí\":\"ciudad_mediana\",\n",
    "                    \"tijuana\":\"ciudad_mediana\",\n",
    "                    \"toluca\":\"ciudad_mediana\"\n",
    "                   }"
   ]
  },
  {
   "cell_type": "code",
   "execution_count": 5,
   "metadata": {},
   "outputs": [],
   "source": [
    "def tipo_de_aglomeracion(data):\n",
    "    ciudad = data[1]\n",
    "    if data[2] == \"distrito federal\": return \"megaciudad\"\n",
    "    if ciudad in clasificacion_de_aglomeracion: return clasificacion_de_aglomeracion[ciudad]\n",
    "    else: return \"ciudad_rural\""
   ]
  },
  {
   "cell_type": "code",
   "execution_count": 6,
   "metadata": {},
   "outputs": [],
   "source": [
    "training_data['tipo_de_aglomeracion'] = training_data.apply(tipo_de_aglomeracion, axis=1)\n",
    "evaluation_data['tipo_de_aglomeracion'] = training_data.apply(tipo_de_aglomeracion, axis=1)"
   ]
  },
  {
   "cell_type": "code",
   "execution_count": 7,
   "metadata": {},
   "outputs": [],
   "source": [
    "training_data.drop(columns=['ciudad','provincia'],inplace=True)\n",
    "evaluation_data.drop(columns=['ciudad', 'provincia'],inplace=True)"
   ]
  },
  {
   "cell_type": "code",
   "execution_count": 8,
   "metadata": {},
   "outputs": [],
   "source": [
    "evaluation_data.to_csv('../../res/ftr/type_of_agglomeration_evaluation.csv')\n",
    "training_data.to_csv('../../res/ftr/type_of_agglomeration_train.csv')"
   ]
  },
  {
   "cell_type": "code",
   "execution_count": null,
   "metadata": {},
   "outputs": [],
   "source": []
  }
 ],
 "metadata": {
  "kernelspec": {
   "display_name": "Python 3",
   "language": "python",
   "name": "python3"
  },
  "language_info": {
   "codemirror_mode": {
    "name": "ipython",
    "version": 3
   },
   "file_extension": ".py",
   "mimetype": "text/x-python",
   "name": "python",
   "nbconvert_exporter": "python",
   "pygments_lexer": "ipython3",
   "version": "3.6.8"
  }
 },
 "nbformat": 4,
 "nbformat_minor": 4
}
