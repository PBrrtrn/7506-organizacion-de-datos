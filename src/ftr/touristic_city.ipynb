{
 "cells": [
  {
   "cell_type": "code",
   "execution_count": 55,
   "metadata": {},
   "outputs": [
    {
     "data": {
      "text/html": [
       "<div>\n",
       "<style scoped>\n",
       "    .dataframe tbody tr th:only-of-type {\n",
       "        vertical-align: middle;\n",
       "    }\n",
       "\n",
       "    .dataframe tbody tr th {\n",
       "        vertical-align: top;\n",
       "    }\n",
       "\n",
       "    .dataframe thead th {\n",
       "        text-align: right;\n",
       "    }\n",
       "</style>\n",
       "<table border=\"1\" class=\"dataframe\">\n",
       "  <thead>\n",
       "    <tr style=\"text-align: right;\">\n",
       "      <th></th>\n",
       "      <th>id</th>\n",
       "      <th>ciudad</th>\n",
       "    </tr>\n",
       "  </thead>\n",
       "  <tbody>\n",
       "    <tr>\n",
       "      <th>0</th>\n",
       "      <td>254099</td>\n",
       "      <td>Benito Juárez</td>\n",
       "    </tr>\n",
       "    <tr>\n",
       "      <th>1</th>\n",
       "      <td>53461</td>\n",
       "      <td>La Magdalena Contreras</td>\n",
       "    </tr>\n",
       "    <tr>\n",
       "      <th>2</th>\n",
       "      <td>247984</td>\n",
       "      <td>Tonalá</td>\n",
       "    </tr>\n",
       "    <tr>\n",
       "      <th>3</th>\n",
       "      <td>209067</td>\n",
       "      <td>Zinacantepec</td>\n",
       "    </tr>\n",
       "    <tr>\n",
       "      <th>4</th>\n",
       "      <td>185997</td>\n",
       "      <td>Zapopan</td>\n",
       "    </tr>\n",
       "  </tbody>\n",
       "</table>\n",
       "</div>"
      ],
      "text/plain": [
       "       id                  ciudad\n",
       "0  254099           Benito Juárez\n",
       "1   53461  La Magdalena Contreras\n",
       "2  247984                  Tonalá\n",
       "3  209067            Zinacantepec\n",
       "4  185997                 Zapopan"
      ]
     },
     "execution_count": 55,
     "metadata": {},
     "output_type": "execute_result"
    }
   ],
   "source": [
    "import pandas as pd\n",
    "import numpy as np\n",
    "\n",
    "types = {'id': int, 'titulo': str, 'descripcion': str, 'tipodepropiedad': str, 'direccion': str,\n",
    "        'ciudad': str, 'provincia': str, 'antiguedad': np.float32, 'habitaciones': np.float32,\n",
    "        'garages':np.float32, 'idzona': np.float32, 'lat': np.float32, 'lng': np.float32,\n",
    "        'gimnasio': int, 'usosmultiples': int, 'piscina': int, 'escuelascercanas': int,\n",
    "        'centroscomercialescercanos': int, 'precio':int}\n",
    "\n",
    "pd.set_option('display.max_columns', 30)\n",
    "\n",
    "training_data = pd.read_csv('../../data/TP2/train.csv', dtype = types, usecols=['id','ciudad'])\n",
    "evaluation_data = pd.read_csv('../../data/TP2/test.csv', dtype = types, usecols=['id','ciudad'])\n",
    "\n",
    "training_data.head()"
   ]
  },
  {
   "cell_type": "code",
   "execution_count": 56,
   "metadata": {},
   "outputs": [],
   "source": [
    "training_data['ciudad'].fillna('sinciudad', inplace = True)\n",
    "evaluation_data['ciudad'].fillna('sinciudad', inplace = True)\n",
    "\n",
    "training_data['ciudad'] = training_data['ciudad'].apply(lambda x: x.lower())\n",
    "evaluation_data['ciudad'] = evaluation_data['ciudad'].apply(lambda x: x.lower())"
   ]
  },
  {
   "cell_type": "code",
   "execution_count": 57,
   "metadata": {},
   "outputs": [],
   "source": [
    "beaches = ['Riviera Maya','Cancún','Acapulco','Los Cabos','Huatulco','Cozumel','Ixtapa','Puerto Vallarta','Melaque','Mazatlán','Veracruz','Nuevo Vallarta','Manzanillo','Rosarito','Puerto Escondido','La Paz','Isla Mujeres','Loreto','San Felipe','Tonalá','Puerto Arista']\n",
    "touristic_beaches = []\n",
    "for bea in beaches: touristic_beaches.append(bea.lower())"
   ]
  },
  {
   "cell_type": "code",
   "execution_count": 58,
   "metadata": {},
   "outputs": [],
   "source": [
    "cities = ['Ciudad de México','Guadalajara','Monterrey','Puebla','Tijuana','Ciudad Juárez','Mexicali','Piedras Negras','Tecate','Mérida','Oaxaca','León','Querétaro','San Luis Potosí','Chihuahua','Morelia','Aguascalientes','Tuxtla Gutiérrez','Toluca','Villahermosa','San Juan de los Lagos','Zacatecas','Hermosillo','Guanajuato','Xalapa','Palenque','Culiacán','Celaya','San Miguel de Allende','Durango','Pachuca','Irapuato','Coatzacoalcos','Campeche','Los Mochis','Colima','San Juan del Río','Tequisquiapan','Comitán','Salamanca','Tlaxcala','Tepatitlán de Morelos', 'Jalisco','Uruapan']\n",
    "touristic_cities = []\n",
    "for cit in cities: touristic_cities.append(cit.lower())"
   ]
  },
  {
   "cell_type": "code",
   "execution_count": 59,
   "metadata": {},
   "outputs": [],
   "source": [
    "training_data['touristic_beach'] = training_data['ciudad'].apply(lambda x: 1 if x in (touristic_beaches) else 0)\n",
    "training_data['touristic_city'] = training_data['ciudad'].apply(lambda x: 1 if x in (touristic_cities) else 0)\n",
    "\n",
    "evaluation_data['touristic_beach'] = evaluation_data['ciudad'].apply(lambda x: 1 if x in (touristic_beaches) else 0)\n",
    "evaluation_data['touristic_city'] = evaluation_data['ciudad'].apply(lambda x: 1 if x in (touristic_cities) else 0)"
   ]
  },
  {
   "cell_type": "code",
   "execution_count": 60,
   "metadata": {},
   "outputs": [],
   "source": [
    "training_data.drop(columns=['ciudad'],inplace=True)\n",
    "evaluation_data.drop(columns=['ciudad'],inplace=True)"
   ]
  },
  {
   "cell_type": "code",
   "execution_count": 61,
   "metadata": {},
   "outputs": [],
   "source": [
    "evaluation_data.to_csv('../../res/ftr/touristic_city.csv')\n",
    "training_data.to_csv('../../res/ftr/touristic_city.csv')"
   ]
  },
  {
   "cell_type": "markdown",
   "metadata": {},
   "source": [
    "mi_feature_train.to_csv('../../res/ftr/feature_flashero_train.csv')\n",
    "mi_feature_evaluation.to_csv('../../res/ftr/feature_flashero_evaluation.csv')"
   ]
  }
 ],
 "metadata": {
  "kernelspec": {
   "display_name": "Python 3",
   "language": "python",
   "name": "python3"
  },
  "language_info": {
   "codemirror_mode": {
    "name": "ipython",
    "version": 3
   },
   "file_extension": ".py",
   "mimetype": "text/x-python",
   "name": "python",
   "nbconvert_exporter": "python",
   "pygments_lexer": "ipython3",
   "version": "3.7.3"
  }
 },
 "nbformat": 4,
 "nbformat_minor": 2
}
