{
 "cells": [
  {
   "cell_type": "code",
   "execution_count": 1,
   "metadata": {},
   "outputs": [
    {
     "data": {
      "text/html": [
       "<div>\n",
       "<style scoped>\n",
       "    .dataframe tbody tr th:only-of-type {\n",
       "        vertical-align: middle;\n",
       "    }\n",
       "\n",
       "    .dataframe tbody tr th {\n",
       "        vertical-align: top;\n",
       "    }\n",
       "\n",
       "    .dataframe thead th {\n",
       "        text-align: right;\n",
       "    }\n",
       "</style>\n",
       "<table border=\"1\" class=\"dataframe\">\n",
       "  <thead>\n",
       "    <tr style=\"text-align: right;\">\n",
       "      <th></th>\n",
       "      <th>id</th>\n",
       "      <th>ciudad</th>\n",
       "      <th>provincia</th>\n",
       "    </tr>\n",
       "  </thead>\n",
       "  <tbody>\n",
       "    <tr>\n",
       "      <td>0</td>\n",
       "      <td>254099</td>\n",
       "      <td>Benito Juárez</td>\n",
       "      <td>Distrito Federal</td>\n",
       "    </tr>\n",
       "    <tr>\n",
       "      <td>1</td>\n",
       "      <td>53461</td>\n",
       "      <td>La Magdalena Contreras</td>\n",
       "      <td>Distrito Federal</td>\n",
       "    </tr>\n",
       "    <tr>\n",
       "      <td>2</td>\n",
       "      <td>247984</td>\n",
       "      <td>Tonalá</td>\n",
       "      <td>Jalisco</td>\n",
       "    </tr>\n",
       "    <tr>\n",
       "      <td>3</td>\n",
       "      <td>209067</td>\n",
       "      <td>Zinacantepec</td>\n",
       "      <td>Edo. de México</td>\n",
       "    </tr>\n",
       "    <tr>\n",
       "      <td>4</td>\n",
       "      <td>185997</td>\n",
       "      <td>Zapopan</td>\n",
       "      <td>Jalisco</td>\n",
       "    </tr>\n",
       "  </tbody>\n",
       "</table>\n",
       "</div>"
      ],
      "text/plain": [
       "       id                  ciudad         provincia\n",
       "0  254099           Benito Juárez  Distrito Federal\n",
       "1   53461  La Magdalena Contreras  Distrito Federal\n",
       "2  247984                  Tonalá           Jalisco\n",
       "3  209067            Zinacantepec    Edo. de México\n",
       "4  185997                 Zapopan           Jalisco"
      ]
     },
     "execution_count": 1,
     "metadata": {},
     "output_type": "execute_result"
    }
   ],
   "source": [
    "import pandas as pd\n",
    "import numpy as np\n",
    "\n",
    "pd.set_option('display.max_columns', 30)\n",
    "types = {'id': int, 'ciudad':str, 'provincia': str}\n",
    "\n",
    "training_data = pd.read_csv('../../data/TP2/train.csv', dtype = types, usecols=['id','provincia','ciudad'])\n",
    "evaluation_data = pd.read_csv('../../data/TP2/test.csv',dtype = types, usecols=['id','provincia','ciudad'])\n",
    "\n",
    "training_data.head()"
   ]
  },
  {
   "cell_type": "code",
   "execution_count": 2,
   "metadata": {},
   "outputs": [],
   "source": [
    "training_data['ciudad'].fillna('sinciudad', inplace = True)\n",
    "training_data['provincia'].fillna('sinprovincia', inplace = True)\n",
    "evaluation_data['ciudad'].fillna('sinciudad', inplace = True)\n",
    "evaluation_data['provincia'].fillna('sinprovincia', inplace = True)"
   ]
  },
  {
   "cell_type": "code",
   "execution_count": 3,
   "metadata": {},
   "outputs": [],
   "source": [
    "training_data['provincia'] = training_data['provincia'].apply(lambda x: x.lower())\n",
    "training_data['ciudad'] = training_data['ciudad'].apply(lambda x: x.lower())\n",
    "evaluation_data['provincia'] = evaluation_data['provincia'].apply(lambda x: x.lower())\n",
    "evaluation_data['ciudad'] = evaluation_data['ciudad'].apply(lambda x: x.lower())"
   ]
  },
  {
   "cell_type": "code",
   "execution_count": 4,
   "metadata": {},
   "outputs": [],
   "source": [
    "capitales_dict = {\n",
    "                    'aguascalientes' : 'aguascalientes',\n",
    "                    'baja california norte': 'mexicali',\n",
    "                    'baja california sur' :'la paz',\n",
    "                    'campeche' : 'campeche',\n",
    "                    'coahuila' : 'saltillo',\n",
    "                    'colima' : 'colima',\n",
    "                    'chiapas' : 'tuxtla gutiérrez',\n",
    "                    'chihuahua' : 'chihuahua',\n",
    "                    'distrito federal' : 'iztapalapa',\n",
    "                    'durango' : 'durango',\n",
    "                    'edo. de méxico' : 'toluca',\n",
    "                    'guanajuato' : 'guanajuato',\n",
    "                    'guerrero' : 'chilpancingo',\n",
    "                    'hidalgo' : 'pachuca',\n",
    "                    'jalisco' : 'guadalajara',\n",
    "                    'michoacán' : 'morelia',\n",
    "                    'morelos' : 'cuernavaca',\n",
    "                    'nayarit' : 'tepic',\n",
    "                    'nuevo león' : 'monterrey',\n",
    "                    'oaxaca' : 'oaxaca de juárez',\n",
    "                    'puebla' : 'puebla',\n",
    "                    'querétaro' : 'querétaro',\n",
    "                    'quintana roo' : 'chetumal',\n",
    "                    'san luis potosí' : 'san luis potosí',\n",
    "                    'sinaloa' : 'culiacán',\n",
    "                    'sonora' : 'hermosillo',\n",
    "                    'tabasco' : 'villahermosa',\n",
    "                    'tamaulipas' : 'victoria',\n",
    "                    'tlaxcala' : 'tlaxcala',\n",
    "                    'veracruz' : 'xalapa',\n",
    "                    'yucatán' : 'mérida',\n",
    "                    'zacatecas' : 'zacatecas',\n",
    "                    'sinprovincia': 'nan'\n",
    "}"
   ]
  },
  {
   "cell_type": "code",
   "execution_count": 5,
   "metadata": {},
   "outputs": [],
   "source": [
    "def is_a_capital(data): \n",
    "    capital = capitales_dict[data[2]]\n",
    "    if data[1] == capital: return 1\n",
    "    return 0"
   ]
  },
  {
   "cell_type": "code",
   "execution_count": 6,
   "metadata": {},
   "outputs": [],
   "source": [
    "training_data['es_capital'] = training_data.apply(is_a_capital, axis=1)\n",
    "evaluation_data['es_capital'] = training_data.apply(is_a_capital, axis=1)"
   ]
  },
  {
   "cell_type": "code",
   "execution_count": 7,
   "metadata": {},
   "outputs": [],
   "source": [
    "training_data.drop(columns=['ciudad','provincia'],inplace=True)\n",
    "evaluation_data.drop(columns=['ciudad', 'provincia'],inplace=True)"
   ]
  },
  {
   "cell_type": "code",
   "execution_count": 8,
   "metadata": {},
   "outputs": [
    {
     "data": {
      "text/html": [
       "<div>\n",
       "<style scoped>\n",
       "    .dataframe tbody tr th:only-of-type {\n",
       "        vertical-align: middle;\n",
       "    }\n",
       "\n",
       "    .dataframe tbody tr th {\n",
       "        vertical-align: top;\n",
       "    }\n",
       "\n",
       "    .dataframe thead th {\n",
       "        text-align: right;\n",
       "    }\n",
       "</style>\n",
       "<table border=\"1\" class=\"dataframe\">\n",
       "  <thead>\n",
       "    <tr style=\"text-align: right;\">\n",
       "      <th></th>\n",
       "      <th>id</th>\n",
       "      <th>es_capital</th>\n",
       "    </tr>\n",
       "  </thead>\n",
       "  <tbody>\n",
       "    <tr>\n",
       "      <td>0</td>\n",
       "      <td>254099</td>\n",
       "      <td>0</td>\n",
       "    </tr>\n",
       "    <tr>\n",
       "      <td>1</td>\n",
       "      <td>53461</td>\n",
       "      <td>0</td>\n",
       "    </tr>\n",
       "    <tr>\n",
       "      <td>2</td>\n",
       "      <td>247984</td>\n",
       "      <td>0</td>\n",
       "    </tr>\n",
       "    <tr>\n",
       "      <td>3</td>\n",
       "      <td>209067</td>\n",
       "      <td>0</td>\n",
       "    </tr>\n",
       "    <tr>\n",
       "      <td>4</td>\n",
       "      <td>185997</td>\n",
       "      <td>0</td>\n",
       "    </tr>\n",
       "    <tr>\n",
       "      <td>...</td>\n",
       "      <td>...</td>\n",
       "      <td>...</td>\n",
       "    </tr>\n",
       "    <tr>\n",
       "      <td>239995</td>\n",
       "      <td>119879</td>\n",
       "      <td>0</td>\n",
       "    </tr>\n",
       "    <tr>\n",
       "      <td>239996</td>\n",
       "      <td>259178</td>\n",
       "      <td>1</td>\n",
       "    </tr>\n",
       "    <tr>\n",
       "      <td>239997</td>\n",
       "      <td>131932</td>\n",
       "      <td>0</td>\n",
       "    </tr>\n",
       "    <tr>\n",
       "      <td>239998</td>\n",
       "      <td>146867</td>\n",
       "      <td>1</td>\n",
       "    </tr>\n",
       "    <tr>\n",
       "      <td>239999</td>\n",
       "      <td>121958</td>\n",
       "      <td>0</td>\n",
       "    </tr>\n",
       "  </tbody>\n",
       "</table>\n",
       "<p>240000 rows × 2 columns</p>\n",
       "</div>"
      ],
      "text/plain": [
       "            id  es_capital\n",
       "0       254099           0\n",
       "1        53461           0\n",
       "2       247984           0\n",
       "3       209067           0\n",
       "4       185997           0\n",
       "...        ...         ...\n",
       "239995  119879           0\n",
       "239996  259178           1\n",
       "239997  131932           0\n",
       "239998  146867           1\n",
       "239999  121958           0\n",
       "\n",
       "[240000 rows x 2 columns]"
      ]
     },
     "execution_count": 8,
     "metadata": {},
     "output_type": "execute_result"
    }
   ],
   "source": [
    "training_data"
   ]
  },
  {
   "cell_type": "code",
   "execution_count": 9,
   "metadata": {},
   "outputs": [],
   "source": [
    "evaluation_data.to_csv('../../res/ftr/is_a_capital_evaluation.csv')\n",
    "training_data.to_csv('../../res/ftr/is_a_capital_train.csv')"
   ]
  },
  {
   "cell_type": "code",
   "execution_count": null,
   "metadata": {},
   "outputs": [],
   "source": []
  }
 ],
 "metadata": {
  "kernelspec": {
   "display_name": "Python 3",
   "language": "python",
   "name": "python3"
  },
  "language_info": {
   "codemirror_mode": {
    "name": "ipython",
    "version": 3
   },
   "file_extension": ".py",
   "mimetype": "text/x-python",
   "name": "python",
   "nbconvert_exporter": "python",
   "pygments_lexer": "ipython3",
   "version": "3.6.8"
  }
 },
 "nbformat": 4,
 "nbformat_minor": 4
}
