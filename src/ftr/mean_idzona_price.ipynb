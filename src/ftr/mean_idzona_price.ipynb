{
 "cells": [
  {
   "cell_type": "code",
   "execution_count": 112,
   "metadata": {},
   "outputs": [],
   "source": [
    "import pandas as pd\n",
    "import numpy as np\n",
    "\n",
    "pd.set_option('display.max_columns', 30)\n",
    "types = {'id': int, 'ciudad':str, 'provincia': str}\n",
    "\n",
    "training_data = pd.read_csv('../../data/TP2/train.csv', dtype = types, usecols=['id','provincia','ciudad','idzona','metrostotales','precio'])\n",
    "evaluation_data = pd.read_csv('../../data/TP2/test.csv',dtype = types, usecols=['id','provincia','ciudad','idzona','lat','lng'])"
   ]
  },
  {
   "cell_type": "code",
   "execution_count": 113,
   "metadata": {},
   "outputs": [
    {
     "data": {
      "text/plain": [
       "14317.519170109566"
      ]
     },
     "execution_count": 113,
     "metadata": {},
     "output_type": "execute_result"
    }
   ],
   "source": [
    "training_data.precio.mean()/training_data.metrostotales.mean()"
   ]
  },
  {
   "cell_type": "raw",
   "metadata": {},
   "source": [
    "LLENO NULLS EN METROSTOTALES"
   ]
  },
  {
   "cell_type": "code",
   "execution_count": 114,
   "metadata": {},
   "outputs": [],
   "source": [
    "metros_ciudad = training_data.groupby('ciudad').agg({'metrostotales':'mean'}).reset_index().rename(columns={'metrostotales':'mts_ciudad'})\n",
    "\n",
    "meanmts=metros_ciudad.mts_ciudad.mean()\n",
    "metros_ciudad.mts_ciudad.fillna(meanmts,inplace=True)\n",
    "\n",
    "training_data = pd.merge(training_data,metros_ciudad, on='ciudad', how='left')\n",
    "training_data.mts_ciudad.fillna(meanmts,inplace=True)"
   ]
  },
  {
   "cell_type": "code",
   "execution_count": 115,
   "metadata": {},
   "outputs": [
    {
     "name": "stdout",
     "output_type": "stream",
     "text": [
      "<class 'pandas.core.frame.DataFrame'>\n",
      "Int64Index: 240000 entries, 0 to 239999\n",
      "Data columns (total 7 columns):\n",
      "id               240000 non-null int32\n",
      "ciudad           239628 non-null object\n",
      "provincia        239845 non-null object\n",
      "metrostotales    240000 non-null float64\n",
      "idzona           211379 non-null float64\n",
      "precio           240000 non-null float64\n",
      "mts_ciudad       240000 non-null float64\n",
      "dtypes: float64(4), int32(1), object(2)\n",
      "memory usage: 13.7+ MB\n"
     ]
    }
   ],
   "source": [
    "training_data.metrostotales.fillna(training_data.mts_ciudad,inplace=True)\n",
    "training_data.info()"
   ]
  },
  {
   "cell_type": "raw",
   "metadata": {},
   "source": [
    "LLENO NULLS IDZONA y VEO QUE ZONAS TIENEN +5 PROPIEDADES"
   ]
  },
  {
   "cell_type": "code",
   "execution_count": 116,
   "metadata": {
    "scrolled": false
   },
   "outputs": [
    {
     "data": {
      "text/html": [
       "<div>\n",
       "<style scoped>\n",
       "    .dataframe tbody tr th:only-of-type {\n",
       "        vertical-align: middle;\n",
       "    }\n",
       "\n",
       "    .dataframe tbody tr th {\n",
       "        vertical-align: top;\n",
       "    }\n",
       "\n",
       "    .dataframe thead th {\n",
       "        text-align: right;\n",
       "    }\n",
       "</style>\n",
       "<table border=\"1\" class=\"dataframe\">\n",
       "  <thead>\n",
       "    <tr style=\"text-align: right;\">\n",
       "      <th></th>\n",
       "      <th>idzona</th>\n",
       "      <th>many_props</th>\n",
       "    </tr>\n",
       "  </thead>\n",
       "  <tbody>\n",
       "    <tr>\n",
       "      <th>0</th>\n",
       "      <td>-1.0</td>\n",
       "      <td>True</td>\n",
       "    </tr>\n",
       "  </tbody>\n",
       "</table>\n",
       "</div>"
      ],
      "text/plain": [
       "   idzona  many_props\n",
       "0    -1.0        True"
      ]
     },
     "execution_count": 116,
     "metadata": {},
     "output_type": "execute_result"
    }
   ],
   "source": [
    "training_data.idzona.fillna(-1, inplace=True)\n",
    "props_zone = (((training_data.idzona.value_counts()>5)).to_frame().reset_index()).rename(columns={'index':'idzona','idzona':'many_props'})\n",
    "\n",
    "props_zone.loc[props_zone.idzona==-1] #TENGO QUE CAMBIAR ESTE\n",
    "#props_zone['+5props'].value_counts()"
   ]
  },
  {
   "cell_type": "code",
   "execution_count": 117,
   "metadata": {},
   "outputs": [],
   "source": [
    "training_data.ciudad.fillna('no_city', inplace=True)"
   ]
  },
  {
   "cell_type": "raw",
   "metadata": {},
   "source": [
    "SACO PROMEDIO DE PRECIO DEL m2 POR CIUDAD (para las zonas con pocas propiedades)"
   ]
  },
  {
   "cell_type": "code",
   "execution_count": 118,
   "metadata": {},
   "outputs": [
    {
     "name": "stdout",
     "output_type": "stream",
     "text": [
      "<class 'pandas.core.frame.DataFrame'>\n",
      "RangeIndex: 876 entries, 0 to 875\n",
      "Data columns (total 2 columns):\n",
      "ciudad               876 non-null object\n",
      "precio_mts_ciudad    876 non-null float64\n",
      "dtypes: float64(1), object(1)\n",
      "memory usage: 13.8+ KB\n"
     ]
    }
   ],
   "source": [
    "precio_ciudad = training_data.groupby('ciudad').agg({'precio':'sum','metrostotales':'sum'}).reset_index()\n",
    "precio_ciudad['precio_mts_ciudad'] = precio_ciudad.precio/precio_ciudad.metrostotales\n",
    "precio_ciudad.drop(columns={'metrostotales','precio'},inplace=True)\n",
    "precio_ciudad.info()"
   ]
  },
  {
   "cell_type": "code",
   "execution_count": 119,
   "metadata": {
    "scrolled": false
   },
   "outputs": [
    {
     "name": "stdout",
     "output_type": "stream",
     "text": [
      "<class 'pandas.core.frame.DataFrame'>\n",
      "Int64Index: 240000 entries, 0 to 239999\n",
      "Data columns (total 9 columns):\n",
      "id                   240000 non-null int32\n",
      "ciudad               240000 non-null object\n",
      "provincia            239845 non-null object\n",
      "metrostotales        240000 non-null float64\n",
      "idzona               240000 non-null float64\n",
      "precio               240000 non-null float64\n",
      "mts_ciudad           240000 non-null float64\n",
      "many_props           240000 non-null bool\n",
      "precio_mts_ciudad    240000 non-null float64\n",
      "dtypes: bool(1), float64(5), int32(1), object(2)\n",
      "memory usage: 15.8+ MB\n"
     ]
    }
   ],
   "source": [
    "training_data = pd.merge(training_data,props_zone, on='idzona', how='left')\n",
    "training_data = pd.merge(training_data,precio_ciudad, on= 'ciudad', how='left')\n",
    "training_data.info()"
   ]
  },
  {
   "cell_type": "code",
   "execution_count": 120,
   "metadata": {
    "scrolled": true
   },
   "outputs": [
    {
     "data": {
      "text/html": [
       "<div>\n",
       "<style scoped>\n",
       "    .dataframe tbody tr th:only-of-type {\n",
       "        vertical-align: middle;\n",
       "    }\n",
       "\n",
       "    .dataframe tbody tr th {\n",
       "        vertical-align: top;\n",
       "    }\n",
       "\n",
       "    .dataframe thead th {\n",
       "        text-align: right;\n",
       "    }\n",
       "</style>\n",
       "<table border=\"1\" class=\"dataframe\">\n",
       "  <thead>\n",
       "    <tr style=\"text-align: right;\">\n",
       "      <th></th>\n",
       "      <th>id</th>\n",
       "      <th>ciudad</th>\n",
       "      <th>provincia</th>\n",
       "      <th>metrostotales</th>\n",
       "      <th>idzona</th>\n",
       "      <th>precio</th>\n",
       "      <th>mts_ciudad</th>\n",
       "      <th>many_props</th>\n",
       "      <th>precio_mts_ciudad</th>\n",
       "    </tr>\n",
       "  </thead>\n",
       "  <tbody>\n",
       "    <tr>\n",
       "      <th>239995</th>\n",
       "      <td>119879</td>\n",
       "      <td>Zinacantepec</td>\n",
       "      <td>Edo. de México</td>\n",
       "      <td>172.392857</td>\n",
       "      <td>53666.0</td>\n",
       "      <td>650000.0</td>\n",
       "      <td>172.392857</td>\n",
       "      <td>True</td>\n",
       "      <td>8540.403563</td>\n",
       "    </tr>\n",
       "    <tr>\n",
       "      <th>239996</th>\n",
       "      <td>259178</td>\n",
       "      <td>Toluca</td>\n",
       "      <td>Edo. de México</td>\n",
       "      <td>250.000000</td>\n",
       "      <td>51954.0</td>\n",
       "      <td>1940000.0</td>\n",
       "      <td>140.260545</td>\n",
       "      <td>True</td>\n",
       "      <td>10332.977275</td>\n",
       "    </tr>\n",
       "    <tr>\n",
       "      <th>239997</th>\n",
       "      <td>131932</td>\n",
       "      <td>Benito Juárez</td>\n",
       "      <td>Distrito Federal</td>\n",
       "      <td>138.000000</td>\n",
       "      <td>50003995.0</td>\n",
       "      <td>3400000.0</td>\n",
       "      <td>138.116722</td>\n",
       "      <td>True</td>\n",
       "      <td>24505.790860</td>\n",
       "    </tr>\n",
       "    <tr>\n",
       "      <th>239998</th>\n",
       "      <td>146867</td>\n",
       "      <td>Iztapalapa</td>\n",
       "      <td>Distrito Federal</td>\n",
       "      <td>137.000000</td>\n",
       "      <td>24162.0</td>\n",
       "      <td>2890000.0</td>\n",
       "      <td>137.449091</td>\n",
       "      <td>True</td>\n",
       "      <td>12363.602801</td>\n",
       "    </tr>\n",
       "    <tr>\n",
       "      <th>239999</th>\n",
       "      <td>121958</td>\n",
       "      <td>Cuajimalpa de Morelos</td>\n",
       "      <td>Distrito Federal</td>\n",
       "      <td>193.322275</td>\n",
       "      <td>23750.0</td>\n",
       "      <td>3650000.0</td>\n",
       "      <td>193.322275</td>\n",
       "      <td>True</td>\n",
       "      <td>24426.596358</td>\n",
       "    </tr>\n",
       "  </tbody>\n",
       "</table>\n",
       "</div>"
      ],
      "text/plain": [
       "            id                 ciudad         provincia  metrostotales  \\\n",
       "239995  119879           Zinacantepec    Edo. de México     172.392857   \n",
       "239996  259178                 Toluca    Edo. de México     250.000000   \n",
       "239997  131932          Benito Juárez  Distrito Federal     138.000000   \n",
       "239998  146867             Iztapalapa  Distrito Federal     137.000000   \n",
       "239999  121958  Cuajimalpa de Morelos  Distrito Federal     193.322275   \n",
       "\n",
       "            idzona     precio  mts_ciudad  many_props  precio_mts_ciudad  \n",
       "239995     53666.0   650000.0  172.392857        True        8540.403563  \n",
       "239996     51954.0  1940000.0  140.260545        True       10332.977275  \n",
       "239997  50003995.0  3400000.0  138.116722        True       24505.790860  \n",
       "239998     24162.0  2890000.0  137.449091        True       12363.602801  \n",
       "239999     23750.0  3650000.0  193.322275        True       24426.596358  "
      ]
     },
     "execution_count": 120,
     "metadata": {},
     "output_type": "execute_result"
    }
   ],
   "source": [
    "training_data.tail()"
   ]
  },
  {
   "cell_type": "code",
   "execution_count": 121,
   "metadata": {},
   "outputs": [
    {
     "name": "stdout",
     "output_type": "stream",
     "text": [
      "<class 'pandas.core.frame.DataFrame'>\n",
      "RangeIndex: 19720 entries, 0 to 19719\n",
      "Data columns (total 5 columns):\n",
      "idzona              19720 non-null float64\n",
      "precio              19720 non-null float64\n",
      "metrostotales       19720 non-null float64\n",
      "many_props          19720 non-null bool\n",
      "precio_por_metro    19720 non-null float64\n",
      "dtypes: bool(1), float64(4)\n",
      "memory usage: 635.6 KB\n"
     ]
    }
   ],
   "source": [
    "precio_zona = training_data.groupby('idzona').agg({'precio':'sum','metrostotales':'sum','many_props':'median'}).reset_index()\n",
    "precio_zona['precio_por_metro'] = precio_zona.precio/precio_zona.metrostotales\n",
    "#precio_zona.loc[(~(precio_zona['+5props']))|(precio_zona.idzona==-1), 'precio_por_metro'] = precio_zona.precio_mts_ciudad\n",
    "precio_zona.info()"
   ]
  },
  {
   "cell_type": "code",
   "execution_count": 122,
   "metadata": {},
   "outputs": [],
   "source": [
    "precio_zona = precio_zona[['idzona','precio_por_metro','many_props']]"
   ]
  },
  {
   "cell_type": "code",
   "execution_count": 123,
   "metadata": {},
   "outputs": [
    {
     "data": {
      "text/plain": [
       "False    13895\n",
       "True      5825\n",
       "Name: many_props, dtype: int64"
      ]
     },
     "execution_count": 123,
     "metadata": {},
     "output_type": "execute_result"
    }
   ],
   "source": [
    "precio_zona.many_props.value_counts()"
   ]
  },
  {
   "cell_type": "code",
   "execution_count": 95,
   "metadata": {},
   "outputs": [],
   "source": [
    "###precio_zona.to_csv('../../res/ftr/precio_por_metro_idzona.csv')"
   ]
  },
  {
   "cell_type": "code",
   "execution_count": 144,
   "metadata": {
    "scrolled": true
   },
   "outputs": [],
   "source": [
    "training_data = pd.read_csv('../../data/TP2/train.csv', dtype = types, usecols=['id','idzona','ciudad'])\n",
    "evaluation_data = pd.read_csv('../../data/TP2/test.csv',dtype = types, usecols=['id','idzona','ciudad'])\n",
    "\n",
    "training_data.idzona.fillna(-1, inplace=True)\n",
    "evaluation_data.idzona.fillna(-1, inplace=True)\n"
   ]
  },
  {
   "cell_type": "code",
   "execution_count": 145,
   "metadata": {},
   "outputs": [],
   "source": [
    "evaluation_data=pd.merge(evaluation_data,precio_zona,on='idzona',how='left')\n",
    "evaluation_data=pd.merge(evaluation_data,precio_ciudad,on='ciudad',how='left')\n",
    "\n",
    "evaluation_data.precio_mts_ciudad.fillna(evaluation_data.precio_mts_ciudad.mean(),inplace=True)\n",
    "evaluation_data.precio_por_metro.fillna(evaluation_data.precio_mts_ciudad,inplace=True)\n",
    "\n",
    "\n",
    "training_data=pd.merge(training_data,precio_zona,on='idzona',how='left')\n",
    "training_data=pd.merge(training_data,precio_ciudad,on='ciudad',how='left')\n",
    "\n",
    "training_data.precio_mts_ciudad.fillna(training_data.precio_mts_ciudad.mean(),inplace=True)\n",
    "training_data.precio_por_metro.fillna(training_data.precio_mts_ciudad,inplace=True)"
   ]
  },
  {
   "cell_type": "code",
   "execution_count": 146,
   "metadata": {
    "scrolled": true
   },
   "outputs": [
    {
     "data": {
      "text/html": [
       "<div>\n",
       "<style scoped>\n",
       "    .dataframe tbody tr th:only-of-type {\n",
       "        vertical-align: middle;\n",
       "    }\n",
       "\n",
       "    .dataframe tbody tr th {\n",
       "        vertical-align: top;\n",
       "    }\n",
       "\n",
       "    .dataframe thead th {\n",
       "        text-align: right;\n",
       "    }\n",
       "</style>\n",
       "<table border=\"1\" class=\"dataframe\">\n",
       "  <thead>\n",
       "    <tr style=\"text-align: right;\">\n",
       "      <th></th>\n",
       "      <th>id</th>\n",
       "      <th>ciudad</th>\n",
       "      <th>idzona</th>\n",
       "      <th>precio_por_metro</th>\n",
       "      <th>many_props</th>\n",
       "      <th>precio_mts_ciudad</th>\n",
       "    </tr>\n",
       "  </thead>\n",
       "  <tbody>\n",
       "    <tr>\n",
       "      <th>0</th>\n",
       "      <td>4941</td>\n",
       "      <td>Miguel Hidalgo</td>\n",
       "      <td>-1.0</td>\n",
       "      <td>12129.550196</td>\n",
       "      <td>True</td>\n",
       "      <td>29832.537042</td>\n",
       "    </tr>\n",
       "    <tr>\n",
       "      <th>1</th>\n",
       "      <td>51775</td>\n",
       "      <td>Mérida</td>\n",
       "      <td>113851.0</td>\n",
       "      <td>9876.449484</td>\n",
       "      <td>True</td>\n",
       "      <td>7827.774773</td>\n",
       "    </tr>\n",
       "    <tr>\n",
       "      <th>2</th>\n",
       "      <td>115253</td>\n",
       "      <td>Coyoacán</td>\n",
       "      <td>23620.0</td>\n",
       "      <td>19383.955540</td>\n",
       "      <td>True</td>\n",
       "      <td>20271.810865</td>\n",
       "    </tr>\n",
       "    <tr>\n",
       "      <th>3</th>\n",
       "      <td>299321</td>\n",
       "      <td>Acapulco de Juárez</td>\n",
       "      <td>129347.0</td>\n",
       "      <td>10149.976640</td>\n",
       "      <td>True</td>\n",
       "      <td>15302.447832</td>\n",
       "    </tr>\n",
       "    <tr>\n",
       "      <th>4</th>\n",
       "      <td>173570</td>\n",
       "      <td>Tultitlán</td>\n",
       "      <td>57125.0</td>\n",
       "      <td>13780.965274</td>\n",
       "      <td>True</td>\n",
       "      <td>8346.134850</td>\n",
       "    </tr>\n",
       "  </tbody>\n",
       "</table>\n",
       "</div>"
      ],
      "text/plain": [
       "       id              ciudad    idzona  precio_por_metro many_props  \\\n",
       "0    4941      Miguel Hidalgo      -1.0      12129.550196       True   \n",
       "1   51775              Mérida  113851.0       9876.449484       True   \n",
       "2  115253            Coyoacán   23620.0      19383.955540       True   \n",
       "3  299321  Acapulco de Juárez  129347.0      10149.976640       True   \n",
       "4  173570           Tultitlán   57125.0      13780.965274       True   \n",
       "\n",
       "   precio_mts_ciudad  \n",
       "0       29832.537042  \n",
       "1        7827.774773  \n",
       "2       20271.810865  \n",
       "3       15302.447832  \n",
       "4        8346.134850  "
      ]
     },
     "execution_count": 146,
     "metadata": {},
     "output_type": "execute_result"
    }
   ],
   "source": [
    "evaluation_data.head()"
   ]
  },
  {
   "cell_type": "code",
   "execution_count": 147,
   "metadata": {},
   "outputs": [],
   "source": [
    "evaluation_data.loc[((evaluation_data['many_props'])==False)|(evaluation_data.idzona==-1), 'precio_por_metro'] = evaluation_data.precio_mts_ciudad\n",
    "training_data.loc[((training_data['many_props'])==False)|(training_data.idzona==-1), 'precio_por_metro'] = training_data.precio_mts_ciudad\n"
   ]
  },
  {
   "cell_type": "code",
   "execution_count": 148,
   "metadata": {},
   "outputs": [],
   "source": [
    "training_data = training_data[['id','precio_por_metro']]\n",
    "evaluation_data = evaluation_data[['id','precio_por_metro']]"
   ]
  },
  {
   "cell_type": "code",
   "execution_count": 151,
   "metadata": {},
   "outputs": [
    {
     "name": "stdout",
     "output_type": "stream",
     "text": [
      "<class 'pandas.core.frame.DataFrame'>\n",
      "Int64Index: 60000 entries, 0 to 59999\n",
      "Data columns (total 2 columns):\n",
      "id                  60000 non-null int32\n",
      "precio_por_metro    60000 non-null float64\n",
      "dtypes: float64(1), int32(1)\n",
      "memory usage: 3.6 MB\n"
     ]
    }
   ],
   "source": [
    "evaluation_data.info()"
   ]
  },
  {
   "cell_type": "code",
   "execution_count": 152,
   "metadata": {},
   "outputs": [],
   "source": [
    "training_data.to_csv('../../res/ftr/mean_idzona_price_train.csv')\n",
    "evaluation_data.to_csv('../../res/ftr/mean_idzona_price_evaluation.csv')"
   ]
  },
  {
   "cell_type": "code",
   "execution_count": null,
   "metadata": {},
   "outputs": [],
   "source": []
  }
 ],
 "metadata": {
  "kernelspec": {
   "display_name": "Python 3",
   "language": "python",
   "name": "python3"
  },
  "language_info": {
   "codemirror_mode": {
    "name": "ipython",
    "version": 3
   },
   "file_extension": ".py",
   "mimetype": "text/x-python",
   "name": "python",
   "nbconvert_exporter": "python",
   "pygments_lexer": "ipython3",
   "version": "3.7.3"
  }
 },
 "nbformat": 4,
 "nbformat_minor": 2
}
