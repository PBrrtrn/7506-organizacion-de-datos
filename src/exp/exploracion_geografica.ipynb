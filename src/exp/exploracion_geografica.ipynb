{
 "cells": [
  {
   "cell_type": "code",
   "execution_count": 1,
   "metadata": {},
   "outputs": [
    {
     "ename": "ModuleNotFoundError",
     "evalue": "No module named 'geopandas'",
     "output_type": "error",
     "traceback": [
      "\u001b[1;31m---------------------------------------------------------------------------\u001b[0m",
      "\u001b[1;31mModuleNotFoundError\u001b[0m                       Traceback (most recent call last)",
      "\u001b[1;32m<ipython-input-1-7769e3da09ec>\u001b[0m in \u001b[0;36m<module>\u001b[1;34m\u001b[0m\n\u001b[0;32m      1\u001b[0m \u001b[1;32mimport\u001b[0m \u001b[0mpandas\u001b[0m \u001b[1;32mas\u001b[0m \u001b[0mpd\u001b[0m\u001b[1;33m\u001b[0m\u001b[1;33m\u001b[0m\u001b[0m\n\u001b[1;32m----> 2\u001b[1;33m \u001b[1;32mimport\u001b[0m \u001b[0mgeopandas\u001b[0m \u001b[1;32mas\u001b[0m \u001b[0mgpd\u001b[0m\u001b[1;33m\u001b[0m\u001b[1;33m\u001b[0m\u001b[0m\n\u001b[0m\u001b[0;32m      3\u001b[0m \u001b[1;32mimport\u001b[0m \u001b[0mnumpy\u001b[0m \u001b[1;32mas\u001b[0m \u001b[0mnp\u001b[0m\u001b[1;33m\u001b[0m\u001b[1;33m\u001b[0m\u001b[0m\n\u001b[0;32m      4\u001b[0m \u001b[1;32mimport\u001b[0m \u001b[0mseaborn\u001b[0m \u001b[1;32mas\u001b[0m \u001b[0msns\u001b[0m\u001b[1;33m\u001b[0m\u001b[1;33m\u001b[0m\u001b[0m\n\u001b[0;32m      5\u001b[0m \u001b[1;32mimport\u001b[0m \u001b[0mmatplotlib\u001b[0m\u001b[1;33m.\u001b[0m\u001b[0mpyplot\u001b[0m \u001b[1;32mas\u001b[0m \u001b[0mplt\u001b[0m\u001b[1;33m\u001b[0m\u001b[1;33m\u001b[0m\u001b[0m\n",
      "\u001b[1;31mModuleNotFoundError\u001b[0m: No module named 'geopandas'"
     ]
    }
   ],
   "source": [
    "import pandas as pd\n",
    "import geopandas as gpd\n",
    "import numpy as np\n",
    "import seaborn as sns\n",
    "import matplotlib.pyplot as plt\n",
    "\n",
    "plt.style.use('ggplot')\n",
    "\n",
    "types = {'id': int, 'titulo': str, 'descripcion': str, 'tipodepropiedad': str, 'direccion': str,\n",
    "        'ciudad': str, 'provincia': str, 'antiguedad': np.float32, 'habitaciones': np.float32,\n",
    "        'garages':np.float32, 'idzona': np.float32, 'lat': np.float32, 'lng': np.float32,\n",
    "        'gimnasio': bool, 'usosmultiples': bool, 'piscina': bool, 'escuelascercanas':bool,\n",
    "        'centroscomercialescercanos':bool, 'precio':int}\n",
    "pd.set_option('display.max_columns', 30)\n",
    "data = pd.read_csv('../../data/train.csv', dtype = types)\n",
    "\n",
    "map_df = gpd.read_file('../../data/mexico_map/mexstates.shp')\n",
    "\n",
    "data.head()"
   ]
  },
  {
   "cell_type": "code",
   "execution_count": null,
   "metadata": {},
   "outputs": [],
   "source": [
    "geo_df = pd.DataFrame()\n",
    "geo_df['provincia'] = data['provincia']\n",
    "geo_df['count'] = 1\n",
    "geo_count = geo_df.groupby('provincia').agg({'count':'sum'})\n",
    "geo_count.reset_index(inplace = True)\n",
    "geo_count"
   ]
  },
  {
   "cell_type": "code",
   "execution_count": null,
   "metadata": {},
   "outputs": [],
   "source": [
    "provincias_dict = {'Aguascalientes':'Aguascalientes', 'Baja California Norte':'Baja California',\n",
    "             'Baja California Sur':'Baja California Sur', 'Campeche':'Campeche', 'Chiapas':'Chiapas',\n",
    "             'Chihuahua':'Chihuahua', 'Coahuila':'Coahuila', 'Colima':'Colima', 'Distrito Federal':'Distrito Federal',\n",
    "             'Durango':'Durango', 'Edo. de México':'Mexico', 'Guanajuato':'Guanajuato', 'Guerrero': 'Guerrero',\n",
    "             'Hidalgo':'Hidalgo', 'Jalisco':'Jalisco', 'Michoacán':'Michoacan', 'Morelos':'Morelos',\n",
    "             'Nayarit':'Nayarit', 'Nuevo León':'Nuevo Leon', 'Oaxaca':'Oaxaca', 'Puebla':'Puebla',\n",
    "             'Querétaro':'Queretaro', 'Quintana Roo':'Quintana Roo', 'San luis Potosí':'San Luis Potosi',\n",
    "             'Sinaloa':'Sinaloa', 'Sonora':'Sonora', 'Tabasco':'Tabasco','Tamaulipas':'Tamaulipas',\n",
    "             'Tlaxcala':'Tlaxcala', 'Veracruz':'Veracruz', 'Yucatán':'Yucatan','Zacatecas':'Zacatecas'}"
   ]
  },
  {
   "cell_type": "code",
   "execution_count": null,
   "metadata": {},
   "outputs": [],
   "source": [
    "def gringofy(x):\n",
    "    return provincias_dict[x]\n",
    "    \n",
    "ad = geo_count.rename(columns={'provincia':'ADMIN_NAME'})\n",
    "ad['ADMIN_NAME'] = ad['ADMIN_NAME'].apply(gringofy)\n",
    "\n",
    "ad.dtypes"
   ]
  },
  {
   "cell_type": "code",
   "execution_count": null,
   "metadata": {
    "scrolled": true
   },
   "outputs": [],
   "source": [
    "merged = map_df.merge(ad, on='ADMIN_NAME')\n",
    "merged['count'] = np.log(merged['count'])\n",
    "merged.head()"
   ]
  },
  {
   "cell_type": "code",
   "execution_count": null,
   "metadata": {},
   "outputs": [],
   "source": [
    "vmin, vmax = 120, 220\n",
    "fig, ax = plt.subplots(1, figsize=(18, 10))\n",
    "\n",
    "merged.plot(column='count', cmap='Oranges', linewidth=0.8, ax=ax, edgecolor='0.8', legend = True)\n",
    "ax.set_title('Mapa de provincias segun numero de publicaciones (escala logaritmica)')\n",
    "ax.axis('off')"
   ]
  },
  {
   "cell_type": "code",
   "execution_count": null,
   "metadata": {},
   "outputs": [],
   "source": [
    "avg_price = pd.DataFrame()\n",
    "avg_price['provincia'] = data['provincia']\n",
    "avg_price['precioenmiles'] = data['precio']/1000\n",
    "avg_price = avg_price.groupby('provincia').agg({'precioenmiles':'mean'})\n",
    "avg_price.reset_index(inplace = True)\n",
    "avg_price"
   ]
  },
  {
   "cell_type": "code",
   "execution_count": null,
   "metadata": {},
   "outputs": [],
   "source": [
    "ad = avg_price.rename(columns={'provincia':'ADMIN_NAME'})\n",
    "ad['ADMIN_NAME'] = ad['ADMIN_NAME'].apply(gringofy)"
   ]
  },
  {
   "cell_type": "code",
   "execution_count": null,
   "metadata": {},
   "outputs": [],
   "source": [
    "merged = map_df.merge(ad, on='ADMIN_NAME')\n",
    "merged.head()"
   ]
  },
  {
   "cell_type": "code",
   "execution_count": null,
   "metadata": {},
   "outputs": [],
   "source": [
    "vmin, vmax = 120, 220\n",
    "fig, ax = plt.subplots(1, figsize=(18, 10))\n",
    "\n",
    "merged.plot(column='precioenmiles', cmap='Greens', linewidth=0.8, ax=ax, edgecolor='0.8', legend = True)\n",
    "ax.set_title('Mapa de provincias segun precio (k$) de propiedad promedio')\n",
    "ax.axis('off')"
   ]
  },
  {
   "cell_type": "code",
   "execution_count": null,
   "metadata": {},
   "outputs": [],
   "source": [
    "m_price = pd.DataFrame()\n",
    "m_price['provincia'] = data['provincia']\n",
    "m_price['metrostotales'] = data['metrostotales']\n",
    "m_price['precio'] = data['precio']\n",
    "m_price['precio_por_m2'] = m_price['precio']/m_price['metrostotales']\n",
    "m_price\n",
    "m_price = m_price.groupby('provincia').agg({'precio_por_m2':'mean', 'metrostotales':'mean'})\n",
    "m_price.reset_index(inplace = True)\n",
    "m_price"
   ]
  },
  {
   "cell_type": "code",
   "execution_count": null,
   "metadata": {},
   "outputs": [],
   "source": [
    "m_price = m_price.rename(columns={'provincia':'ADMIN_NAME'})\n",
    "m_price['ADMIN_NAME'] = m_price['ADMIN_NAME'].apply(gringofy)"
   ]
  },
  {
   "cell_type": "code",
   "execution_count": null,
   "metadata": {},
   "outputs": [],
   "source": [
    "merged = map_df.merge(m_price, on='ADMIN_NAME')\n",
    "merged.head()"
   ]
  },
  {
   "cell_type": "code",
   "execution_count": null,
   "metadata": {
    "scrolled": true
   },
   "outputs": [],
   "source": [
    "vmin, vmax = 120, 220\n",
    "fig, ax = plt.subplots(1, figsize=(18, 10))\n",
    "\n",
    "merged.plot(column='precio_por_m2', cmap='Greens', linewidth=0.8, ax=ax, edgecolor='0.8', legend = True)\n",
    "ax.set_title('Mapa de provincias segun precio por m2')\n",
    "ax.axis('off')"
   ]
  },
  {
   "cell_type": "code",
   "execution_count": null,
   "metadata": {},
   "outputs": [],
   "source": [
    "vmin, vmax = 120, 220\n",
    "fig, ax = plt.subplots(1, figsize=(18, 10))\n",
    "\n",
    "merged.plot(column='metrostotales', cmap='Reds', linewidth=0.8, ax=ax, edgecolor='0.8', legend = True)\n",
    "ax.set_title('Mapa de provincias segun superficie total de propiedad promedio')\n",
    "ax.axis('off')"
   ]
  },
  {
   "cell_type": "code",
   "execution_count": null,
   "metadata": {},
   "outputs": [],
   "source": [
    "antiguedad = pd.DataFrame()\n",
    "antiguedad['antiguedad'] = data['antiguedad']\n",
    "antiguedad['provincia'] = data['provincia']\n",
    "antiguedad = antiguedad.groupby('provincia').agg({'antiguedad':'mean'})\n",
    "antiguedad.reset_index(inplace = True)\n",
    "antiguedad"
   ]
  },
  {
   "cell_type": "code",
   "execution_count": null,
   "metadata": {},
   "outputs": [],
   "source": [
    "antiguedad = antiguedad.rename(columns={'provincia':'ADMIN_NAME'})\n",
    "antiguedad['ADMIN_NAME'] = antiguedad['ADMIN_NAME'].apply(gringofy)\n",
    "\n",
    "merged = map_df.merge(antiguedad, on='ADMIN_NAME')\n",
    "merged.head()"
   ]
  },
  {
   "cell_type": "code",
   "execution_count": null,
   "metadata": {},
   "outputs": [],
   "source": [
    "vmin, vmax = 120, 220\n",
    "fig, ax = plt.subplots(1, figsize=(18, 10))\n",
    "\n",
    "merged.plot(column='antiguedad', cmap='Blues', linewidth=0.8, ax=ax, edgecolor='0.8', legend = True)\n",
    "ax.set_title('Mapa de provincias segun antiguedad de propiedad promedio')\n",
    "ax.axis('off')"
   ]
  },
  {
   "cell_type": "code",
   "execution_count": null,
   "metadata": {},
   "outputs": [],
   "source": [
    "tipo = pd.DataFrame()\n",
    "tipo['provincia'] = data['provincia']\n",
    "tipo['tipodepropiedad'] = data['tipodepropiedad']\n",
    "tipo['count'] = 1\n",
    "tipo.head(10)"
   ]
  },
  {
   "cell_type": "code",
   "execution_count": null,
   "metadata": {},
   "outputs": [],
   "source": [
    "def definir_tipo(x):\n",
    "    tipos_apartamento = ['Apartamento', 'Departamento Compartido']\n",
    "    if x in ['Casa en condominio', 'Casa', 'Casa uso de suelo', 'Quinta Vacacional']:\n",
    "        return 'Casa'\n",
    "    elif x in ['Apartamento', 'Departamento Compartido']:\n",
    "        return 'Apartamento'\n",
    "    return 'Otro'\n",
    "\n",
    "tipo['tipodepropiedad'] = tipo['tipodepropiedad'].apply(definir_tipo)\n",
    "tipo = tipo.loc[tipo.tipodepropiedad != 'Otro']\n",
    "tipo.head()"
   ]
  },
  {
   "cell_type": "code",
   "execution_count": null,
   "metadata": {},
   "outputs": [],
   "source": [
    "n_totales = tipo.groupby(['provincia']).agg({'count':'sum'})\n",
    "n_tipos = tipo.groupby(['provincia', 'tipodepropiedad']).agg({'count':'sum'})\n",
    "n_tipos.reset_index(inplace = True)\n",
    "n_totales.reset_index(inplace = True)\n",
    "n_tipos = n_tipos.merge(n_totales, on='provincia')\n",
    "n_tipos['count_x'] = n_tipos['count_x']/n_tipos['count_y']\n",
    "n_tipos.drop(columns=['count_y'], inplace=True)\n",
    "n_tipos.rename(columns = {'count_x':'porcentaje'}, inplace = True)\n",
    "n_tipos"
   ]
  },
  {
   "cell_type": "code",
   "execution_count": null,
   "metadata": {},
   "outputs": [],
   "source": [
    "plt.figure(figsize=(12, 6))\n",
    "plt.suptitle('% de casas y departamentos por provincia', fontsize=18)\n",
    "sns.factorplot(x='provincia', y='porcentaje', hue='tipodepropiedad', data=n_tipos, kind='bar')\n",
    "plt.ylabel(\"%\", fontsize = 14)\n",
    "plt.xlabel(\"Provincia\", fontsize = 14)\n",
    "plt.xticks(rotation=90)"
   ]
  },
  {
   "cell_type": "code",
   "execution_count": null,
   "metadata": {},
   "outputs": [],
   "source": []
  }
 ],
 "metadata": {
  "kernelspec": {
   "display_name": "Python 3",
   "language": "python",
   "name": "python3"
  },
  "language_info": {
   "codemirror_mode": {
    "name": "ipython",
    "version": 3
   },
   "file_extension": ".py",
   "mimetype": "text/x-python",
   "name": "python",
   "nbconvert_exporter": "python",
   "pygments_lexer": "ipython3",
   "version": "3.7.3"
  }
 },
 "nbformat": 4,
 "nbformat_minor": 2
}
