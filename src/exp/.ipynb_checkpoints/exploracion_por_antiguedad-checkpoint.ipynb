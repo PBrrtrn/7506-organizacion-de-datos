{
 "cells": [
  {
   "cell_type": "code",
   "execution_count": 1,
   "metadata": {},
   "outputs": [],
   "source": [
    "import pandas as pd\n",
    "import numpy as np\n",
    "import seaborn as sns\n",
    "import matplotlib.pyplot as plt\n",
    "plt.style.use('ggplot')\n",
    "sns.set(style='whitegrid')"
   ]
  },
  {
   "cell_type": "code",
   "execution_count": 2,
   "metadata": {},
   "outputs": [
    {
     "data": {
      "text/html": [
       "<div>\n",
       "<style scoped>\n",
       "    .dataframe tbody tr th:only-of-type {\n",
       "        vertical-align: middle;\n",
       "    }\n",
       "\n",
       "    .dataframe tbody tr th {\n",
       "        vertical-align: top;\n",
       "    }\n",
       "\n",
       "    .dataframe thead th {\n",
       "        text-align: right;\n",
       "    }\n",
       "</style>\n",
       "<table border=\"1\" class=\"dataframe\">\n",
       "  <thead>\n",
       "    <tr style=\"text-align: right;\">\n",
       "      <th></th>\n",
       "      <th>id</th>\n",
       "      <th>titulo</th>\n",
       "      <th>descripcion</th>\n",
       "      <th>tipodepropiedad</th>\n",
       "      <th>direccion</th>\n",
       "      <th>ciudad</th>\n",
       "      <th>provincia</th>\n",
       "      <th>antiguedad</th>\n",
       "      <th>habitaciones</th>\n",
       "      <th>garages</th>\n",
       "      <th>...</th>\n",
       "      <th>idzona</th>\n",
       "      <th>lat</th>\n",
       "      <th>lng</th>\n",
       "      <th>fecha</th>\n",
       "      <th>gimnasio</th>\n",
       "      <th>usosmultiples</th>\n",
       "      <th>piscina</th>\n",
       "      <th>escuelascercanas</th>\n",
       "      <th>centroscomercialescercanos</th>\n",
       "      <th>precio</th>\n",
       "    </tr>\n",
       "  </thead>\n",
       "  <tbody>\n",
       "    <tr>\n",
       "      <td>0</td>\n",
       "      <td>254099</td>\n",
       "      <td>depto. tipo a-402</td>\n",
       "      <td>depto. interior de 80.15m2, consta de sala com...</td>\n",
       "      <td>Apartamento</td>\n",
       "      <td>Avenida Division del Norte 2005</td>\n",
       "      <td>Benito Juárez</td>\n",
       "      <td>Distrito Federal</td>\n",
       "      <td>NaN</td>\n",
       "      <td>2.0</td>\n",
       "      <td>1.0</td>\n",
       "      <td>...</td>\n",
       "      <td>23533.0</td>\n",
       "      <td>NaN</td>\n",
       "      <td>NaN</td>\n",
       "      <td>2015-08-23 00:00:00</td>\n",
       "      <td>False</td>\n",
       "      <td>False</td>\n",
       "      <td>False</td>\n",
       "      <td>False</td>\n",
       "      <td>False</td>\n",
       "      <td>2273000</td>\n",
       "    </tr>\n",
       "    <tr>\n",
       "      <td>1</td>\n",
       "      <td>53461</td>\n",
       "      <td>condominio horizontal en venta</td>\n",
       "      <td>&lt;p&gt;entre sonora y guerrero, atr&amp;aacute;s del h...</td>\n",
       "      <td>Casa en condominio</td>\n",
       "      <td>AV. MEXICO</td>\n",
       "      <td>La Magdalena Contreras</td>\n",
       "      <td>Distrito Federal</td>\n",
       "      <td>10.0</td>\n",
       "      <td>3.0</td>\n",
       "      <td>2.0</td>\n",
       "      <td>...</td>\n",
       "      <td>24514.0</td>\n",
       "      <td>19.310204</td>\n",
       "      <td>-99.227654</td>\n",
       "      <td>2013-06-28 00:00:00</td>\n",
       "      <td>False</td>\n",
       "      <td>False</td>\n",
       "      <td>False</td>\n",
       "      <td>True</td>\n",
       "      <td>True</td>\n",
       "      <td>3600000</td>\n",
       "    </tr>\n",
       "  </tbody>\n",
       "</table>\n",
       "<p>2 rows × 23 columns</p>\n",
       "</div>"
      ],
      "text/plain": [
       "       id                          titulo  \\\n",
       "0  254099               depto. tipo a-402   \n",
       "1   53461  condominio horizontal en venta   \n",
       "\n",
       "                                         descripcion     tipodepropiedad  \\\n",
       "0  depto. interior de 80.15m2, consta de sala com...         Apartamento   \n",
       "1  <p>entre sonora y guerrero, atr&aacute;s del h...  Casa en condominio   \n",
       "\n",
       "                         direccion                  ciudad         provincia  \\\n",
       "0  Avenida Division del Norte 2005           Benito Juárez  Distrito Federal   \n",
       "1                       AV. MEXICO  La Magdalena Contreras  Distrito Federal   \n",
       "\n",
       "   antiguedad  habitaciones  garages  ...   idzona        lat        lng  \\\n",
       "0         NaN           2.0      1.0  ...  23533.0        NaN        NaN   \n",
       "1        10.0           3.0      2.0  ...  24514.0  19.310204 -99.227654   \n",
       "\n",
       "                 fecha  gimnasio  usosmultiples piscina  escuelascercanas  \\\n",
       "0  2015-08-23 00:00:00     False          False   False             False   \n",
       "1  2013-06-28 00:00:00     False          False   False              True   \n",
       "\n",
       "   centroscomercialescercanos   precio  \n",
       "0                       False  2273000  \n",
       "1                        True  3600000  \n",
       "\n",
       "[2 rows x 23 columns]"
      ]
     },
     "execution_count": 2,
     "metadata": {},
     "output_type": "execute_result"
    }
   ],
   "source": [
    "types = {'id': int, 'titulo': str, 'descripcion': str, 'tipodepropiedad': str, 'direccion': str,\n",
    "        'ciudad': str, 'provincia': str, 'antiguedad': np.float32, 'habitaciones': np.float32,\n",
    "        'garages':np.float32, 'idzona': np.float32, 'lat': np.float32, 'lng': np.float32,\n",
    "        'gimnasio': bool, 'usosmultiples': bool, 'piscina': bool, 'escuelascercanas':bool,\n",
    "        'centroscomercialescercanos':bool, 'precio':int}\n",
    "data = pd.read_csv('../../data/train.csv', dtype = types)\n",
    "\n",
    "data.head(2)"
   ]
  },
  {
   "cell_type": "code",
   "execution_count": 3,
   "metadata": {},
   "outputs": [
    {
     "data": {
      "text/plain": [
       "id                                 0\n",
       "titulo                          5387\n",
       "descripcion                     1619\n",
       "tipodepropiedad                   46\n",
       "direccion                      53072\n",
       "ciudad                           372\n",
       "provincia                        155\n",
       "antiguedad                     43555\n",
       "habitaciones                   22471\n",
       "garages                        37765\n",
       "banos                          26221\n",
       "metroscubiertos                17400\n",
       "metrostotales                  51467\n",
       "idzona                         28621\n",
       "lat                           123488\n",
       "lng                           123488\n",
       "fecha                              0\n",
       "gimnasio                           0\n",
       "usosmultiples                      0\n",
       "piscina                            0\n",
       "escuelascercanas                   0\n",
       "centroscomercialescercanos         0\n",
       "precio                             0\n",
       "dtype: int64"
      ]
     },
     "execution_count": 3,
     "metadata": {},
     "output_type": "execute_result"
    }
   ],
   "source": [
    "data.isnull().sum()"
   ]
  },
  {
   "cell_type": "code",
   "execution_count": 4,
   "metadata": {},
   "outputs": [
    {
     "data": {
      "text/html": [
       "<div>\n",
       "<style scoped>\n",
       "    .dataframe tbody tr th:only-of-type {\n",
       "        vertical-align: middle;\n",
       "    }\n",
       "\n",
       "    .dataframe tbody tr th {\n",
       "        vertical-align: top;\n",
       "    }\n",
       "\n",
       "    .dataframe thead th {\n",
       "        text-align: right;\n",
       "    }\n",
       "</style>\n",
       "<table border=\"1\" class=\"dataframe\">\n",
       "  <thead>\n",
       "    <tr style=\"text-align: right;\">\n",
       "      <th></th>\n",
       "      <th>id</th>\n",
       "      <th>titulo</th>\n",
       "      <th>descripcion</th>\n",
       "      <th>tipodepropiedad</th>\n",
       "      <th>direccion</th>\n",
       "      <th>ciudad</th>\n",
       "      <th>provincia</th>\n",
       "      <th>antiguedad</th>\n",
       "      <th>habitaciones</th>\n",
       "      <th>garages</th>\n",
       "      <th>...</th>\n",
       "      <th>idzona</th>\n",
       "      <th>lat</th>\n",
       "      <th>lng</th>\n",
       "      <th>fecha</th>\n",
       "      <th>gimnasio</th>\n",
       "      <th>usosmultiples</th>\n",
       "      <th>piscina</th>\n",
       "      <th>escuelascercanas</th>\n",
       "      <th>centroscomercialescercanos</th>\n",
       "      <th>precio</th>\n",
       "    </tr>\n",
       "  </thead>\n",
       "  <tbody>\n",
       "    <tr>\n",
       "      <td>1</td>\n",
       "      <td>53461</td>\n",
       "      <td>condominio horizontal en venta</td>\n",
       "      <td>&lt;p&gt;entre sonora y guerrero, atr&amp;aacute;s del h...</td>\n",
       "      <td>Casa en condominio</td>\n",
       "      <td>AV. MEXICO</td>\n",
       "      <td>La Magdalena Contreras</td>\n",
       "      <td>Distrito Federal</td>\n",
       "      <td>10.0</td>\n",
       "      <td>3.0</td>\n",
       "      <td>2.0</td>\n",
       "      <td>...</td>\n",
       "      <td>24514.0</td>\n",
       "      <td>19.310204</td>\n",
       "      <td>-99.227654</td>\n",
       "      <td>2013-06-28 00:00:00</td>\n",
       "      <td>False</td>\n",
       "      <td>False</td>\n",
       "      <td>False</td>\n",
       "      <td>True</td>\n",
       "      <td>True</td>\n",
       "      <td>3600000</td>\n",
       "    </tr>\n",
       "    <tr>\n",
       "      <td>2</td>\n",
       "      <td>247984</td>\n",
       "      <td>casa en venta urbi 3 recamaras tonala</td>\n",
       "      <td>descripcion \\nla mejor ubicacion residencial e...</td>\n",
       "      <td>Casa</td>\n",
       "      <td>Urbi Tonala</td>\n",
       "      <td>Tonalá</td>\n",
       "      <td>Jalisco</td>\n",
       "      <td>5.0</td>\n",
       "      <td>3.0</td>\n",
       "      <td>2.0</td>\n",
       "      <td>...</td>\n",
       "      <td>48551.0</td>\n",
       "      <td>NaN</td>\n",
       "      <td>NaN</td>\n",
       "      <td>2015-10-17 00:00:00</td>\n",
       "      <td>False</td>\n",
       "      <td>False</td>\n",
       "      <td>False</td>\n",
       "      <td>False</td>\n",
       "      <td>False</td>\n",
       "      <td>1200000</td>\n",
       "    </tr>\n",
       "  </tbody>\n",
       "</table>\n",
       "<p>2 rows × 23 columns</p>\n",
       "</div>"
      ],
      "text/plain": [
       "       id                                 titulo  \\\n",
       "1   53461         condominio horizontal en venta   \n",
       "2  247984  casa en venta urbi 3 recamaras tonala   \n",
       "\n",
       "                                         descripcion     tipodepropiedad  \\\n",
       "1  <p>entre sonora y guerrero, atr&aacute;s del h...  Casa en condominio   \n",
       "2  descripcion \\nla mejor ubicacion residencial e...                Casa   \n",
       "\n",
       "     direccion                  ciudad         provincia  antiguedad  \\\n",
       "1   AV. MEXICO  La Magdalena Contreras  Distrito Federal        10.0   \n",
       "2  Urbi Tonala                  Tonalá           Jalisco         5.0   \n",
       "\n",
       "   habitaciones  garages  ...   idzona        lat        lng  \\\n",
       "1           3.0      2.0  ...  24514.0  19.310204 -99.227654   \n",
       "2           3.0      2.0  ...  48551.0        NaN        NaN   \n",
       "\n",
       "                 fecha  gimnasio  usosmultiples piscina  escuelascercanas  \\\n",
       "1  2013-06-28 00:00:00     False          False   False              True   \n",
       "2  2015-10-17 00:00:00     False          False   False             False   \n",
       "\n",
       "   centroscomercialescercanos   precio  \n",
       "1                        True  3600000  \n",
       "2                       False  1200000  \n",
       "\n",
       "[2 rows x 23 columns]"
      ]
     },
     "execution_count": 4,
     "metadata": {},
     "output_type": "execute_result"
    }
   ],
   "source": [
    "data = data.dropna(subset=[\"antiguedad\"])\n",
    "data.head(2)"
   ]
  },
  {
   "cell_type": "code",
   "execution_count": 5,
   "metadata": {},
   "outputs": [],
   "source": [
    "data[\"fecha\"] = pd.to_datetime(data['fecha'])"
   ]
  },
  {
   "cell_type": "code",
   "execution_count": 6,
   "metadata": {},
   "outputs": [
    {
     "data": {
      "text/plain": [
       "1        2013-06-28\n",
       "2        2015-10-17\n",
       "3        2012-03-09\n",
       "4        2016-06-07\n",
       "5        2014-03-18\n",
       "            ...    \n",
       "239995   2015-02-08\n",
       "239996   2014-07-10\n",
       "239997   2015-03-03\n",
       "239998   2014-12-26\n",
       "239999   2015-06-19\n",
       "Name: fecha, Length: 196445, dtype: datetime64[ns]"
      ]
     },
     "execution_count": 6,
     "metadata": {},
     "output_type": "execute_result"
    }
   ],
   "source": [
    "data[\"fecha\"]"
   ]
  },
  {
   "cell_type": "code",
   "execution_count": 7,
   "metadata": {},
   "outputs": [
    {
     "data": {
      "text/plain": [
       "1         10.0\n",
       "2          5.0\n",
       "3          1.0\n",
       "4         10.0\n",
       "5          5.0\n",
       "          ... \n",
       "239995     0.0\n",
       "239996     0.0\n",
       "239997    20.0\n",
       "239998    20.0\n",
       "239999     1.0\n",
       "Name: antiguedad, Length: 196445, dtype: float32"
      ]
     },
     "execution_count": 7,
     "metadata": {},
     "output_type": "execute_result"
    }
   ],
   "source": [
    "data.antiguedad"
   ]
  },
  {
   "cell_type": "code",
   "execution_count": 8,
   "metadata": {},
   "outputs": [],
   "source": [
    "data[\"antiguedad\"] = data[\"antiguedad\"] + (2016 - data[\"fecha\"].dt.year)"
   ]
  },
  {
   "cell_type": "code",
   "execution_count": 9,
   "metadata": {},
   "outputs": [
    {
     "data": {
      "text/plain": [
       "1         13.0\n",
       "2          6.0\n",
       "3          5.0\n",
       "4         10.0\n",
       "5          7.0\n",
       "          ... \n",
       "239995     1.0\n",
       "239996     2.0\n",
       "239997    21.0\n",
       "239998    22.0\n",
       "239999     2.0\n",
       "Name: antiguedad, Length: 196445, dtype: float64"
      ]
     },
     "execution_count": 9,
     "metadata": {},
     "output_type": "execute_result"
    }
   ],
   "source": [
    "data.antiguedad"
   ]
  },
  {
   "cell_type": "code",
   "execution_count": 46,
   "metadata": {},
   "outputs": [
    {
     "data": {
      "text/plain": [
       "Text(0, 0.5, 'Cantidad de propiedades publicadas')"
      ]
     },
     "execution_count": 46,
     "metadata": {},
     "output_type": "execute_result"
    },
    {
     "data": {
      "image/png": "[encoded data removed]",
      "text/plain": [
       "<Figure size 720x360 with 1 Axes>"
      ]
     },
     "metadata": {
      "needs_background": "light"
     },
     "output_type": "display_data"
    }
   ],
   "source": [
    "g = data['antiguedad'].to_frame().plot.hist(bins=20, color=\"#607c8e\", grid=True, alpha = 0.75, figsize=(10,5))\n",
    "g.set_title(\"Cantidad de propiedades segun su antiguedad\", fontsize=18)\n",
    "g.set_xlabel(\"Antiguedad de la propiedad\", fontsize=13)\n",
    "g.set_ylabel(\"Cantidad de propiedades publicadas\", fontsize=13)"
   ]
  },
  {
   "cell_type": "code",
   "execution_count": 13,
   "metadata": {},
   "outputs": [
    {
     "data": {
      "text/html": [
       "<div>\n",
       "<style scoped>\n",
       "    .dataframe tbody tr th:only-of-type {\n",
       "        vertical-align: middle;\n",
       "    }\n",
       "\n",
       "    .dataframe tbody tr th {\n",
       "        vertical-align: top;\n",
       "    }\n",
       "\n",
       "    .dataframe thead th {\n",
       "        text-align: right;\n",
       "    }\n",
       "</style>\n",
       "<table border=\"1\" class=\"dataframe\">\n",
       "  <thead>\n",
       "    <tr style=\"text-align: right;\">\n",
       "      <th></th>\n",
       "      <th>antiguedad</th>\n",
       "      <th>provincia</th>\n",
       "      <th>count</th>\n",
       "    </tr>\n",
       "  </thead>\n",
       "  <tbody>\n",
       "    <tr>\n",
       "      <td>14</td>\n",
       "      <td>0.0</td>\n",
       "      <td>Jalisco</td>\n",
       "      <td>2425</td>\n",
       "    </tr>\n",
       "    <tr>\n",
       "      <td>8</td>\n",
       "      <td>0.0</td>\n",
       "      <td>Distrito Federal</td>\n",
       "      <td>2399</td>\n",
       "    </tr>\n",
       "    <tr>\n",
       "      <td>21</td>\n",
       "      <td>0.0</td>\n",
       "      <td>Querétaro</td>\n",
       "      <td>2273</td>\n",
       "    </tr>\n",
       "    <tr>\n",
       "      <td>10</td>\n",
       "      <td>0.0</td>\n",
       "      <td>Edo. de México</td>\n",
       "      <td>1418</td>\n",
       "    </tr>\n",
       "    <tr>\n",
       "      <td>20</td>\n",
       "      <td>0.0</td>\n",
       "      <td>Puebla</td>\n",
       "      <td>1394</td>\n",
       "    </tr>\n",
       "    <tr>\n",
       "      <td>18</td>\n",
       "      <td>0.0</td>\n",
       "      <td>Nuevo León</td>\n",
       "      <td>1172</td>\n",
       "    </tr>\n",
       "    <tr>\n",
       "      <td>30</td>\n",
       "      <td>0.0</td>\n",
       "      <td>Yucatán</td>\n",
       "      <td>1110</td>\n",
       "    </tr>\n",
       "    <tr>\n",
       "      <td>29</td>\n",
       "      <td>0.0</td>\n",
       "      <td>Veracruz</td>\n",
       "      <td>635</td>\n",
       "    </tr>\n",
       "    <tr>\n",
       "      <td>22</td>\n",
       "      <td>0.0</td>\n",
       "      <td>Quintana Roo</td>\n",
       "      <td>513</td>\n",
       "    </tr>\n",
       "    <tr>\n",
       "      <td>23</td>\n",
       "      <td>0.0</td>\n",
       "      <td>San luis Potosí</td>\n",
       "      <td>504</td>\n",
       "    </tr>\n",
       "    <tr>\n",
       "      <td>16</td>\n",
       "      <td>0.0</td>\n",
       "      <td>Morelos</td>\n",
       "      <td>460</td>\n",
       "    </tr>\n",
       "    <tr>\n",
       "      <td>13</td>\n",
       "      <td>0.0</td>\n",
       "      <td>Hidalgo</td>\n",
       "      <td>388</td>\n",
       "    </tr>\n",
       "    <tr>\n",
       "      <td>5</td>\n",
       "      <td>0.0</td>\n",
       "      <td>Chihuahua</td>\n",
       "      <td>241</td>\n",
       "    </tr>\n",
       "    <tr>\n",
       "      <td>9</td>\n",
       "      <td>0.0</td>\n",
       "      <td>Durango</td>\n",
       "      <td>229</td>\n",
       "    </tr>\n",
       "    <tr>\n",
       "      <td>6</td>\n",
       "      <td>0.0</td>\n",
       "      <td>Coahuila</td>\n",
       "      <td>216</td>\n",
       "    </tr>\n",
       "    <tr>\n",
       "      <td>11</td>\n",
       "      <td>0.0</td>\n",
       "      <td>Guanajuato</td>\n",
       "      <td>215</td>\n",
       "    </tr>\n",
       "    <tr>\n",
       "      <td>15</td>\n",
       "      <td>0.0</td>\n",
       "      <td>Michoacán</td>\n",
       "      <td>169</td>\n",
       "    </tr>\n",
       "    <tr>\n",
       "      <td>28</td>\n",
       "      <td>0.0</td>\n",
       "      <td>Tlaxcala</td>\n",
       "      <td>166</td>\n",
       "    </tr>\n",
       "    <tr>\n",
       "      <td>27</td>\n",
       "      <td>0.0</td>\n",
       "      <td>Tamaulipas</td>\n",
       "      <td>135</td>\n",
       "    </tr>\n",
       "    <tr>\n",
       "      <td>12</td>\n",
       "      <td>0.0</td>\n",
       "      <td>Guerrero</td>\n",
       "      <td>127</td>\n",
       "    </tr>\n",
       "    <tr>\n",
       "      <td>4</td>\n",
       "      <td>0.0</td>\n",
       "      <td>Chiapas</td>\n",
       "      <td>103</td>\n",
       "    </tr>\n",
       "    <tr>\n",
       "      <td>24</td>\n",
       "      <td>0.0</td>\n",
       "      <td>Sinaloa</td>\n",
       "      <td>93</td>\n",
       "    </tr>\n",
       "    <tr>\n",
       "      <td>26</td>\n",
       "      <td>0.0</td>\n",
       "      <td>Tabasco</td>\n",
       "      <td>84</td>\n",
       "    </tr>\n",
       "    <tr>\n",
       "      <td>25</td>\n",
       "      <td>0.0</td>\n",
       "      <td>Sonora</td>\n",
       "      <td>75</td>\n",
       "    </tr>\n",
       "    <tr>\n",
       "      <td>7</td>\n",
       "      <td>0.0</td>\n",
       "      <td>Colima</td>\n",
       "      <td>69</td>\n",
       "    </tr>\n",
       "    <tr>\n",
       "      <td>0</td>\n",
       "      <td>0.0</td>\n",
       "      <td>Aguascalientes</td>\n",
       "      <td>62</td>\n",
       "    </tr>\n",
       "    <tr>\n",
       "      <td>1</td>\n",
       "      <td>0.0</td>\n",
       "      <td>Baja California Norte</td>\n",
       "      <td>57</td>\n",
       "    </tr>\n",
       "    <tr>\n",
       "      <td>17</td>\n",
       "      <td>0.0</td>\n",
       "      <td>Nayarit</td>\n",
       "      <td>56</td>\n",
       "    </tr>\n",
       "    <tr>\n",
       "      <td>2</td>\n",
       "      <td>0.0</td>\n",
       "      <td>Baja California Sur</td>\n",
       "      <td>35</td>\n",
       "    </tr>\n",
       "    <tr>\n",
       "      <td>19</td>\n",
       "      <td>0.0</td>\n",
       "      <td>Oaxaca</td>\n",
       "      <td>21</td>\n",
       "    </tr>\n",
       "    <tr>\n",
       "      <td>3</td>\n",
       "      <td>0.0</td>\n",
       "      <td>Campeche</td>\n",
       "      <td>6</td>\n",
       "    </tr>\n",
       "    <tr>\n",
       "      <td>31</td>\n",
       "      <td>0.0</td>\n",
       "      <td>Zacatecas</td>\n",
       "      <td>6</td>\n",
       "    </tr>\n",
       "  </tbody>\n",
       "</table>\n",
       "</div>"
      ],
      "text/plain": [
       "    antiguedad              provincia  count\n",
       "14         0.0                Jalisco   2425\n",
       "8          0.0       Distrito Federal   2399\n",
       "21         0.0              Querétaro   2273\n",
       "10         0.0         Edo. de México   1418\n",
       "20         0.0                 Puebla   1394\n",
       "18         0.0             Nuevo León   1172\n",
       "30         0.0                Yucatán   1110\n",
       "29         0.0               Veracruz    635\n",
       "22         0.0           Quintana Roo    513\n",
       "23         0.0        San luis Potosí    504\n",
       "16         0.0                Morelos    460\n",
       "13         0.0                Hidalgo    388\n",
       "5          0.0              Chihuahua    241\n",
       "9          0.0                Durango    229\n",
       "6          0.0               Coahuila    216\n",
       "11         0.0             Guanajuato    215\n",
       "15         0.0              Michoacán    169\n",
       "28         0.0               Tlaxcala    166\n",
       "27         0.0             Tamaulipas    135\n",
       "12         0.0               Guerrero    127\n",
       "4          0.0                Chiapas    103\n",
       "24         0.0                Sinaloa     93\n",
       "26         0.0                Tabasco     84\n",
       "25         0.0                 Sonora     75\n",
       "7          0.0                 Colima     69\n",
       "0          0.0         Aguascalientes     62\n",
       "1          0.0  Baja California Norte     57\n",
       "17         0.0                Nayarit     56\n",
       "2          0.0    Baja California Sur     35\n",
       "19         0.0                 Oaxaca     21\n",
       "3          0.0               Campeche      6\n",
       "31         0.0              Zacatecas      6"
      ]
     },
     "execution_count": 13,
     "metadata": {},
     "output_type": "execute_result"
    }
   ],
   "source": [
    "provincias_con_nuevas_prop = data.dropna(subset=[\"provincia\"])[['provincia', 'antiguedad']]\n",
    "provincias_con_nuevas_prop['count'] = 1\n",
    "provincias_con_nuevas_prop = provincias_con_nuevas_prop.groupby(['antiguedad','provincia']).agg({'count': 'count'}).reset_index()\n",
    "provincias_con_nuevas_prop = provincias_con_nuevas_prop[provincias_con_nuevas_prop['antiguedad'] == 0.0].sort_values('count', ascending = False)\n",
    "provincias_con_nuevas_prop"
   ]
  },
  {
   "cell_type": "code",
   "execution_count": 14,
   "metadata": {},
   "outputs": [
    {
     "data": {
      "text/plain": [
       "Text(0, 0.5, 'Provincia')"
      ]
     },
     "execution_count": 14,
     "metadata": {},
     "output_type": "execute_result"
    },
    {
     "data": {
      "image/png": "[encoded data removed]",
      "text/plain": [
       "<Figure size 720x576 with 1 Axes>"
      ]
     },
     "metadata": {
      "needs_background": "light"
     },
     "output_type": "display_data"
    }
   ],
   "source": [
    "plt.figure(figsize = (10,8))\n",
    "g = sns.barplot(x=provincias_con_nuevas_prop['count'], y=provincias_con_nuevas_prop['provincia'] )\n",
    "g.set_title(\"Cantidad de propiedades con antiguedad 0 por provincia\", fontsize=15)\n",
    "g.set_xlabel(\"Cantidad de propiedades\", fontsize=12)\n",
    "g.set_ylabel(\"Provincia\", fontsize=12)"
   ]
  },
  {
   "cell_type": "code",
   "execution_count": 49,
   "metadata": {},
   "outputs": [],
   "source": [
    "df_ant = data[[\"antiguedad\", \"provincia\"]]\n",
    "df_ant = df_ant[df_ant['provincia'] == \"Distrito Federal\"]"
   ]
  },
  {
   "cell_type": "code",
   "execution_count": 50,
   "metadata": {},
   "outputs": [
    {
     "data": {
      "text/plain": [
       "Text(0, 0.5, 'Cantidad de propiedades')"
      ]
     },
     "execution_count": 50,
     "metadata": {},
     "output_type": "execute_result"
    },
    {
     "data": {
      "image/png": "[encoded data removed]",
      "text/plain": [
       "<Figure size 720x360 with 1 Axes>"
      ]
     },
     "metadata": {
      "needs_background": "light"
     },
     "output_type": "display_data"
    }
   ],
   "source": [
    "g = df_ant.plot.hist(bins=20, color=\"orange\", alpha = 0.80, figsize =(10,5))\n",
    "g.set_title(\"Cantidad de publicaciones segun su antiguedad en el DF\", fontsize=18)\n",
    "g.set_xlabel(\"Antiguedad de la propiedad\", fontsize=13)\n",
    "g.set_ylabel(\"Cantidad de propiedades\", fontsize=13)"
   ]
  },
  {
   "cell_type": "code",
   "execution_count": 18,
   "metadata": {},
   "outputs": [
    {
     "data": {
      "text/html": [
       "<div>\n",
       "<style scoped>\n",
       "    .dataframe tbody tr th:only-of-type {\n",
       "        vertical-align: middle;\n",
       "    }\n",
       "\n",
       "    .dataframe tbody tr th {\n",
       "        vertical-align: top;\n",
       "    }\n",
       "\n",
       "    .dataframe thead th {\n",
       "        text-align: right;\n",
       "    }\n",
       "</style>\n",
       "<table border=\"1\" class=\"dataframe\">\n",
       "  <thead>\n",
       "    <tr style=\"text-align: right;\">\n",
       "      <th></th>\n",
       "      <th>antiguedad</th>\n",
       "      <th>metrostotales</th>\n",
       "      <th>groups</th>\n",
       "    </tr>\n",
       "  </thead>\n",
       "  <tbody>\n",
       "    <tr>\n",
       "      <td>1</td>\n",
       "      <td>13.0</td>\n",
       "      <td>180.0</td>\n",
       "      <td>(10.0, 20.0]</td>\n",
       "    </tr>\n",
       "    <tr>\n",
       "      <td>2</td>\n",
       "      <td>6.0</td>\n",
       "      <td>166.0</td>\n",
       "      <td>(-0.1, 10.0]</td>\n",
       "    </tr>\n",
       "    <tr>\n",
       "      <td>3</td>\n",
       "      <td>5.0</td>\n",
       "      <td>67.0</td>\n",
       "      <td>(-0.1, 10.0]</td>\n",
       "    </tr>\n",
       "    <tr>\n",
       "      <td>4</td>\n",
       "      <td>10.0</td>\n",
       "      <td>95.0</td>\n",
       "      <td>(-0.1, 10.0]</td>\n",
       "    </tr>\n",
       "    <tr>\n",
       "      <td>5</td>\n",
       "      <td>7.0</td>\n",
       "      <td>90.0</td>\n",
       "      <td>(-0.1, 10.0]</td>\n",
       "    </tr>\n",
       "    <tr>\n",
       "      <td>...</td>\n",
       "      <td>...</td>\n",
       "      <td>...</td>\n",
       "      <td>...</td>\n",
       "    </tr>\n",
       "    <tr>\n",
       "      <td>239993</td>\n",
       "      <td>2.0</td>\n",
       "      <td>150.0</td>\n",
       "      <td>(-0.1, 10.0]</td>\n",
       "    </tr>\n",
       "    <tr>\n",
       "      <td>239994</td>\n",
       "      <td>6.0</td>\n",
       "      <td>90.0</td>\n",
       "      <td>(-0.1, 10.0]</td>\n",
       "    </tr>\n",
       "    <tr>\n",
       "      <td>239996</td>\n",
       "      <td>2.0</td>\n",
       "      <td>250.0</td>\n",
       "      <td>(-0.1, 10.0]</td>\n",
       "    </tr>\n",
       "    <tr>\n",
       "      <td>239997</td>\n",
       "      <td>21.0</td>\n",
       "      <td>138.0</td>\n",
       "      <td>(20.0, 30.0]</td>\n",
       "    </tr>\n",
       "    <tr>\n",
       "      <td>239998</td>\n",
       "      <td>22.0</td>\n",
       "      <td>137.0</td>\n",
       "      <td>(20.0, 30.0]</td>\n",
       "    </tr>\n",
       "  </tbody>\n",
       "</table>\n",
       "<p>154333 rows × 3 columns</p>\n",
       "</div>"
      ],
      "text/plain": [
       "        antiguedad  metrostotales        groups\n",
       "1             13.0          180.0  (10.0, 20.0]\n",
       "2              6.0          166.0  (-0.1, 10.0]\n",
       "3              5.0           67.0  (-0.1, 10.0]\n",
       "4             10.0           95.0  (-0.1, 10.0]\n",
       "5              7.0           90.0  (-0.1, 10.0]\n",
       "...            ...            ...           ...\n",
       "239993         2.0          150.0  (-0.1, 10.0]\n",
       "239994         6.0           90.0  (-0.1, 10.0]\n",
       "239996         2.0          250.0  (-0.1, 10.0]\n",
       "239997        21.0          138.0  (20.0, 30.0]\n",
       "239998        22.0          137.0  (20.0, 30.0]\n",
       "\n",
       "[154333 rows x 3 columns]"
      ]
     },
     "execution_count": 18,
     "metadata": {},
     "output_type": "execute_result"
    }
   ],
   "source": [
    "ant_metros_totales = data.dropna(subset=['metrostotales'])[['antiguedad', 'metrostotales']]\n",
    "ant_metros_totales['groups']=pd.cut(ant_metros_totales.antiguedad,[0,10,20,30,40,50,60,80], precision = 1, include_lowest=True)\n",
    "ant_metros_totales"
   ]
  },
  {
   "cell_type": "code",
   "execution_count": 19,
   "metadata": {},
   "outputs": [
    {
     "data": {
      "text/plain": [
       "Text(0, 0.5, 'Metros totales')"
      ]
     },
     "execution_count": 19,
     "metadata": {},
     "output_type": "execute_result"
    },
    {
     "data": {
      "image/png": "[encoded data removed]",
      "text/plain": [
       "<Figure size 1080x720 with 1 Axes>"
      ]
     },
     "metadata": {
      "needs_background": "light"
     },
     "output_type": "display_data"
    }
   ],
   "source": [
    "plt.figure(figsize=(15,10))\n",
    "ax = sns.boxplot(x = ant_metros_totales['groups'], y=ant_metros_totales['metrostotales'], width=1, fliersize =1)\n",
    "ax.set_title(\"Metros totales segun la antiguedad\", fontsize=18)\n",
    "ax.set_xlabel(\"Antiguedad\", fontsize=13)\n",
    "ax.set_ylabel(\"Metros totales\", fontsize=13)"
   ]
  },
  {
   "cell_type": "code",
   "execution_count": 31,
   "metadata": {},
   "outputs": [
    {
     "data": {
      "text/html": [
       "<div>\n",
       "<style scoped>\n",
       "    .dataframe tbody tr th:only-of-type {\n",
       "        vertical-align: middle;\n",
       "    }\n",
       "\n",
       "    .dataframe tbody tr th {\n",
       "        vertical-align: top;\n",
       "    }\n",
       "\n",
       "    .dataframe thead th {\n",
       "        text-align: right;\n",
       "    }\n",
       "</style>\n",
       "<table border=\"1\" class=\"dataframe\">\n",
       "  <thead>\n",
       "    <tr style=\"text-align: right;\">\n",
       "      <th>antiguedad</th>\n",
       "      <th>(-0.1, 10.0]</th>\n",
       "      <th>(10.0, 20.0]</th>\n",
       "      <th>(20.0, 30.0]</th>\n",
       "      <th>(30.0, 40.0]</th>\n",
       "      <th>(40.0, 50.0]</th>\n",
       "      <th>(50.0, 60.0]</th>\n",
       "      <th>(60.0, 80.0]</th>\n",
       "    </tr>\n",
       "    <tr>\n",
       "      <th>tipodepropiedad</th>\n",
       "      <th></th>\n",
       "      <th></th>\n",
       "      <th></th>\n",
       "      <th></th>\n",
       "      <th></th>\n",
       "      <th></th>\n",
       "      <th></th>\n",
       "    </tr>\n",
       "  </thead>\n",
       "  <tbody>\n",
       "    <tr>\n",
       "      <td>Apartamento</td>\n",
       "      <td>10.400255</td>\n",
       "      <td>9.080004</td>\n",
       "      <td>8.410053</td>\n",
       "      <td>7.168580</td>\n",
       "      <td>6.354370</td>\n",
       "      <td>5.398163</td>\n",
       "      <td>4.043051</td>\n",
       "    </tr>\n",
       "    <tr>\n",
       "      <td>Bodega comercial</td>\n",
       "      <td>6.498282</td>\n",
       "      <td>5.700444</td>\n",
       "      <td>4.770685</td>\n",
       "      <td>3.401197</td>\n",
       "      <td>2.484907</td>\n",
       "      <td>1.609438</td>\n",
       "      <td>0.000000</td>\n",
       "    </tr>\n",
       "    <tr>\n",
       "      <td>Casa</td>\n",
       "      <td>11.294458</td>\n",
       "      <td>10.027518</td>\n",
       "      <td>9.272940</td>\n",
       "      <td>8.064636</td>\n",
       "      <td>7.271009</td>\n",
       "      <td>6.356108</td>\n",
       "      <td>4.997212</td>\n",
       "    </tr>\n",
       "    <tr>\n",
       "      <td>Casa en condominio</td>\n",
       "      <td>9.404920</td>\n",
       "      <td>7.953318</td>\n",
       "      <td>6.922644</td>\n",
       "      <td>5.420535</td>\n",
       "      <td>3.663562</td>\n",
       "      <td>2.302585</td>\n",
       "      <td>1.098612</td>\n",
       "    </tr>\n",
       "    <tr>\n",
       "      <td>Casa uso de suelo</td>\n",
       "      <td>5.288267</td>\n",
       "      <td>5.141664</td>\n",
       "      <td>4.859812</td>\n",
       "      <td>3.637586</td>\n",
       "      <td>3.912023</td>\n",
       "      <td>3.135494</td>\n",
       "      <td>1.945910</td>\n",
       "    </tr>\n",
       "  </tbody>\n",
       "</table>\n",
       "</div>"
      ],
      "text/plain": [
       "antiguedad          (-0.1, 10.0]  (10.0, 20.0]  (20.0, 30.0]  (30.0, 40.0]  \\\n",
       "tipodepropiedad                                                              \n",
       "Apartamento            10.400255      9.080004      8.410053      7.168580   \n",
       "Bodega comercial        6.498282      5.700444      4.770685      3.401197   \n",
       "Casa                   11.294458     10.027518      9.272940      8.064636   \n",
       "Casa en condominio      9.404920      7.953318      6.922644      5.420535   \n",
       "Casa uso de suelo       5.288267      5.141664      4.859812      3.637586   \n",
       "\n",
       "antiguedad          (40.0, 50.0]  (50.0, 60.0]  (60.0, 80.0]  \n",
       "tipodepropiedad                                               \n",
       "Apartamento             6.354370      5.398163      4.043051  \n",
       "Bodega comercial        2.484907      1.609438      0.000000  \n",
       "Casa                    7.271009      6.356108      4.997212  \n",
       "Casa en condominio      3.663562      2.302585      1.098612  \n",
       "Casa uso de suelo       3.912023      3.135494      1.945910  "
      ]
     },
     "execution_count": 31,
     "metadata": {},
     "output_type": "execute_result"
    }
   ],
   "source": [
    "ant_tipo = data.dropna(subset=['tipodepropiedad'])[['tipodepropiedad', 'antiguedad']]\n",
    "ant_tipo['count'] = 1\n",
    "ant_tipo['groups'] = pd.cut(ant_tipo.antiguedad, [0,10,20,30,40,50,60,80], precision = 1, include_lowest=True)\n",
    "ant_tipo = ant_tipo.drop(columns='antiguedad').rename(columns={'groups':'antiguedad'}).pivot_table(index='tipodepropiedad', columns='antiguedad', values='count', aggfunc='count')\n",
    "ant_tipo = ant_tipo.applymap(lambda x: np.log(x))\n",
    "ant_tipo.head()"
   ]
  },
  {
   "cell_type": "code",
   "execution_count": 33,
   "metadata": {},
   "outputs": [
    {
     "data": {
      "text/plain": [
       "Text(66.49999999999999, 0.5, 'Tipo de propiedad')"
      ]
     },
     "execution_count": 33,
     "metadata": {},
     "output_type": "execute_result"
    },
    {
     "data": {
      "image/png": "[encoded data removed]",
      "text/plain": [
       "<Figure size 720x576 with 2 Axes>"
      ]
     },
     "metadata": {
      "needs_background": "light"
     },
     "output_type": "display_data"
    }
   ],
   "source": [
    "plt.figure(figsize=(10,8))\n",
    "g = sns.heatmap(ant_tipo, vmin = 0, vmax=12, cmap= \"YlGnBu\", linewidths=.5)\n",
    "plt.xticks(rotation=75)\n",
    "g.set_title(\"Cantidad de publicaciones segun su antiguedad de cada tipo de propiedad (esc. Log)\", fontsize=15)\n",
    "g.set_xlabel(\"Antiguedad\", fontsize=13)\n",
    "g.set_ylabel(\"Tipo de propiedad\", fontsize=13)"
   ]
  },
  {
   "cell_type": "code",
   "execution_count": 36,
   "metadata": {},
   "outputs": [],
   "source": [
    "ant_habitaciones = data[['antiguedad', 'habitaciones']]\n",
    "ant_habitaciones = ant_habitaciones.dropna()"
   ]
  },
  {
   "cell_type": "code",
   "execution_count": 40,
   "metadata": {},
   "outputs": [
    {
     "data": {
      "image/png": "[encoded data removed]",
      "text/plain": [
       "<Figure size 1080x720 with 1 Axes>"
      ]
     },
     "metadata": {
      "needs_background": "light"
     },
     "output_type": "display_data"
    }
   ],
   "source": [
    "plt.figure(figsize=(15,10))\n",
    "ant_habitaciones['groups'] = pd.cut(ant_habitaciones.antiguedad, [0,10,20,30,40,50,60,80], precision = 1, include_lowest=True)\n",
    "ant_habitaciones.head()\n",
    "g = sns.boxplot(x=\"groups\", y=\"habitaciones\", data=ant_habitaciones, palette=\"hls\")"
   ]
  },
  {
   "cell_type": "code",
   "execution_count": 41,
   "metadata": {},
   "outputs": [
    {
     "data": {
      "text/html": [
       "<div>\n",
       "<style scoped>\n",
       "    .dataframe tbody tr th:only-of-type {\n",
       "        vertical-align: middle;\n",
       "    }\n",
       "\n",
       "    .dataframe tbody tr th {\n",
       "        vertical-align: top;\n",
       "    }\n",
       "\n",
       "    .dataframe thead th {\n",
       "        text-align: right;\n",
       "    }\n",
       "</style>\n",
       "<table border=\"1\" class=\"dataframe\">\n",
       "  <thead>\n",
       "    <tr style=\"text-align: right;\">\n",
       "      <th>antiguedad</th>\n",
       "      <th>(-0.1, 10.0]</th>\n",
       "      <th>(10.0, 20.0]</th>\n",
       "      <th>(20.0, 30.0]</th>\n",
       "      <th>(30.0, 40.0]</th>\n",
       "      <th>(40.0, 50.0]</th>\n",
       "      <th>(50.0, 60.0]</th>\n",
       "      <th>(60.0, 80.0]</th>\n",
       "    </tr>\n",
       "    <tr>\n",
       "      <th>provincia</th>\n",
       "      <th></th>\n",
       "      <th></th>\n",
       "      <th></th>\n",
       "      <th></th>\n",
       "      <th></th>\n",
       "      <th></th>\n",
       "      <th></th>\n",
       "    </tr>\n",
       "  </thead>\n",
       "  <tbody>\n",
       "    <tr>\n",
       "      <td>Aguascalientes</td>\n",
       "      <td>6.952729</td>\n",
       "      <td>5.918894</td>\n",
       "      <td>4.510860</td>\n",
       "      <td>3.401197</td>\n",
       "      <td>1.386294</td>\n",
       "      <td>0.000000</td>\n",
       "      <td>0.0</td>\n",
       "    </tr>\n",
       "    <tr>\n",
       "      <td>Baja California Norte</td>\n",
       "      <td>7.715124</td>\n",
       "      <td>6.047372</td>\n",
       "      <td>3.433987</td>\n",
       "      <td>1.791759</td>\n",
       "      <td>0.000000</td>\n",
       "      <td>1.386294</td>\n",
       "      <td>NaN</td>\n",
       "    </tr>\n",
       "    <tr>\n",
       "      <td>Baja California Sur</td>\n",
       "      <td>7.265430</td>\n",
       "      <td>4.605170</td>\n",
       "      <td>3.367296</td>\n",
       "      <td>1.098612</td>\n",
       "      <td>1.098612</td>\n",
       "      <td>NaN</td>\n",
       "      <td>0.0</td>\n",
       "    </tr>\n",
       "    <tr>\n",
       "      <td>Campeche</td>\n",
       "      <td>5.075174</td>\n",
       "      <td>3.258097</td>\n",
       "      <td>2.397895</td>\n",
       "      <td>0.693147</td>\n",
       "      <td>NaN</td>\n",
       "      <td>NaN</td>\n",
       "      <td>NaN</td>\n",
       "    </tr>\n",
       "    <tr>\n",
       "      <td>Chiapas</td>\n",
       "      <td>6.658011</td>\n",
       "      <td>5.153292</td>\n",
       "      <td>3.713572</td>\n",
       "      <td>2.197225</td>\n",
       "      <td>1.609438</td>\n",
       "      <td>0.693147</td>\n",
       "      <td>NaN</td>\n",
       "    </tr>\n",
       "  </tbody>\n",
       "</table>\n",
       "</div>"
      ],
      "text/plain": [
       "antiguedad             (-0.1, 10.0]  (10.0, 20.0]  (20.0, 30.0]  (30.0, 40.0]  \\\n",
       "provincia                                                                       \n",
       "Aguascalientes             6.952729      5.918894      4.510860      3.401197   \n",
       "Baja California Norte      7.715124      6.047372      3.433987      1.791759   \n",
       "Baja California Sur        7.265430      4.605170      3.367296      1.098612   \n",
       "Campeche                   5.075174      3.258097      2.397895      0.693147   \n",
       "Chiapas                    6.658011      5.153292      3.713572      2.197225   \n",
       "\n",
       "antiguedad             (40.0, 50.0]  (50.0, 60.0]  (60.0, 80.0]  \n",
       "provincia                                                        \n",
       "Aguascalientes             1.386294      0.000000           0.0  \n",
       "Baja California Norte      0.000000      1.386294           NaN  \n",
       "Baja California Sur        1.098612           NaN           0.0  \n",
       "Campeche                        NaN           NaN           NaN  \n",
       "Chiapas                    1.609438      0.693147           NaN  "
      ]
     },
     "execution_count": 41,
     "metadata": {},
     "output_type": "execute_result"
    }
   ],
   "source": [
    "ant_prov = data.dropna(subset=['provincia'])[['provincia', 'antiguedad']]\n",
    "ant_prov['count'] = 1\n",
    "ant_prov['groups'] = pd.cut(ant_prov.antiguedad, [0,10,20,30,40,50,60,80], precision = 1, include_lowest=True)\n",
    "ant_prov = ant_prov.drop(columns='antiguedad').rename(columns={'groups':'antiguedad'}).pivot_table(index='provincia', columns='antiguedad', values='count', aggfunc='count')\n",
    "ant_prov = ant_prov.applymap(lambda x: np.log(x))\n",
    "ant_prov.head()"
   ]
  },
  {
   "cell_type": "code",
   "execution_count": 42,
   "metadata": {},
   "outputs": [
    {
     "data": {
      "text/plain": [
       "Text(66.5, 0.5, 'Provincia')"
      ]
     },
     "execution_count": 42,
     "metadata": {},
     "output_type": "execute_result"
    },
    {
     "data": {
      "image/png": "[encoded data removed]",
      "text/plain": [
       "<Figure size 720x576 with 2 Axes>"
      ]
     },
     "metadata": {
      "needs_background": "light"
     },
     "output_type": "display_data"
    }
   ],
   "source": [
    "plt.figure(figsize=(10,8))\n",
    "g = sns.heatmap(ant_prov, vmin = 0, vmax=11, cmap= \"YlGnBu\", linewidths=.5)\n",
    "plt.xticks(rotation=75)\n",
    "g.set_title(\"Cantidad de publicaciones segun su antiguedad por provincia (esc. Log)\", fontsize=15)\n",
    "g.set_xlabel(\"Antiguedad\", fontsize=13)\n",
    "g.set_ylabel(\"Provincia\", fontsize=13)"
   ]
  },
  {
   "cell_type": "code",
   "execution_count": 43,
   "metadata": {},
   "outputs": [
    {
     "data": {
      "text/html": [
       "<div>\n",
       "<style scoped>\n",
       "    .dataframe tbody tr th:only-of-type {\n",
       "        vertical-align: middle;\n",
       "    }\n",
       "\n",
       "    .dataframe tbody tr th {\n",
       "        vertical-align: top;\n",
       "    }\n",
       "\n",
       "    .dataframe thead th {\n",
       "        text-align: right;\n",
       "    }\n",
       "</style>\n",
       "<table border=\"1\" class=\"dataframe\">\n",
       "  <thead>\n",
       "    <tr style=\"text-align: right;\">\n",
       "      <th></th>\n",
       "      <th>gimnasio</th>\n",
       "      <th>usosmultiples</th>\n",
       "      <th>escuelascercanas</th>\n",
       "      <th>centroscomercialescercanos</th>\n",
       "    </tr>\n",
       "  </thead>\n",
       "  <tbody>\n",
       "    <tr>\n",
       "      <td>0</td>\n",
       "      <td>False</td>\n",
       "      <td>False</td>\n",
       "      <td>True</td>\n",
       "      <td>True</td>\n",
       "    </tr>\n",
       "    <tr>\n",
       "      <td>1</td>\n",
       "      <td>False</td>\n",
       "      <td>False</td>\n",
       "      <td>False</td>\n",
       "      <td>False</td>\n",
       "    </tr>\n",
       "  </tbody>\n",
       "</table>\n",
       "</div>"
      ],
      "text/plain": [
       "   gimnasio  usosmultiples  escuelascercanas  centroscomercialescercanos\n",
       "0     False          False              True                        True\n",
       "1     False          False             False                       False"
      ]
     },
     "execution_count": 43,
     "metadata": {},
     "output_type": "execute_result"
    }
   ],
   "source": [
    "ant_cercanias = data[data[\"antiguedad\"] <= 5.0]\n",
    "ant_cercanias = ant_cercanias[[\"antiguedad\", \"gimnasio\", \"usosmultiples\", \"escuelascercanas\", \"centroscomercialescercanos\"]].reset_index(drop=True)\n",
    "ant_cercanias = ant_cercanias.drop(columns=[\"antiguedad\"])\n",
    "ant_cercanias.head(2)"
   ]
  },
  {
   "cell_type": "code",
   "execution_count": 44,
   "metadata": {},
   "outputs": [
    {
     "data": {
      "text/html": [
       "<div>\n",
       "<style scoped>\n",
       "    .dataframe tbody tr th:only-of-type {\n",
       "        vertical-align: middle;\n",
       "    }\n",
       "\n",
       "    .dataframe tbody tr th {\n",
       "        vertical-align: top;\n",
       "    }\n",
       "\n",
       "    .dataframe thead th {\n",
       "        text-align: right;\n",
       "    }\n",
       "</style>\n",
       "<table border=\"1\" class=\"dataframe\">\n",
       "  <thead>\n",
       "    <tr style=\"text-align: right;\">\n",
       "      <th></th>\n",
       "      <th>beneficios</th>\n",
       "      <th>cantidad</th>\n",
       "    </tr>\n",
       "  </thead>\n",
       "  <tbody>\n",
       "    <tr>\n",
       "      <td>0</td>\n",
       "      <td>gimnasio</td>\n",
       "      <td>9060</td>\n",
       "    </tr>\n",
       "    <tr>\n",
       "      <td>1</td>\n",
       "      <td>usosmultiples</td>\n",
       "      <td>7953</td>\n",
       "    </tr>\n",
       "    <tr>\n",
       "      <td>2</td>\n",
       "      <td>escuelascercanas</td>\n",
       "      <td>45819</td>\n",
       "    </tr>\n",
       "    <tr>\n",
       "      <td>3</td>\n",
       "      <td>centroscomercialescercanos</td>\n",
       "      <td>40785</td>\n",
       "    </tr>\n",
       "  </tbody>\n",
       "</table>\n",
       "</div>"
      ],
      "text/plain": [
       "                   beneficios  cantidad\n",
       "0                    gimnasio      9060\n",
       "1               usosmultiples      7953\n",
       "2            escuelascercanas     45819\n",
       "3  centroscomercialescercanos     40785"
      ]
     },
     "execution_count": 44,
     "metadata": {},
     "output_type": "execute_result"
    }
   ],
   "source": [
    "ant_cercanias_t = ant_cercanias[ant_cercanias[[\"gimnasio\", \"usosmultiples\", \"escuelascercanas\", \"centroscomercialescercanos\"]] == True]\n",
    "ant_cercanias_t = ant_cercanias_t.count().reset_index()\n",
    "ant_cercanias_t = ant_cercanias_t.rename(columns={\"index\":\"beneficios\", 0:\"cantidad\"})\n",
    "ant_cercanias_t"
   ]
  },
  {
   "cell_type": "code",
   "execution_count": 45,
   "metadata": {},
   "outputs": [
    {
     "data": {
      "text/plain": [
       "Text(0, 0.5, 'Cantidad')"
      ]
     },
     "execution_count": 45,
     "metadata": {},
     "output_type": "execute_result"
    },
    {
     "data": {
      "image/png": "[encoded data removed]",
      "text/plain": [
       "<Figure size 720x360 with 1 Axes>"
      ]
     },
     "metadata": {
      "needs_background": "light"
     },
     "output_type": "display_data"
    }
   ],
   "source": [
    "plt.figure(figsize=(10,5))\n",
    "g = sns.barplot(x = \"beneficios\", y = \"cantidad\", data = ant_cercanias_t)\n",
    "g.set_title(\"Cantidad de propiedades nuevas (menos de 5 años de antiguedad) con beneficios cerca\", fontsize=18)\n",
    "g.set_xlabel(\"Beneficios\", fontsize=13)\n",
    "g.set_ylabel(\"Cantidad\",fontsize=13 )"
   ]
  }
 ],
 "metadata": {
  "kernelspec": {
   "display_name": "Python 3",
   "language": "python",
   "name": "python3"
  },
  "language_info": {
   "codemirror_mode": {
    "name": "ipython",
    "version": 3
   },
   "file_extension": ".py",
   "mimetype": "text/x-python",
   "name": "python",
   "nbconvert_exporter": "python",
   "pygments_lexer": "ipython3",
   "version": "3.6.8"
  }
 },
 "nbformat": 4,
 "nbformat_minor": 2
}
