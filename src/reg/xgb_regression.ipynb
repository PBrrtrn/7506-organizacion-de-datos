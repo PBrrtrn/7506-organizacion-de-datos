{
 "cells": [
  {
   "cell_type": "code",
   "execution_count": 1,
   "metadata": {},
   "outputs": [],
   "source": [
    "import pandas as pd\n",
    "import xgboost as xgb\n",
    "import numpy as np\n",
    "from datetime import datetime\n",
    "    \n",
    "TRAIN_PATH = '../../res/ftr/base_data_train.csv'\n",
    "EVALUATION_PATH = '../../res/ftr/base_data_evaluation.csv'\n",
    "\n",
    "pd.set_option('display.max_columns', 30)\n",
    "\n",
    "training_set = pd.read_csv(TRAIN_PATH)\n",
    "evaluation_set = pd.read_csv(EVALUATION_PATH)\n",
    "\n",
    "training_set.drop(columns=['Unnamed: 0'], inplace=True)\n",
    "evaluation_set.drop(columns=['Unnamed: 0'], inplace=True)"
   ]
  },
  {
   "cell_type": "code",
   "execution_count": 2,
   "metadata": {},
   "outputs": [],
   "source": [
    "def load_features(train_df, evaluation_df, features_list):\n",
    "    for feature in features_list:\n",
    "        test_ftr = pd.read_csv('../../res/ftr/'+feature+'_train.csv')\n",
    "        evaluation_ftr = pd.read_csv('../../res/ftr/'+feature+'_evaluation.csv')\n",
    "    \n",
    "        train_df = train_df.merge(test_ftr, on='id', how='inner').drop(columns=['Unnamed: 0'])\n",
    "        evaluation_df = evaluation_df.merge(evaluation_ftr, on='id', how='inner').drop(columns=['Unnamed: 0'])\n",
    "    \n",
    "    return (train_df, evaluation_df)\n",
    "\n",
    "features_array = ['amenities', 'avenida_in_direction', 'encoded_provincia', 'encoded_tipodepropiedad',\n",
    "                  'feature_hashed_ciudad', 'mean_precio_encoded_ciudad', 'mean_precio_encoded_provincia',\n",
    "                  'mean_precio_encoded_tipodepropiedad', 'metros_totales_y_cubiertos_log', 'murder_rate_of_entity',\n",
    "                  'provincia_borders_analysis', 'provincia_economy', 'qualificative_adjectives_in_description',\n",
    "                  'surface_features', 'mean_idzona_price','security_words_in_description',\n",
    "                  'metrostotales_bigger_than_metroscubiertos']\n",
    "(training_set, evaluation_set) = load_features(training_set, evaluation_set, features_array)"
   ]
  },
  {
   "cell_type": "code",
   "execution_count": 3,
   "metadata": {},
   "outputs": [
    {
     "data": {
      "text/plain": [
       "XGBRegressor(base_score=0.5, booster='gbtree', colsample_bylevel=1,\n",
       "             colsample_bynode=1, colsample_bytree=0.5, gamma=1,\n",
       "             importance_type='gain', learning_rate=0.02, max_delta_step=0,\n",
       "             max_depth=16, min_child_weight=25, missing=None, n_estimators=2000,\n",
       "             n_jobs=1, nthread=None, objective='reg:squarederror',\n",
       "             random_state=0, reg_alpha=0, reg_lambda=1, scale_pos_weight=1,\n",
       "             seed=None, silent=None, subsample=0.75, verbosity=1)"
      ]
     },
     "execution_count": 3,
     "metadata": {},
     "output_type": "execute_result"
    }
   ],
   "source": [
    "training_set_X = training_set.drop(columns=['precio']).values\n",
    "training_set_Y = training_set['precio'].values\n",
    "\n",
    "regressor = xgb.XGBRegressor(objective='reg:squarederror', n_estimators=2000, learning_rate=0.02,\n",
    "                             gamma=1, subsample=0.75, colsample_bytree=0.5, max_depth=16, min_child_weight=25)\n",
    "\n",
    "regressor.fit(training_set_X, training_set_Y)"
   ]
  },
  {
   "cell_type": "code",
   "execution_count": 4,
   "metadata": {},
   "outputs": [],
   "source": [
    "evaluation_set_prediction = regressor.predict(evaluation_set.values)"
   ]
  },
  {
   "cell_type": "code",
   "execution_count": 5,
   "metadata": {},
   "outputs": [],
   "source": [
    "estimated_prices = pd.DataFrame()\n",
    "estimated_prices['id'] = evaluation_set['id']\n",
    "estimated_prices['target'] = evaluation_set_prediction\n",
    "\n",
    "prices_export_path = '../../res/reg/XGBoost/regressions/xgboost_estimated_prices-'+datetime.now().strftime(\"%m-%d-%Y-%H-%M\")+'.csv'\n",
    "regressor_export_path = '../../res/reg/XGBoost/xgboost_regressor'\n",
    "\n",
    "estimated_prices.to_csv(prices_export_path, index=False, header=True)\n",
    "regressor.save_model(regressor_export_path)"
   ]
  },
  {
   "cell_type": "code",
   "execution_count": 6,
   "metadata": {},
   "outputs": [
    {
     "data": {
      "text/html": [
       "<div>\n",
       "<style scoped>\n",
       "    .dataframe tbody tr th:only-of-type {\n",
       "        vertical-align: middle;\n",
       "    }\n",
       "\n",
       "    .dataframe tbody tr th {\n",
       "        vertical-align: top;\n",
       "    }\n",
       "\n",
       "    .dataframe thead th {\n",
       "        text-align: right;\n",
       "    }\n",
       "</style>\n",
       "<table border=\"1\" class=\"dataframe\">\n",
       "  <thead>\n",
       "    <tr style=\"text-align: right;\">\n",
       "      <th></th>\n",
       "      <th>id</th>\n",
       "      <th>target</th>\n",
       "    </tr>\n",
       "  </thead>\n",
       "  <tbody>\n",
       "    <tr>\n",
       "      <th>0</th>\n",
       "      <td>4941</td>\n",
       "      <td>7.299752e+06</td>\n",
       "    </tr>\n",
       "    <tr>\n",
       "      <th>1</th>\n",
       "      <td>51775</td>\n",
       "      <td>1.059309e+06</td>\n",
       "    </tr>\n",
       "    <tr>\n",
       "      <th>2</th>\n",
       "      <td>115253</td>\n",
       "      <td>2.432588e+06</td>\n",
       "    </tr>\n",
       "    <tr>\n",
       "      <th>3</th>\n",
       "      <td>299321</td>\n",
       "      <td>1.453222e+06</td>\n",
       "    </tr>\n",
       "    <tr>\n",
       "      <th>4</th>\n",
       "      <td>173570</td>\n",
       "      <td>6.898626e+05</td>\n",
       "    </tr>\n",
       "    <tr>\n",
       "      <th>...</th>\n",
       "      <td>...</td>\n",
       "      <td>...</td>\n",
       "    </tr>\n",
       "    <tr>\n",
       "      <th>59995</th>\n",
       "      <td>75094</td>\n",
       "      <td>3.637009e+06</td>\n",
       "    </tr>\n",
       "    <tr>\n",
       "      <th>59996</th>\n",
       "      <td>171847</td>\n",
       "      <td>7.503213e+05</td>\n",
       "    </tr>\n",
       "    <tr>\n",
       "      <th>59997</th>\n",
       "      <td>138313</td>\n",
       "      <td>8.360849e+05</td>\n",
       "    </tr>\n",
       "    <tr>\n",
       "      <th>59998</th>\n",
       "      <td>271268</td>\n",
       "      <td>1.585305e+06</td>\n",
       "    </tr>\n",
       "    <tr>\n",
       "      <th>59999</th>\n",
       "      <td>72612</td>\n",
       "      <td>2.240833e+06</td>\n",
       "    </tr>\n",
       "  </tbody>\n",
       "</table>\n",
       "<p>60000 rows × 2 columns</p>\n",
       "</div>"
      ],
      "text/plain": [
       "           id        target\n",
       "0        4941  7.299752e+06\n",
       "1       51775  1.059309e+06\n",
       "2      115253  2.432588e+06\n",
       "3      299321  1.453222e+06\n",
       "4      173570  6.898626e+05\n",
       "...       ...           ...\n",
       "59995   75094  3.637009e+06\n",
       "59996  171847  7.503213e+05\n",
       "59997  138313  8.360849e+05\n",
       "59998  271268  1.585305e+06\n",
       "59999   72612  2.240833e+06\n",
       "\n",
       "[60000 rows x 2 columns]"
      ]
     },
     "execution_count": 6,
     "metadata": {},
     "output_type": "execute_result"
    }
   ],
   "source": [
    "estimated_prices"
   ]
  },
  {
   "cell_type": "code",
   "execution_count": null,
   "metadata": {},
   "outputs": [],
   "source": []
  }
 ],
 "metadata": {
  "kernelspec": {
   "display_name": "Python 3",
   "language": "python",
   "name": "python3"
  },
  "language_info": {
   "codemirror_mode": {
    "name": "ipython",
    "version": 3
   },
   "file_extension": ".py",
   "mimetype": "text/x-python",
   "name": "python",
   "nbconvert_exporter": "python",
   "pygments_lexer": "ipython3",
   "version": "3.6.8"
  }
 },
 "nbformat": 4,
 "nbformat_minor": 2
}
