{
 "cells": [
  {
   "cell_type": "code",
   "execution_count": 6,
   "metadata": {},
   "outputs": [
    {
     "name": "stderr",
     "output_type": "stream",
     "text": [
      "/home/pablo/.local/lib/python3.6/site-packages/sklearn/externals/joblib/__init__.py:15: DeprecationWarning: sklearn.externals.joblib is deprecated in 0.21 and will be removed in 0.23. Please import this functionality directly from joblib, which can be installed with: pip install joblib. If this warning is raised when loading pickled models, you may need to re-serialize those models with scikit-learn 0.21+.\n",
      "  warnings.warn(msg, category=DeprecationWarning)\n"
     ]
    }
   ],
   "source": [
    "import pandas as pd\n",
    "import lightgbm as lgb\n",
    "import numpy as np\n",
    "from datetime import datetime\n",
    "\n",
    "from sklearn.externals import joblib\n",
    "    \n",
    "TRAIN_PATH = '../../res/ftr/base_data_train.csv'\n",
    "EVALUATION_PATH = '../../res/ftr/base_data_evaluation.csv'\n",
    "\n",
    "pd.set_option('display.max_columns', 30)\n",
    "\n",
    "training_set = pd.read_csv(TRAIN_PATH)\n",
    "evaluation_set = pd.read_csv(EVALUATION_PATH)\n",
    "\n",
    "training_set.drop(columns=['Unnamed: 0'], inplace=True)\n",
    "evaluation_set.drop(columns=['Unnamed: 0'], inplace=True)"
   ]
  },
  {
   "cell_type": "code",
   "execution_count": 2,
   "metadata": {},
   "outputs": [],
   "source": [
    "def load_features(train_df, evaluation_df, features_list):\n",
    "    for feature in features_list:\n",
    "        test_ftr = pd.read_csv('../../res/ftr/'+feature+'_train.csv')\n",
    "        evaluation_ftr = pd.read_csv('../../res/ftr/'+feature+'_evaluation.csv')\n",
    "    \n",
    "        train_df = train_df.merge(test_ftr, on='id', how='inner').drop(columns=['Unnamed: 0'])\n",
    "        evaluation_df = evaluation_df.merge(evaluation_ftr, on='id', how='inner').drop(columns=['Unnamed: 0'])\n",
    "    \n",
    "    return (train_df, evaluation_df)\n",
    "    \n",
    "features_array = ['amenities', 'avenida_in_direction', 'encoded_provincia', 'encoded_tipodepropiedad',\n",
    "                  'feature_hashed_ciudad', 'mean_precio_encoded_ciudad', 'mean_precio_encoded_provincia',\n",
    "                  'mean_precio_encoded_tipodepropiedad', 'metros_totales_y_cubiertos_log', 'murder_rate_of_entity',\n",
    "                  'provincia_borders_analysis', 'provincia_economy', 'qualificative_adjectives_in_description',\n",
    "                  'surface_features', 'mean_idzona_price','security_words_in_description',\n",
    "                  'metrostotales_bigger_than_metroscubiertos']\n",
    "(training_set, evaluation_set) = load_features(training_set, evaluation_set, features_array)"
   ]
  },
  {
   "cell_type": "code",
   "execution_count": 3,
   "metadata": {},
   "outputs": [
    {
     "data": {
      "text/plain": [
       "LGBMRegressor(boosting_type='gbdt', class_weight=None, colsample_bytree=0.5,\n",
       "              importance_type='split', learning_rate=0.015, max_depth=10,\n",
       "              min_child_samples=20, min_child_weight=25, min_split_gain=0.0,\n",
       "              n_estimators=3000, n_jobs=-1, num_leaves=31,\n",
       "              objective='regression', random_state=None, reg_alpha=0.0,\n",
       "              reg_lambda=0.0, silent=True, subsample=0.75,\n",
       "              subsample_for_bin=200000, subsample_freq=0)"
      ]
     },
     "execution_count": 3,
     "metadata": {},
     "output_type": "execute_result"
    }
   ],
   "source": [
    "training_set_X = training_set.drop(columns=['precio']).values\n",
    "training_set_Y = training_set['precio'].values\n",
    "\n",
    "lgb_train = lgb.Dataset(training_set_X, training_set_Y)\n",
    "\n",
    "gbm = lgb.LGBMRegressor(boosting_type='gbdt', objective='regression', max_depth=10, n_estimators=3000, learning_rate=0.015,\n",
    "                        min_child_weight=25, subsample=0.75, colsample_bytree=0.5)\n",
    "\n",
    "gbm.fit(training_set_X, training_set_Y)"
   ]
  },
  {
   "cell_type": "code",
   "execution_count": 4,
   "metadata": {},
   "outputs": [],
   "source": [
    "evaluation_set_prediction = gbm.predict(evaluation_set.values)"
   ]
  },
  {
   "cell_type": "code",
   "execution_count": 7,
   "metadata": {},
   "outputs": [
    {
     "data": {
      "text/html": [
       "<div>\n",
       "<style scoped>\n",
       "    .dataframe tbody tr th:only-of-type {\n",
       "        vertical-align: middle;\n",
       "    }\n",
       "\n",
       "    .dataframe tbody tr th {\n",
       "        vertical-align: top;\n",
       "    }\n",
       "\n",
       "    .dataframe thead th {\n",
       "        text-align: right;\n",
       "    }\n",
       "</style>\n",
       "<table border=\"1\" class=\"dataframe\">\n",
       "  <thead>\n",
       "    <tr style=\"text-align: right;\">\n",
       "      <th></th>\n",
       "      <th>id</th>\n",
       "      <th>target</th>\n",
       "    </tr>\n",
       "  </thead>\n",
       "  <tbody>\n",
       "    <tr>\n",
       "      <th>0</th>\n",
       "      <td>4941</td>\n",
       "      <td>7.146841e+06</td>\n",
       "    </tr>\n",
       "    <tr>\n",
       "      <th>1</th>\n",
       "      <td>51775</td>\n",
       "      <td>8.740380e+05</td>\n",
       "    </tr>\n",
       "    <tr>\n",
       "      <th>2</th>\n",
       "      <td>115253</td>\n",
       "      <td>2.309505e+06</td>\n",
       "    </tr>\n",
       "    <tr>\n",
       "      <th>3</th>\n",
       "      <td>299321</td>\n",
       "      <td>1.124081e+06</td>\n",
       "    </tr>\n",
       "    <tr>\n",
       "      <th>4</th>\n",
       "      <td>173570</td>\n",
       "      <td>7.098178e+05</td>\n",
       "    </tr>\n",
       "    <tr>\n",
       "      <th>...</th>\n",
       "      <td>...</td>\n",
       "      <td>...</td>\n",
       "    </tr>\n",
       "    <tr>\n",
       "      <th>59995</th>\n",
       "      <td>75094</td>\n",
       "      <td>3.621106e+06</td>\n",
       "    </tr>\n",
       "    <tr>\n",
       "      <th>59996</th>\n",
       "      <td>171847</td>\n",
       "      <td>7.040239e+05</td>\n",
       "    </tr>\n",
       "    <tr>\n",
       "      <th>59997</th>\n",
       "      <td>138313</td>\n",
       "      <td>9.982874e+05</td>\n",
       "    </tr>\n",
       "    <tr>\n",
       "      <th>59998</th>\n",
       "      <td>271268</td>\n",
       "      <td>1.571560e+06</td>\n",
       "    </tr>\n",
       "    <tr>\n",
       "      <th>59999</th>\n",
       "      <td>72612</td>\n",
       "      <td>2.160041e+06</td>\n",
       "    </tr>\n",
       "  </tbody>\n",
       "</table>\n",
       "<p>60000 rows × 2 columns</p>\n",
       "</div>"
      ],
      "text/plain": [
       "           id        target\n",
       "0        4941  7.146841e+06\n",
       "1       51775  8.740380e+05\n",
       "2      115253  2.309505e+06\n",
       "3      299321  1.124081e+06\n",
       "4      173570  7.098178e+05\n",
       "...       ...           ...\n",
       "59995   75094  3.621106e+06\n",
       "59996  171847  7.040239e+05\n",
       "59997  138313  9.982874e+05\n",
       "59998  271268  1.571560e+06\n",
       "59999   72612  2.160041e+06\n",
       "\n",
       "[60000 rows x 2 columns]"
      ]
     },
     "execution_count": 7,
     "metadata": {},
     "output_type": "execute_result"
    }
   ],
   "source": [
    "estimated_prices = pd.DataFrame()\n",
    "estimated_prices['id'] = evaluation_set['id']\n",
    "estimated_prices['target'] = evaluation_set_prediction\n",
    "\n",
    "prices_export_path = '../../res/reg/LightGBM/regressions/lightgbm_estimated_prices-'+datetime.now().strftime(\"%m-%d-%Y-%H-%M\")+'.csv'\n",
    "regressor_export_path = '../../res/reg/LightGBM/lightgbm_regressor'\n",
    "\n",
    "estimated_prices.to_csv(prices_export_path, index=False, header=True)\n",
    "joblib.dump(gbm, regressor_export_path)\n",
    "\n",
    "estimated_prices"
   ]
  },
  {
   "cell_type": "code",
   "execution_count": null,
   "metadata": {},
   "outputs": [],
   "source": []
  }
 ],
 "metadata": {
  "kernelspec": {
   "display_name": "Python 3",
   "language": "python",
   "name": "python3"
  },
  "language_info": {
   "codemirror_mode": {
    "name": "ipython",
    "version": 3
   },
   "file_extension": ".py",
   "mimetype": "text/x-python",
   "name": "python",
   "nbconvert_exporter": "python",
   "pygments_lexer": "ipython3",
   "version": "3.6.8"
  }
 },
 "nbformat": 4,
 "nbformat_minor": 2
}
