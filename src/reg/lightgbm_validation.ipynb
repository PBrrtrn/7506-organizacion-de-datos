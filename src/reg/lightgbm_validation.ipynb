{
 "cells": [
  {
   "cell_type": "code",
   "execution_count": 1,
   "metadata": {},
   "outputs": [],
   "source": [
    "import pandas as pd\n",
    "import lightgbm as lgb\n",
    "\n",
    "from sklearn.model_selection import train_test_split\n",
    "from sklearn.metrics import mean_absolute_error\n",
    "\n",
    "import numpy as np\n",
    "from datetime import datetime\n",
    "    \n",
    "TRAIN_PATH = '../../res/ftr/base_data_train.csv'\n",
    "EVALUATION_PATH = '../../res/ftr/base_data_evaluation.csv'\n",
    "\n",
    "pd.set_option('display.max_columns', 30)\n",
    "\n",
    "training_set = pd.read_csv(TRAIN_PATH)\n",
    "evaluation_set = pd.read_csv(EVALUATION_PATH)\n",
    "\n",
    "training_set.drop(columns=['Unnamed: 0'], inplace=True)\n",
    "evaluation_set.drop(columns=['Unnamed: 0'], inplace=True)"
   ]
  },
  {
   "cell_type": "code",
   "execution_count": 2,
   "metadata": {},
   "outputs": [],
   "source": [
    "def load_features(train_df, features_list):\n",
    "    for feature in features_list:\n",
    "        test_ftr = pd.read_csv('../../res/ftr/'+feature+'_train.csv')\n",
    "    \n",
    "        train_df = train_df.merge(test_ftr, on='id', how='inner').drop(columns=['Unnamed: 0'])\n",
    "    \n",
    "    return train_df\n",
    "    \n",
    "features_array = ['amenities', 'avenida_in_direction', 'encoded_provincia', 'encoded_tipodepropiedad', 'feature_hashed_ciudad',\n",
    "                  'mean_precio_encoded_ciudad', 'mean_precio_encoded_provincia', 'mean_precio_encoded_tipodepropiedad',\n",
    "                  'metros_totales_y_cubiertos_log', 'murder_rate_of_entity','provincia_borders_analysis', 'provincia_economy',\n",
    "                  'qualificative_adjectives_in_description', 'surface_features', 'mean_idzona_price', 'dolar_for_date']\n",
    "dataset = load_features(training_set, features_array)"
   ]
  },
  {
   "cell_type": "code",
   "execution_count": null,
   "metadata": {},
   "outputs": [],
   "source": [
    "dataset_X = dataset.drop(columns=['precio']).values\n",
    "dataset_Y = dataset['precio'].values\n",
    "\n",
    "lgb_dataset = lgb.Dataset(dataset_X, dataset_Y)\n",
    "\n",
    "params = {'objective': 'regression'}\n",
    "\n",
    "cv_results = lgb.cv(params, lgb_dataset, num_boost_round = 100, nfold = 10, metrics = 'mae', early_stopping_rounds = 10, stratified = False)"
   ]
  },
  {
   "cell_type": "code",
   "execution_count": null,
   "metadata": {},
   "outputs": [],
   "source": [
    "print(\"Final mean rmse score: %i\" % (cv_results['l1-mean'][-1]))"
   ]
  },
  {
   "cell_type": "code",
   "execution_count": null,
   "metadata": {},
   "outputs": [],
   "source": []
  }
 ],
 "metadata": {
  "kernelspec": {
   "display_name": "Python 3",
   "language": "python",
   "name": "python3"
  },
  "language_info": {
   "codemirror_mode": {
    "name": "ipython",
    "version": 3
   },
   "file_extension": ".py",
   "mimetype": "text/x-python",
   "name": "python",
   "nbconvert_exporter": "python",
   "pygments_lexer": "ipython3",
   "version": "3.6.8"
  }
 },
 "nbformat": 4,
 "nbformat_minor": 2
}
