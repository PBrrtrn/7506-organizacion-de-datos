{
 "cells": [
  {
   "cell_type": "code",
   "execution_count": 1,
   "metadata": {},
   "outputs": [
    {
     "data": {
      "text/html": [
       "<div>\n",
       "<style scoped>\n",
       "    .dataframe tbody tr th:only-of-type {\n",
       "        vertical-align: middle;\n",
       "    }\n",
       "\n",
       "    .dataframe tbody tr th {\n",
       "        vertical-align: top;\n",
       "    }\n",
       "\n",
       "    .dataframe thead th {\n",
       "        text-align: right;\n",
       "    }\n",
       "</style>\n",
       "<table border=\"1\" class=\"dataframe\">\n",
       "  <thead>\n",
       "    <tr style=\"text-align: right;\">\n",
       "      <th></th>\n",
       "      <th>id</th>\n",
       "      <th>target_xgboost</th>\n",
       "      <th>target_catboost</th>\n",
       "      <th>target_lightgbm</th>\n",
       "    </tr>\n",
       "  </thead>\n",
       "  <tbody>\n",
       "    <tr>\n",
       "      <th>0</th>\n",
       "      <td>4941</td>\n",
       "      <td>7299752.00</td>\n",
       "      <td>7.253335e+06</td>\n",
       "      <td>7.146841e+06</td>\n",
       "    </tr>\n",
       "    <tr>\n",
       "      <th>1</th>\n",
       "      <td>51775</td>\n",
       "      <td>1059308.90</td>\n",
       "      <td>1.355716e+06</td>\n",
       "      <td>8.740380e+05</td>\n",
       "    </tr>\n",
       "    <tr>\n",
       "      <th>2</th>\n",
       "      <td>115253</td>\n",
       "      <td>2432588.20</td>\n",
       "      <td>2.553191e+06</td>\n",
       "      <td>2.309505e+06</td>\n",
       "    </tr>\n",
       "    <tr>\n",
       "      <th>3</th>\n",
       "      <td>299321</td>\n",
       "      <td>1453222.40</td>\n",
       "      <td>1.468377e+06</td>\n",
       "      <td>1.124081e+06</td>\n",
       "    </tr>\n",
       "    <tr>\n",
       "      <th>4</th>\n",
       "      <td>173570</td>\n",
       "      <td>689862.56</td>\n",
       "      <td>6.013921e+05</td>\n",
       "      <td>7.098178e+05</td>\n",
       "    </tr>\n",
       "  </tbody>\n",
       "</table>\n",
       "</div>"
      ],
      "text/plain": [
       "       id  target_xgboost  target_catboost  target_lightgbm\n",
       "0    4941      7299752.00     7.253335e+06     7.146841e+06\n",
       "1   51775      1059308.90     1.355716e+06     8.740380e+05\n",
       "2  115253      2432588.20     2.553191e+06     2.309505e+06\n",
       "3  299321      1453222.40     1.468377e+06     1.124081e+06\n",
       "4  173570       689862.56     6.013921e+05     7.098178e+05"
      ]
     },
     "execution_count": 1,
     "metadata": {},
     "output_type": "execute_result"
    }
   ],
   "source": [
    "import pandas as pd\n",
    "from datetime import datetime\n",
    "\n",
    "xgboost_results = pd.read_csv('../../res/reg/XGBoost/regressions/xgboost_estimated_prices-12-01-2019-22-43.csv')\n",
    "catboost_results = pd.read_csv('../../res/reg/CatBoost/regressions/estimated_prices-12-01-2019-15-53.csv')\n",
    "lightgbm_results = pd.read_csv('../../res/reg/LightGBM/regressions/lightgbm_estimated_prices-12-01-2019-21-41.csv')\n",
    "\n",
    "results = xgboost_results.merge(catboost_results, on='id', suffixes=['_xgboost', '_catboost']).merge(lightgbm_results, on='id', suffixes=['','_lgbm'])\n",
    "results.rename(columns={'target':'target_lightgbm'}, inplace=True)\n",
    "\n",
    "results.head()"
   ]
  },
  {
   "cell_type": "code",
   "execution_count": 2,
   "metadata": {},
   "outputs": [
    {
     "data": {
      "text/html": [
       "<div>\n",
       "<style scoped>\n",
       "    .dataframe tbody tr th:only-of-type {\n",
       "        vertical-align: middle;\n",
       "    }\n",
       "\n",
       "    .dataframe tbody tr th {\n",
       "        vertical-align: top;\n",
       "    }\n",
       "\n",
       "    .dataframe thead th {\n",
       "        text-align: right;\n",
       "    }\n",
       "</style>\n",
       "<table border=\"1\" class=\"dataframe\">\n",
       "  <thead>\n",
       "    <tr style=\"text-align: right;\">\n",
       "      <th></th>\n",
       "      <th>id</th>\n",
       "      <th>target</th>\n",
       "    </tr>\n",
       "  </thead>\n",
       "  <tbody>\n",
       "    <tr>\n",
       "      <th>0</th>\n",
       "      <td>4941</td>\n",
       "      <td>7.233309e+06</td>\n",
       "    </tr>\n",
       "    <tr>\n",
       "      <th>1</th>\n",
       "      <td>51775</td>\n",
       "      <td>1.096354e+06</td>\n",
       "    </tr>\n",
       "    <tr>\n",
       "      <th>2</th>\n",
       "      <td>115253</td>\n",
       "      <td>2.431762e+06</td>\n",
       "    </tr>\n",
       "    <tr>\n",
       "      <th>3</th>\n",
       "      <td>299321</td>\n",
       "      <td>1.348560e+06</td>\n",
       "    </tr>\n",
       "    <tr>\n",
       "      <th>4</th>\n",
       "      <td>173570</td>\n",
       "      <td>6.670241e+05</td>\n",
       "    </tr>\n",
       "  </tbody>\n",
       "</table>\n",
       "</div>"
      ],
      "text/plain": [
       "       id        target\n",
       "0    4941  7.233309e+06\n",
       "1   51775  1.096354e+06\n",
       "2  115253  2.431762e+06\n",
       "3  299321  1.348560e+06\n",
       "4  173570  6.670241e+05"
      ]
     },
     "execution_count": 2,
     "metadata": {},
     "output_type": "execute_result"
    }
   ],
   "source": [
    "results['target'] = (results['target_xgboost'] + results['target_catboost'] + results['target_lightgbm'])/3\n",
    "estimated_prices = results.drop(columns = ['target_lightgbm', 'target_catboost', 'target_xgboost'])\n",
    "\n",
    "estimated_prices.head()"
   ]
  },
  {
   "cell_type": "code",
   "execution_count": 3,
   "metadata": {},
   "outputs": [],
   "source": [
    "estimated_prices.to_csv('../../res/reg/avgs_estimated_prices-'+datetime.now().strftime(\"%m-%d-%Y-%H-%M\")+'.csv', index=False, header=True)"
   ]
  }
 ],
 "metadata": {
  "kernelspec": {
   "display_name": "Python 3",
   "language": "python",
   "name": "python3"
  },
  "language_info": {
   "codemirror_mode": {
    "name": "ipython",
    "version": 3
   },
   "file_extension": ".py",
   "mimetype": "text/x-python",
   "name": "python",
   "nbconvert_exporter": "python",
   "pygments_lexer": "ipython3",
   "version": "3.6.8"
  }
 },
 "nbformat": 4,
 "nbformat_minor": 2
}
